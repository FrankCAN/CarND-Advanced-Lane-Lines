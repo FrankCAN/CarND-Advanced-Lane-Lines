{
 "cells": [
  {
   "cell_type": "code",
   "execution_count": 6,
   "metadata": {},
   "outputs": [],
   "source": [
    "import os\n",
    "import numpy as np\n",
    "import cv2\n",
    "import matplotlib.pyplot as plt\n",
    "import matplotlib.image as mpimg\n",
    "import pickle\n",
    "import glob\n",
    "import scipy\n",
    "from scipy import signal\n",
    "from collections import deque\n",
    "import imageio\n",
    "imageio.plugins.ffmpeg.download()\n",
    "# Import everything needed to edit/save/watch video clips\n",
    "from moviepy.editor import VideoFileClip\n",
    "from IPython.display import HTML\n",
    "\n",
    "# load pickled distortion matrix\n",
    "with open('camera_dist_pickle.p', mode='rb') as f:\n",
    "    dist_pickle = pickle.load(f)\n",
    "    mtx = dist_pickle[\"mtx\"]\n",
    "    dist = dist_pickle[\"dist\"]    \n",
    "\n",
    "def region_of_interest(img):\n",
    "    \"\"\"\n",
    "    Applies an image mask.\n",
    "    \n",
    "    Only keeps the region of the image defined by the polygon\n",
    "    formed from `vertices`. The rest of the image is set to black.\n",
    "    \"\"\"    \n",
    "    shape = img.shape\n",
    "    vertices = np.array([[(0,0),(shape[1],0),(shape[1],0),(6*shape[1]/7,shape[0]),\n",
    "                      (shape[1]/7,shape[0]), (0,0)]],dtype=np.int32)\n",
    "\n",
    "    mask = np.zeros_like(img)   \n",
    "    \n",
    "    #defining a 3 channel or 1 channel color to fill the mask with depending on the input image\n",
    "    if len(img.shape) > 2:\n",
    "        channel_count = img.shape[2]  # i.e. 3 or 4 depending on your image\n",
    "        ignore_mask_color = (255,) * channel_count\n",
    "    else:\n",
    "        ignore_mask_color = 255\n",
    "        \n",
    "    #filling pixels inside the polygon defined by \"vertices\" with the fill color    \n",
    "    cv2.fillPoly(mask, vertices, ignore_mask_color)\n",
    "    \n",
    "    #returning the image only where mask pixels are nonzero\n",
    "    masked_image = cv2.bitwise_and(img, mask)\n",
    "    return masked_image\n",
    "\n",
    "def undistort(img):\n",
    "    result = cv2.undistort(img, mtx, dist, None, mtx)\n",
    "    return result\n",
    "\n",
    "def binarize(img, s_thresh=(120, 255), sx_thresh=(20, 255),l_thresh=(40,255)):\n",
    "    img = np.copy(img)\n",
    "    \n",
    "    # Convert to HLS color space and separate the V channel\n",
    "    hls = cv2.cvtColor(img, cv2.COLOR_RGB2HLS).astype(np.float)\n",
    "    #h_channel = hls[:,:,0]\n",
    "    l_channel = hls[:,:,1]\n",
    "    s_channel = hls[:,:,2]\n",
    "    # Sobel x\n",
    "    # sobelx = abs_sobel_thresh(img, orient='x', sobel_kernel=3, thresh=(0, 255))\n",
    "    # l_channel_col=np.dstack((l_channel,l_channel, l_channel))\n",
    "    sobelx = cv2.Sobel(l_channel, cv2.CV_64F, 1, 0) # Take the derivative in x\n",
    "    abs_sobelx = np.absolute(sobelx) # Absolute x derivative to accentuate lines away from horizontal\n",
    "    scaled_sobel = np.uint8(255*abs_sobelx/np.max(abs_sobelx))\n",
    "    \n",
    "    # Threshold x gradient\n",
    "    sxbinary = np.zeros_like(scaled_sobel)\n",
    "    sxbinary[(scaled_sobel >= sx_thresh[0]) & (scaled_sobel <= sx_thresh[1])] = 1\n",
    "    \n",
    "    # Threshold saturation channel\n",
    "    s_binary = np.zeros_like(s_channel)\n",
    "    s_binary[(s_channel >= s_thresh[0]) & (s_channel <= s_thresh[1])] = 1\n",
    "\n",
    "    # Threshold lightness\n",
    "    l_binary = np.zeros_like(l_channel)\n",
    "    l_binary[(l_channel >= l_thresh[0]) & (l_channel <= l_thresh[1])] = 1\n",
    "    \n",
    "    channels = 255*np.dstack(( l_binary, sxbinary, s_binary)).astype('uint8')        \n",
    "    binary = np.zeros_like(sxbinary)\n",
    "    binary[((l_binary == 1) & (s_binary == 1) | (sxbinary==1))] = 1\n",
    "    binary = 255*np.dstack((binary,binary,binary)).astype('uint8')            \n",
    "    return  binary,channels\n",
    "\n",
    "def warp(img,tobird=True):\n",
    "    corners = np.float32([[190,720],[589,457],[698,457],[1145,720]])\n",
    "    new_top_left=np.array([corners[0,0],0])\n",
    "    new_top_right=np.array([corners[3,0],0])\n",
    "    offset=[150,0]\n",
    "    \n",
    "    img_size = (img.shape[1], img.shape[0])\n",
    "    src = np.float32([corners[0],corners[1],corners[2],corners[3]])\n",
    "    dst = np.float32([corners[0]+offset,new_top_left+offset,new_top_right-offset ,corners[3]-offset])    \n",
    "    if tobird:\n",
    "        M = cv2.getPerspectiveTransform(src, dst)\n",
    "    else:\n",
    "        M = cv2.getPerspectiveTransform(dst,src)\n",
    "    warped = cv2.warpPerspective(img, M, img_size , flags=cv2.INTER_LINEAR)    \n",
    "    return warped, M\n",
    "\n",
    "\n",
    "def find_peaks(img,thresh):\n",
    "    img_half=img[img.shape[0]//2:,:,0]\n",
    "    data = np.sum(img_half, axis=0)\n",
    "    filtered = scipy.ndimage.filters.gaussian_filter1d(data,20)\n",
    "    xs = np.arange(len(filtered))\n",
    "    peak_ind = signal.find_peaks_cwt(filtered, np.arange(20,300))\n",
    "    peaks = np.array(peak_ind)\n",
    "    peaks = peaks[filtered[peak_ind]>thresh]\n",
    "    return peaks,filtered\n",
    "\n",
    "\n",
    "def get_next_window(img,center_point,width):\n",
    "    \"\"\"\n",
    "    input: img,center_point,width\n",
    "        img: binary 3 channel image\n",
    "        center_point: center of window\n",
    "        width: width of window\n",
    "    \n",
    "    output: masked,center_point\n",
    "        masked : a masked image of the same size. mask is a window centered at center_point\n",
    "        center : the mean ofall pixels found within the window\n",
    "    \"\"\"\n",
    "    \n",
    "    ny,nx,_ = img.shape\n",
    "    mask  = np.zeros_like(img)\n",
    "    if (center_point <= width/2): center_point = width/2\n",
    "    if (center_point >= nx-width/2): center_point = nx-width/2\n",
    "    \n",
    "    left  = center_point - width/2\n",
    "    right = center_point + width/2\n",
    "    \n",
    "    vertices = np.array([[(left,0),(left,ny), (right,ny),(right,0)]], dtype=np.int32)\n",
    "    ignore_mask_color=(255,255,255)\n",
    "    cv2.fillPoly(mask, vertices, ignore_mask_color)\n",
    "    masked = cv2.bitwise_and(mask,img)\n",
    "\n",
    "    hist = np.sum(masked[:,:,0],axis=0)\n",
    "    if max(hist>10000):\n",
    "        center = np.argmax(hist)\n",
    "    else:\n",
    "        center = center_point\n",
    "        \n",
    "    return masked,center\n",
    "\n",
    "def lane_from_window(binary,center_point,width):\n",
    "    n_zones=6\n",
    "    ny,nx,nc = binary.shape\n",
    "    zones = binary.reshape(n_zones,-1,nx,nc)\n",
    "    zones = zones[::-1] # start from the bottom slice\n",
    "    window,center = get_next_window(zones[0],center_point,width)\n",
    "    \n",
    "    for zone in zones[1:]:\n",
    "        next_window,center = get_next_window(zone,center,width)\n",
    "        window = np.vstack((next_window,window))\n",
    "    \n",
    "    return window\n",
    "\n",
    "\n",
    "# Define a class to receive the characteristics of each line detection\n",
    "class Line:\n",
    "    def __init__(self,n=5):\n",
    "        # length of queue to store data\n",
    "        self.n = n\n",
    "        #number of fits in buffer\n",
    "        self.n_buffered = 0\n",
    "        # was the line detected in the last iteration?\n",
    "        self.detected = False  \n",
    "        # x values of the last n fits of the line\n",
    "        self.recent_xfitted = deque([],maxlen=n)\n",
    "        #average x values of the fitted line over the last n iterations\n",
    "        self.avgx = None\n",
    "        # fit coeffs of the last n fits\n",
    "        self.recent_fit_coeffs = deque([],maxlen=n)        \n",
    "        #polynomial coefficients averaged over the last n iterations\n",
    "        self.avg_fit_coeffs = None  \n",
    "        # xvals of the most recent fit\n",
    "        self.current_fit_xvals = [np.array([False])]  \n",
    "        #polynomial coefficients for the most recent fit\n",
    "        self.current_fit_coeffs = [np.array([False])]          \n",
    "        #x values for detected line pixels\n",
    "        self.allx = None  \n",
    "        #y values for detected line pixels\n",
    "        self.ally = None\n",
    "        #y values for line fit\n",
    "        self.fit_yvals = np.linspace(0, 100, num=101)*7.2  # always the same y-range as image\n",
    "        #radius of curvature of the line in some units\n",
    "        self.radius_of_curvature = None \n",
    "        # origin (pixels) of fitted line at the bottom of the image\n",
    "        self.line_pos = None \n",
    "        #distance in meters of vehicle center from the line\n",
    "        self.line_base_pos = None \n",
    "        #difference in fit coefficients between last and new fits\n",
    "        self.diffs = np.array([0,0,0], dtype='float') \n",
    "        self.ym_per_pix = 3.048/100 \n",
    "        self.xm_per_pix = 3.7/600\n",
    "        \n",
    "        \n",
    "\n",
    "    def set_current_fit_xvals(self):\n",
    "        yvals = self.fit_yvals\n",
    "        self.current_fit_xvals = self.current_fit_coeffs[0]*yvals**2 + self.current_fit_coeffs[1]*yvals + self.current_fit_coeffs[2]\n",
    "        \n",
    "    def add_data(self):\n",
    "        self.recent_xfitted.appendleft(self.current_fit_xvals)\n",
    "        self.recent_fit_coeffs.appendleft(self.current_fit_coeffs)\n",
    "        assert len(self.recent_xfitted)==len(self.recent_fit_coeffs)\n",
    "        self.n_buffered = len(self.recent_xfitted)\n",
    "        \n",
    "    def pop_data(self):        \n",
    "        if self.n_buffered>0:\n",
    "            self.recent_xfitted.pop()\n",
    "            self.recent_fit_coeffs.pop()\n",
    "            assert len(self.recent_xfitted)==len(self.recent_fit_coeffs)\n",
    "            self.n_buffered = len(self.recent_xfitted)\n",
    "        \n",
    "        return self.n_buffered\n",
    "        \n",
    "    def set_avgx(self):\n",
    "        fits = self.recent_xfitted\n",
    "        if len(fits)>0:\n",
    "            avg=0\n",
    "            for fit in fits:\n",
    "                avg +=np.array(fit)\n",
    "            avg = avg / len(fits)\n",
    "            self.avgx = avg\n",
    "            \n",
    "    def set_avgcoeffs(self):\n",
    "        coeffs = self.recent_fit_coeffs\n",
    "        if len(coeffs)>0:\n",
    "            avg=0\n",
    "            for coeff in coeffs:\n",
    "                avg +=np.array(coeff)\n",
    "            avg = avg / len(coeffs)\n",
    "            self.avg_fit_coeffs = avg\n",
    "    \n",
    "    def set_allxy(self,lane_candidate):\n",
    "        self.ally,self.allx = (lane_candidate[:,:,0]>254).nonzero()\n",
    "\n",
    "    def set_current_fit_coeffs(self):\n",
    "        self.current_fit_coeffs = np.polyfit(self.ally, self.allx, 2)\n",
    "    \n",
    "    def get_diffs(self):\n",
    "        if self.n_buffered>0:\n",
    "            self.diffs = self.current_fit_coeffs - self.avg_fit_coeffs\n",
    "        else:\n",
    "            self.diffs = np.array([0,0,0], dtype='float')                 \n",
    "            \n",
    "    def set_radius_of_curvature(self):\n",
    "        # Define y-value where we want radius of curvature (choose bottom of the image)\n",
    "        y_eval = max(self.fit_yvals)\n",
    "        if self.avg_fit_coeffs is not None:\n",
    "            self.radius_of_curvature = ((1 + (2*self.avg_fit_coeffs[0]*y_eval + self.avg_fit_coeffs[1])**2)**1.5) \\\n",
    "                             /np.absolute(2*self.avg_fit_coeffs[0])\n",
    "            \n",
    "    def set_radius_of_curvature_meter(self):\n",
    "        # Define y-value where we want radius of curvature (choose bottom of the image)\n",
    "        y_eval = max(self.fit_yvals)\n",
    "        fit_coeffs_2 = np.polyfit(self.ally*self.ym_per_pix, self.allx*self.xm_per_pix, 2)\n",
    "        self.radius_of_curvature = ((1 + (2*fit_coeffs_2[0]*y_eval*self.ym_per_pix + fit_coeffs_2[1])**2)**1.5) \\\n",
    "                             /np.absolute(2*fit_coeffs_2[0])\n",
    "                        \n",
    "            \n",
    "    def set_line_base_pos(self):\n",
    "        y_eval = max(self.fit_yvals)\n",
    "        self.line_pos = self.current_fit_coeffs[0]*y_eval**2 \\\n",
    "                        +self.current_fit_coeffs[1]*y_eval \\\n",
    "                        + self.current_fit_coeffs[2]\n",
    "        basepos = 640\n",
    "        \n",
    "        self.line_base_pos = (self.line_pos - basepos)*3.7/600.0 # 3.7 meters is about 600 pixels in the x direction\n",
    "\n",
    "    # here come sanity checks of the computed metrics\n",
    "    def accept_lane(self):\n",
    "        flag = True\n",
    "        maxdist = 2.8  # distance in meters from the lane\n",
    "        if(abs(self.line_base_pos) > maxdist ):\n",
    "            print('lane too far away')\n",
    "            flag  = False        \n",
    "        if(self.n_buffered > 0):\n",
    "            relative_delta = self.diffs / self.avg_fit_coeffs\n",
    "            # allow maximally this percentage of variation in the fit coefficients from frame to frame\n",
    "            if not (abs(relative_delta)<np.array([0.7,0.5,0.15])).all():\n",
    "                print('fit coeffs too far off [%]',relative_delta)\n",
    "                flag=False\n",
    "                \n",
    "        return flag\n",
    "    \n",
    "    def update(self,lane):\n",
    "        self.set_allxy(lane)\n",
    "        self.set_current_fit_coeffs()\n",
    "        self.set_current_fit_xvals()\n",
    "        self.set_radius_of_curvature_meter()\n",
    "        self.set_line_base_pos()\n",
    "        self.get_diffs()\n",
    "        if self.accept_lane():\n",
    "            self.detected=True\n",
    "            self.add_data()\n",
    "            self.set_avgx()\n",
    "            self.set_avgcoeffs()            \n",
    "        else:\n",
    "            self.detected=False            \n",
    "            self.pop_data()\n",
    "            if self.n_buffered>0:\n",
    "                self.set_avgx()\n",
    "                self.set_avgcoeffs()\n",
    "                    \n",
    "        return self.detected,self.n_buffered\n",
    "    \n",
    "def get_binary_lane_image(img,line,window_center,width=300):\n",
    "    if line.detected:\n",
    "        window_center=line.line_pos\n",
    "    else:\n",
    "        peaks,filtered = find_peaks(img,thresh=3000)\n",
    "        if len(peaks)!=2:\n",
    "            print('Trouble ahead! '+ str(len(peaks)) +' lanes detected!')\n",
    "            plt.imsave('troublesome_image.jpg',img)                        \n",
    "            \n",
    "        peak_ind = np.argmin(abs(peaks-window_center))\n",
    "        peak  = peaks[peak_ind]\n",
    "        window_center = peak\n",
    "    \n",
    "    lane_binary = lane_from_window(img,window_center,width)\n",
    "    return lane_binary \n",
    "\n",
    "\n",
    "def project_lane_lines(img,left_fitx,right_fitx,yvals):\n",
    "    \n",
    "    # Create an image to draw the lines on\n",
    "    color_warp = np.zeros_like(img).astype(np.uint8)\n",
    "\n",
    "    # Recast the x and y points into usable format for cv2.fillPoly()\n",
    "    pts_left = np.array([np.transpose(np.vstack([left_fitx, yvals]))])\n",
    "    pts_right = np.array([np.flipud(np.transpose(np.vstack([right_fitx, yvals])))])\n",
    "    pts = np.hstack((pts_left, pts_right))\n",
    "\n",
    "    # Draw the lane onto the warped blank image\n",
    "    cv2.fillPoly(color_warp, np.int_([pts]), (0,255, 0))\n",
    "    undist = undistort(img)    \n",
    "    unwarp,Minv = warp(img,tobird=False)\n",
    "\n",
    "    # Warp the blank back to original image space using inverse perspective matrix (Minv)\n",
    "    newwarp = cv2.warpPerspective(color_warp, Minv, (img.shape[1], img.shape[0])) \n",
    "    # Combine the result with the original image\n",
    "    result = cv2.addWeighted(undist, 1, newwarp, 0.3, 0)\n",
    "    return result\n",
    "\n",
    "def process_image(img):\n",
    "    global left\n",
    "    global right\n",
    "    undist = undistort(img)\n",
    "    binary,_  = binarize(undist)\n",
    "    warped,_  = warp(binary)\n",
    "    warped_binary = region_of_interest(warped)\n",
    "    \n",
    "    window_center_l = 340\n",
    "    if left.detected:\n",
    "        window_center_l = left.line_pos        \n",
    "    left_binary = get_binary_lane_image(warped_binary,left,window_center_l,width=300)\n",
    "    \n",
    "    window_center_r = 940\n",
    "    if right.detected:\n",
    "        window_center_r = right.line_pos        \n",
    "    right_binary = get_binary_lane_image(warped_binary,right,window_center_r,width=300)\n",
    "    \n",
    "    detected_l,n_buffered_left = left.update(left_binary)\n",
    "    detected_r,n_buffered_right = right.update(right_binary)    \n",
    "    \n",
    "    left_fitx = left.avgx\n",
    "    right_fitx = right.avgx\n",
    "    yvals = left.fit_yvals\n",
    "    lane_width = 3.7\n",
    "    off_center = 100*round(0.5*(right.line_base_pos-lane_width/2) +  0.5*(abs(left.line_base_pos)-lane_width/2),2)\n",
    "    \n",
    "    result = project_lane_lines(img,left_fitx,right_fitx,yvals)\n",
    "    \n",
    "    font = cv2.FONT_HERSHEY_SIMPLEX\n",
    "    str1 = str('distance from center: '+str(off_center)+'cm')\n",
    "    cv2.putText(result,str1,(430,630), font, 1,(0,0,255),2,cv2.LINE_AA)\n",
    "    if left.radius_of_curvature and right.radius_of_curvature:\n",
    "        curvature = 0.5*(round(right.radius_of_curvature/1000,1) + round(left.radius_of_curvature/1000,1))\n",
    "        str2 = str('radius of curvature: '+str(curvature)+'km')\n",
    "        cv2.putText(result,str2,(430,670), font, 1,(0,0,255),2,cv2.LINE_AA)    \n",
    "    \n",
    "    return result"
   ]
  },
  {
   "cell_type": "code",
   "execution_count": 7,
   "metadata": {},
   "outputs": [
    {
     "data": {
      "image/png": "[encoded data removed]",
      "text/plain": [
       "<Figure size 432x288 with 1 Axes>"
      ]
     },
     "metadata": {},
     "output_type": "display_data"
    }
   ],
   "source": [
    "left = Line(7)\n",
    "right = Line(7)\n",
    "img = plt.imread('test_images/test6.jpg')\n",
    "result = process_image(img)\n",
    "result = process_image(img)\n",
    "\n",
    "plt.figure()\n",
    "plt.imshow(result)\n",
    "plt.show()"
   ]
  },
  {
   "cell_type": "code",
   "execution_count": 8,
   "metadata": {},
   "outputs": [
    {
     "name": "stdout",
     "output_type": "stream",
     "text": [
      "[MoviePy] >>>> Building video ./processed_project_video.mp4\n",
      "[MoviePy] Writing video ./processed_project_video.mp4\n"
     ]
    },
    {
     "name": "stderr",
     "output_type": "stream",
     "text": [
      "\n",
      "  0%|          | 0/1261 [00:00<?, ?it/s]\u001b[A\n",
      "  0%|          | 1/1261 [00:00<03:53,  5.39it/s]\u001b[A\n",
      "  0%|          | 2/1261 [00:00<03:55,  5.35it/s]\u001b[A\n",
      "  0%|          | 3/1261 [00:00<04:11,  5.01it/s]\u001b[A\n",
      "  0%|          | 4/1261 [00:00<04:07,  5.07it/s]\u001b[A\n",
      "  0%|          | 5/1261 [00:00<04:08,  5.04it/s]\u001b[A\n",
      "  0%|          | 6/1261 [00:01<04:08,  5.05it/s]\u001b[A\n",
      "  1%|          | 7/1261 [00:01<04:00,  5.22it/s]\u001b[A\n",
      "  1%|          | 8/1261 [00:01<03:52,  5.39it/s]\u001b[A\n",
      "  1%|          | 9/1261 [00:01<03:48,  5.48it/s]\u001b[A\n",
      "  1%|          | 10/1261 [00:01<03:44,  5.56it/s]\u001b[A\n",
      "  1%|          | 11/1261 [00:01<03:37,  5.74it/s]\u001b[A\n",
      "  1%|          | 12/1261 [00:02<03:32,  5.87it/s]\u001b[A\n",
      "  1%|          | 13/1261 [00:02<03:33,  5.84it/s]\u001b[A\n",
      "  1%|          | 14/1261 [00:02<03:34,  5.82it/s]\u001b[A"
     ]
    },
    {
     "name": "stdout",
     "output_type": "stream",
     "text": [
      "fit coeffs too far off [%] [ 1.14726564  0.36421693 -0.01976738]\n"
     ]
    },
    {
     "name": "stderr",
     "output_type": "stream",
     "text": [
      "\n",
      "  1%|          | 15/1261 [00:02<03:40,  5.66it/s]\u001b[A"
     ]
    },
    {
     "name": "stdout",
     "output_type": "stream",
     "text": [
      "fit coeffs too far off [%] [ 0.94653851  0.36107447 -0.03650713]\n"
     ]
    },
    {
     "name": "stderr",
     "output_type": "stream",
     "text": [
      "\n",
      "  1%|▏         | 16/1261 [00:02<03:45,  5.52it/s]\u001b[A"
     ]
    },
    {
     "name": "stdout",
     "output_type": "stream",
     "text": [
      "fit coeffs too far off [%] [ 0.99605888  0.40623537 -0.05145402]\n"
     ]
    },
    {
     "name": "stderr",
     "output_type": "stream",
     "text": [
      "\n",
      "  1%|▏         | 17/1261 [00:03<03:47,  5.47it/s]\u001b[A"
     ]
    },
    {
     "name": "stdout",
     "output_type": "stream",
     "text": [
      "fit coeffs too far off [%] [ 0.73232859  0.34530964 -0.05160299]\n"
     ]
    },
    {
     "name": "stderr",
     "output_type": "stream",
     "text": [
      "\n",
      "  1%|▏         | 18/1261 [00:03<03:52,  5.34it/s]\u001b[A"
     ]
    },
    {
     "name": "stdout",
     "output_type": "stream",
     "text": [
      "fit coeffs too far off [%] [ 0.87737235  0.42494902 -0.06139318]\n"
     ]
    },
    {
     "name": "stderr",
     "output_type": "stream",
     "text": [
      "\n",
      "  2%|▏         | 19/1261 [00:03<03:56,  5.24it/s]\u001b[A"
     ]
    },
    {
     "name": "stdout",
     "output_type": "stream",
     "text": [
      "fit coeffs too far off [%] [ 1.13549994  0.46321597 -0.05687629]\n"
     ]
    },
    {
     "name": "stderr",
     "output_type": "stream",
     "text": [
      "\n",
      "  2%|▏         | 20/1261 [00:03<03:59,  5.18it/s]\u001b[A"
     ]
    },
    {
     "name": "stdout",
     "output_type": "stream",
     "text": [
      "fit coeffs too far off [%] [ 1.61555302  0.47718122 -0.04765662]\n"
     ]
    },
    {
     "name": "stderr",
     "output_type": "stream",
     "text": [
      "\n",
      "  2%|▏         | 21/1261 [00:04<04:03,  5.10it/s]\u001b[A\n",
      "  2%|▏         | 22/1261 [00:04<04:02,  5.12it/s]\u001b[A\n",
      "  2%|▏         | 23/1261 [00:04<04:01,  5.12it/s]\u001b[A\n",
      "  2%|▏         | 24/1261 [00:04<04:02,  5.10it/s]\u001b[A\n",
      "  2%|▏         | 25/1261 [00:04<04:02,  5.10it/s]\u001b[A\n",
      "  2%|▏         | 26/1261 [00:05<04:01,  5.12it/s]\u001b[A\n",
      "  2%|▏         | 27/1261 [00:05<04:00,  5.14it/s]\u001b[A\n",
      "  2%|▏         | 28/1261 [00:05<03:58,  5.16it/s]\u001b[A\n",
      "  2%|▏         | 29/1261 [00:05<03:57,  5.19it/s]\u001b[A\n",
      "  2%|▏         | 30/1261 [00:05<03:57,  5.19it/s]\u001b[A\n",
      "  2%|▏         | 31/1261 [00:05<03:57,  5.17it/s]\u001b[A\n",
      "  3%|▎         | 32/1261 [00:06<03:56,  5.19it/s]\u001b[A\n",
      "  3%|▎         | 33/1261 [00:06<03:55,  5.21it/s]\u001b[A\n",
      "  3%|▎         | 34/1261 [00:06<03:54,  5.23it/s]\u001b[A\n",
      "  3%|▎         | 35/1261 [00:06<03:53,  5.26it/s]\u001b[A\n",
      "  3%|▎         | 36/1261 [00:06<03:52,  5.27it/s]\u001b[A\n",
      "  3%|▎         | 37/1261 [00:07<03:51,  5.28it/s]\u001b[A\n",
      "  3%|▎         | 38/1261 [00:07<03:50,  5.30it/s]\u001b[A\n",
      "  3%|▎         | 39/1261 [00:07<03:50,  5.29it/s]\u001b[A\n",
      "  3%|▎         | 40/1261 [00:07<03:49,  5.31it/s]\u001b[A\n",
      "  3%|▎         | 41/1261 [00:07<03:49,  5.33it/s]\u001b[A\n",
      "  3%|▎         | 42/1261 [00:07<03:48,  5.33it/s]\u001b[A\n",
      "  3%|▎         | 43/1261 [00:08<03:49,  5.31it/s]\u001b[A\n",
      "  3%|▎         | 44/1261 [00:08<03:48,  5.32it/s]\u001b[A\n",
      "  4%|▎         | 45/1261 [00:08<03:48,  5.33it/s]\u001b[A\n",
      "  4%|▎         | 46/1261 [00:08<03:48,  5.32it/s]\u001b[A\n",
      "  4%|▎         | 47/1261 [00:08<03:48,  5.32it/s]\u001b[A\n",
      "  4%|▍         | 48/1261 [00:09<03:48,  5.32it/s]\u001b[A\n",
      "  4%|▍         | 49/1261 [00:09<03:47,  5.33it/s]\u001b[A\n",
      "  4%|▍         | 50/1261 [00:09<03:47,  5.33it/s]\u001b[A\n",
      "  4%|▍         | 51/1261 [00:09<03:47,  5.33it/s]\u001b[A\n",
      "  4%|▍         | 52/1261 [00:09<03:46,  5.33it/s]\u001b[A\n",
      "  4%|▍         | 53/1261 [00:09<03:46,  5.33it/s]\u001b[A\n",
      "  4%|▍         | 54/1261 [00:10<03:47,  5.31it/s]\u001b[A\n",
      "  4%|▍         | 55/1261 [00:10<03:47,  5.31it/s]\u001b[A\n",
      "  4%|▍         | 56/1261 [00:10<03:47,  5.29it/s]\u001b[A\n",
      "  5%|▍         | 57/1261 [00:10<03:47,  5.30it/s]\u001b[A\n",
      "  5%|▍         | 58/1261 [00:10<03:46,  5.31it/s]\u001b[A\n",
      "  5%|▍         | 59/1261 [00:11<03:46,  5.31it/s]\u001b[A\n",
      "  5%|▍         | 60/1261 [00:11<03:45,  5.32it/s]\u001b[A\n",
      "  5%|▍         | 61/1261 [00:11<03:45,  5.32it/s]\u001b[A\n",
      "  5%|▍         | 62/1261 [00:11<03:44,  5.33it/s]\u001b[A\n",
      "  5%|▍         | 63/1261 [00:11<03:44,  5.34it/s]\u001b[A\n",
      "  5%|▌         | 64/1261 [00:12<03:44,  5.32it/s]\u001b[A\n",
      "  5%|▌         | 65/1261 [00:12<03:44,  5.33it/s]\u001b[A\n",
      "  5%|▌         | 66/1261 [00:12<03:43,  5.34it/s]\u001b[A\n",
      "  5%|▌         | 67/1261 [00:12<03:43,  5.35it/s]\u001b[A\n",
      "  5%|▌         | 68/1261 [00:12<03:43,  5.34it/s]\u001b[A\n",
      "  5%|▌         | 69/1261 [00:12<03:42,  5.35it/s]\u001b[A\n",
      "  6%|▌         | 70/1261 [00:13<03:42,  5.35it/s]\u001b[A\n",
      "  6%|▌         | 71/1261 [00:13<03:42,  5.36it/s]\u001b[A\n",
      "  6%|▌         | 72/1261 [00:13<03:42,  5.35it/s]\u001b[A\n",
      "  6%|▌         | 73/1261 [00:13<03:42,  5.35it/s]\u001b[A\n",
      "  6%|▌         | 74/1261 [00:13<03:42,  5.34it/s]\u001b[A"
     ]
    },
    {
     "name": "stdout",
     "output_type": "stream",
     "text": [
      "fit coeffs too far off [%] [ 0.78768585  0.26428442 -0.0113961 ]\n"
     ]
    },
    {
     "name": "stderr",
     "output_type": "stream",
     "text": [
      "\n",
      "  6%|▌         | 75/1261 [00:14<03:43,  5.30it/s]\u001b[A\n",
      "  6%|▌         | 76/1261 [00:14<03:43,  5.30it/s]\u001b[A\n",
      "  6%|▌         | 77/1261 [00:14<03:43,  5.31it/s]\u001b[A\n",
      "  6%|▌         | 78/1261 [00:14<03:42,  5.31it/s]\u001b[A\n",
      "  6%|▋         | 79/1261 [00:14<03:42,  5.30it/s]\u001b[A\n",
      "  6%|▋         | 80/1261 [00:15<03:42,  5.30it/s]\u001b[A\n",
      "  6%|▋         | 81/1261 [00:15<03:42,  5.30it/s]\u001b[A\n",
      "  7%|▋         | 82/1261 [00:15<03:42,  5.29it/s]\u001b[A\n",
      "  7%|▋         | 83/1261 [00:15<03:42,  5.29it/s]\u001b[A\n",
      "  7%|▋         | 84/1261 [00:15<03:42,  5.30it/s]\u001b[A"
     ]
    },
    {
     "name": "stdout",
     "output_type": "stream",
     "text": [
      "fit coeffs too far off [%] [-0.89580085 -0.4554202   0.04253486]\n"
     ]
    },
    {
     "name": "stderr",
     "output_type": "stream",
     "text": [
      "\n",
      "  7%|▋         | 85/1261 [00:16<03:43,  5.27it/s]\u001b[A\n",
      "  7%|▋         | 86/1261 [00:16<03:42,  5.28it/s]\u001b[A\n",
      "  7%|▋         | 87/1261 [00:16<03:42,  5.28it/s]\u001b[A\n",
      "  7%|▋         | 88/1261 [00:16<03:42,  5.28it/s]\u001b[A\n",
      "  7%|▋         | 89/1261 [00:16<03:42,  5.28it/s]\u001b[A\n",
      "  7%|▋         | 90/1261 [00:17<03:41,  5.28it/s]\u001b[A\n",
      "  7%|▋         | 91/1261 [00:17<03:41,  5.28it/s]\u001b[A\n",
      "  7%|▋         | 92/1261 [00:17<03:41,  5.27it/s]\u001b[A\n",
      "  7%|▋         | 93/1261 [00:17<03:41,  5.27it/s]\u001b[A\n",
      "  7%|▋         | 94/1261 [00:17<03:41,  5.27it/s]\u001b[A\n",
      "  8%|▊         | 95/1261 [00:18<03:41,  5.27it/s]\u001b[A\n",
      "  8%|▊         | 96/1261 [00:18<03:40,  5.27it/s]\u001b[A\n",
      "  8%|▊         | 97/1261 [00:18<03:40,  5.28it/s]\u001b[A\n",
      "  8%|▊         | 98/1261 [00:18<03:39,  5.29it/s]\u001b[A\n",
      "  8%|▊         | 99/1261 [00:18<03:39,  5.29it/s]\u001b[A\n",
      "  8%|▊         | 100/1261 [00:18<03:39,  5.28it/s]\u001b[A\n",
      "  8%|▊         | 101/1261 [00:19<03:39,  5.28it/s]\u001b[A\n",
      "  8%|▊         | 102/1261 [00:19<03:39,  5.28it/s]\u001b[A\n",
      "  8%|▊         | 103/1261 [00:19<03:39,  5.28it/s]\u001b[A\n",
      "  8%|▊         | 104/1261 [00:19<03:39,  5.28it/s]\u001b[A\n",
      "  8%|▊         | 105/1261 [00:19<03:38,  5.28it/s]\u001b[A\n",
      "  8%|▊         | 106/1261 [00:20<03:38,  5.29it/s]\u001b[A\n",
      "  8%|▊         | 107/1261 [00:20<03:38,  5.29it/s]\u001b[A\n",
      "  9%|▊         | 108/1261 [00:20<03:37,  5.30it/s]\u001b[A\n",
      "  9%|▊         | 109/1261 [00:20<03:37,  5.30it/s]\u001b[A\n",
      "  9%|▊         | 110/1261 [00:20<03:36,  5.31it/s]\u001b[A\n",
      "  9%|▉         | 111/1261 [00:20<03:36,  5.30it/s]\u001b[A\n",
      "  9%|▉         | 112/1261 [00:21<03:36,  5.30it/s]\u001b[A\n",
      "  9%|▉         | 113/1261 [00:21<03:36,  5.31it/s]\u001b[A\n",
      "  9%|▉         | 114/1261 [00:21<03:35,  5.32it/s]\u001b[A"
     ]
    },
    {
     "name": "stdout",
     "output_type": "stream",
     "text": [
      "fit coeffs too far off [%] [ 0.92035522  0.51266545 -0.03037065]\n"
     ]
    },
    {
     "name": "stderr",
     "output_type": "stream",
     "text": [
      "\n",
      "  9%|▉         | 115/1261 [00:21<03:36,  5.29it/s]\u001b[A\n",
      "  9%|▉         | 116/1261 [00:21<03:36,  5.29it/s]\u001b[A\n",
      "  9%|▉         | 117/1261 [00:22<03:35,  5.30it/s]\u001b[A\n",
      "  9%|▉         | 118/1261 [00:22<03:35,  5.30it/s]\u001b[A\n",
      "  9%|▉         | 119/1261 [00:22<03:35,  5.29it/s]\u001b[A\n",
      " 10%|▉         | 120/1261 [00:22<03:35,  5.29it/s]\u001b[A\n",
      " 10%|▉         | 121/1261 [00:22<03:34,  5.30it/s]\u001b[A\n",
      " 10%|▉         | 122/1261 [00:22<03:34,  5.31it/s]\u001b[A\n",
      " 10%|▉         | 123/1261 [00:23<03:34,  5.30it/s]\u001b[A\n",
      " 10%|▉         | 124/1261 [00:23<03:34,  5.31it/s]\u001b[A\n",
      " 10%|▉         | 125/1261 [00:23<03:33,  5.31it/s]\u001b[A\n",
      " 10%|▉         | 126/1261 [00:23<03:33,  5.31it/s]\u001b[A\n",
      " 10%|█         | 127/1261 [00:23<03:33,  5.31it/s]\u001b[A\n",
      " 10%|█         | 128/1261 [00:24<03:33,  5.30it/s]\u001b[A\n",
      " 10%|█         | 129/1261 [00:24<03:33,  5.31it/s]\u001b[A\n",
      " 10%|█         | 130/1261 [00:24<03:32,  5.31it/s]\u001b[A\n",
      " 10%|█         | 131/1261 [00:24<03:32,  5.31it/s]\u001b[A\n",
      " 10%|█         | 132/1261 [00:24<03:32,  5.31it/s]\u001b[A\n",
      " 11%|█         | 133/1261 [00:25<03:32,  5.31it/s]\u001b[A\n",
      " 11%|█         | 134/1261 [00:25<03:32,  5.31it/s]\u001b[A\n",
      " 11%|█         | 135/1261 [00:25<03:31,  5.31it/s]\u001b[A\n",
      " 11%|█         | 136/1261 [00:25<03:31,  5.32it/s]\u001b[A\n",
      " 11%|█         | 137/1261 [00:25<03:31,  5.32it/s]\u001b[A\n",
      " 11%|█         | 138/1261 [00:25<03:31,  5.31it/s]\u001b[A\n",
      " 11%|█         | 139/1261 [00:26<03:31,  5.31it/s]\u001b[A\n",
      " 11%|█         | 140/1261 [00:26<03:31,  5.31it/s]\u001b[A\n",
      " 11%|█         | 141/1261 [00:26<03:31,  5.31it/s]\u001b[A\n",
      " 11%|█▏        | 142/1261 [00:26<03:30,  5.31it/s]\u001b[A\n",
      " 11%|█▏        | 143/1261 [00:26<03:30,  5.31it/s]\u001b[A\n",
      " 11%|█▏        | 144/1261 [00:27<03:30,  5.30it/s]\u001b[A\n",
      " 11%|█▏        | 145/1261 [00:27<03:30,  5.31it/s]\u001b[A\n",
      " 12%|█▏        | 146/1261 [00:27<03:29,  5.31it/s]\u001b[A\n",
      " 12%|█▏        | 147/1261 [00:27<03:29,  5.31it/s]\u001b[A\n",
      " 12%|█▏        | 148/1261 [00:27<03:29,  5.31it/s]\u001b[A"
     ]
    },
    {
     "name": "stdout",
     "output_type": "stream",
     "text": [
      "fit coeffs too far off [%] [ 0.93028729  0.43033046 -0.04220489]\n"
     ]
    },
    {
     "name": "stderr",
     "output_type": "stream",
     "text": [
      "\n",
      " 12%|█▏        | 149/1261 [00:28<03:30,  5.29it/s]\u001b[A"
     ]
    },
    {
     "name": "stdout",
     "output_type": "stream",
     "text": [
      "fit coeffs too far off [%] [ 0.984266    0.4610568  -0.04364593]\n"
     ]
    },
    {
     "name": "stderr",
     "output_type": "stream",
     "text": [
      "\n",
      " 12%|█▏        | 150/1261 [00:28<03:30,  5.27it/s]\u001b[A"
     ]
    },
    {
     "name": "stdout",
     "output_type": "stream",
     "text": [
      "fit coeffs too far off [%] [ 0.73965126  0.32331087 -0.02578021]\n"
     ]
    },
    {
     "name": "stderr",
     "output_type": "stream",
     "text": [
      "\n",
      " 12%|█▏        | 151/1261 [00:28<03:31,  5.26it/s]\u001b[A\n",
      " 12%|█▏        | 152/1261 [00:28<03:31,  5.25it/s]\u001b[A\n",
      " 12%|█▏        | 153/1261 [00:29<03:31,  5.25it/s]\u001b[A\n",
      " 12%|█▏        | 154/1261 [00:29<03:30,  5.25it/s]\u001b[A\n",
      " 12%|█▏        | 155/1261 [00:29<03:30,  5.25it/s]\u001b[A\n",
      " 12%|█▏        | 156/1261 [00:29<03:30,  5.25it/s]\u001b[A\n",
      " 12%|█▏        | 157/1261 [00:29<03:30,  5.24it/s]\u001b[A\n",
      " 13%|█▎        | 158/1261 [00:30<03:30,  5.24it/s]\u001b[A\n",
      " 13%|█▎        | 159/1261 [00:30<03:30,  5.24it/s]\u001b[A\n",
      " 13%|█▎        | 160/1261 [00:30<03:30,  5.24it/s]\u001b[A\n",
      " 13%|█▎        | 161/1261 [00:30<03:30,  5.24it/s]\u001b[A\n",
      " 13%|█▎        | 162/1261 [00:30<03:29,  5.23it/s]\u001b[A\n",
      " 13%|█▎        | 163/1261 [00:31<03:29,  5.23it/s]\u001b[A\n",
      " 13%|█▎        | 164/1261 [00:31<03:29,  5.23it/s]\u001b[A\n",
      " 13%|█▎        | 165/1261 [00:31<03:29,  5.24it/s]\u001b[A\n",
      " 13%|█▎        | 166/1261 [00:31<03:28,  5.24it/s]\u001b[A\n",
      " 13%|█▎        | 167/1261 [00:31<03:28,  5.24it/s]\u001b[A\n",
      " 13%|█▎        | 168/1261 [00:32<03:28,  5.24it/s]\u001b[A\n",
      " 13%|█▎        | 169/1261 [00:32<03:28,  5.25it/s]\u001b[A\n",
      " 13%|█▎        | 170/1261 [00:32<03:28,  5.24it/s]\u001b[A\n",
      " 14%|█▎        | 171/1261 [00:32<03:27,  5.25it/s]\u001b[A"
     ]
    },
    {
     "name": "stdout",
     "output_type": "stream",
     "text": [
      "fit coeffs too far off [%] [ 0.79856302  0.20273265  0.00593407]\n"
     ]
    },
    {
     "name": "stderr",
     "output_type": "stream",
     "text": [
      "\n",
      " 14%|█▎        | 172/1261 [00:32<03:27,  5.24it/s]\u001b[A"
     ]
    },
    {
     "name": "stdout",
     "output_type": "stream",
     "text": [
      "fit coeffs too far off [%] [ 1.14383868  0.3359325  -0.00351487]\n"
     ]
    },
    {
     "name": "stderr",
     "output_type": "stream",
     "text": [
      "\n",
      " 14%|█▎        | 173/1261 [00:33<03:27,  5.23it/s]\u001b[A"
     ]
    },
    {
     "name": "stdout",
     "output_type": "stream",
     "text": [
      "fit coeffs too far off [%] [ 1.2168215   0.4282352  -0.02161391]\n"
     ]
    },
    {
     "name": "stderr",
     "output_type": "stream",
     "text": [
      "\n",
      " 14%|█▍        | 174/1261 [00:33<03:28,  5.22it/s]\u001b[A"
     ]
    },
    {
     "name": "stdout",
     "output_type": "stream",
     "text": [
      "fit coeffs too far off [%] [ 1.77897207  0.75821157 -0.06448424]\n"
     ]
    },
    {
     "name": "stderr",
     "output_type": "stream",
     "text": [
      "\n",
      " 14%|█▍        | 175/1261 [00:33<03:28,  5.20it/s]\u001b[A"
     ]
    },
    {
     "name": "stdout",
     "output_type": "stream",
     "text": [
      "fit coeffs too far off [%] [ 1.69872204  0.82115722 -0.0824192 ]\n"
     ]
    },
    {
     "name": "stderr",
     "output_type": "stream",
     "text": [
      "\n",
      " 14%|█▍        | 176/1261 [00:33<03:28,  5.19it/s]\u001b[A"
     ]
    },
    {
     "name": "stdout",
     "output_type": "stream",
     "text": [
      "fit coeffs too far off [%] [ 1.64066601  0.85965403 -0.09144434]\n"
     ]
    },
    {
     "name": "stderr",
     "output_type": "stream",
     "text": [
      "\n",
      " 14%|█▍        | 177/1261 [00:34<03:29,  5.17it/s]\u001b[A"
     ]
    },
    {
     "name": "stdout",
     "output_type": "stream",
     "text": [
      "fit coeffs too far off [%] [ 1.22141938  0.65177919 -0.06637395]\n"
     ]
    },
    {
     "name": "stderr",
     "output_type": "stream",
     "text": [
      "\n",
      " 14%|█▍        | 178/1261 [00:34<03:29,  5.16it/s]\u001b[A\n",
      " 14%|█▍        | 179/1261 [00:34<03:29,  5.16it/s]\u001b[A\n",
      " 14%|█▍        | 180/1261 [00:34<03:29,  5.16it/s]\u001b[A\n",
      " 14%|█▍        | 181/1261 [00:35<03:29,  5.16it/s]\u001b[A\n",
      " 14%|█▍        | 182/1261 [00:35<03:29,  5.16it/s]\u001b[A\n",
      " 15%|█▍        | 183/1261 [00:35<03:28,  5.16it/s]\u001b[A\n",
      " 15%|█▍        | 184/1261 [00:35<03:28,  5.16it/s]\u001b[A\n",
      " 15%|█▍        | 185/1261 [00:35<03:28,  5.16it/s]\u001b[A\n",
      " 15%|█▍        | 186/1261 [00:35<03:27,  5.17it/s]\u001b[A\n",
      " 15%|█▍        | 187/1261 [00:36<03:27,  5.17it/s]\u001b[A\n",
      " 15%|█▍        | 188/1261 [00:36<03:27,  5.17it/s]\u001b[A\n",
      " 15%|█▍        | 189/1261 [00:36<03:27,  5.17it/s]\u001b[A\n",
      " 15%|█▌        | 190/1261 [00:36<03:27,  5.17it/s]\u001b[A\n",
      " 15%|█▌        | 191/1261 [00:36<03:26,  5.18it/s]\u001b[A\n",
      " 15%|█▌        | 192/1261 [00:37<03:26,  5.18it/s]\u001b[A\n",
      " 15%|█▌        | 193/1261 [00:37<03:26,  5.18it/s]\u001b[A\n",
      " 15%|█▌        | 194/1261 [00:37<03:25,  5.18it/s]\u001b[A\n",
      " 15%|█▌        | 195/1261 [00:37<03:25,  5.18it/s]\u001b[A\n",
      " 16%|█▌        | 196/1261 [00:37<03:25,  5.19it/s]\u001b[A\n",
      " 16%|█▌        | 197/1261 [00:37<03:25,  5.19it/s]\u001b[A\n",
      " 16%|█▌        | 198/1261 [00:38<03:24,  5.19it/s]\u001b[A\n",
      " 16%|█▌        | 199/1261 [00:38<03:24,  5.19it/s]\u001b[A\n",
      " 16%|█▌        | 200/1261 [00:38<03:24,  5.19it/s]\u001b[A\n",
      " 16%|█▌        | 201/1261 [00:38<03:24,  5.19it/s]\u001b[A\n",
      " 16%|█▌        | 202/1261 [00:38<03:23,  5.19it/s]\u001b[A\n",
      " 16%|█▌        | 203/1261 [00:39<03:23,  5.20it/s]\u001b[A\n",
      " 16%|█▌        | 204/1261 [00:39<03:23,  5.20it/s]\u001b[A\n",
      " 16%|█▋        | 205/1261 [00:39<03:23,  5.20it/s]\u001b[A\n",
      " 16%|█▋        | 206/1261 [00:39<03:22,  5.21it/s]\u001b[A\n",
      " 16%|█▋        | 207/1261 [00:39<03:22,  5.21it/s]\u001b[A\n",
      " 16%|█▋        | 208/1261 [00:39<03:21,  5.22it/s]\u001b[A\n",
      " 17%|█▋        | 209/1261 [00:40<03:21,  5.22it/s]\u001b[A\n",
      " 17%|█▋        | 210/1261 [00:40<03:20,  5.23it/s]\u001b[A\n",
      " 17%|█▋        | 211/1261 [00:40<03:20,  5.23it/s]\u001b[A\n",
      " 17%|█▋        | 212/1261 [00:40<03:20,  5.23it/s]\u001b[A\n",
      " 17%|█▋        | 213/1261 [00:40<03:20,  5.23it/s]\u001b[A\n",
      " 17%|█▋        | 214/1261 [00:40<03:20,  5.23it/s]\u001b[A\n",
      " 17%|█▋        | 215/1261 [00:41<03:19,  5.23it/s]\u001b[A\n",
      " 17%|█▋        | 216/1261 [00:41<03:19,  5.24it/s]\u001b[A\n",
      " 17%|█▋        | 217/1261 [00:41<03:19,  5.24it/s]\u001b[A\n",
      " 17%|█▋        | 218/1261 [00:41<03:19,  5.24it/s]\u001b[A\n",
      " 17%|█▋        | 219/1261 [00:41<03:18,  5.24it/s]\u001b[A\n",
      " 17%|█▋        | 220/1261 [00:41<03:18,  5.25it/s]\u001b[A\n",
      " 18%|█▊        | 221/1261 [00:42<03:17,  5.26it/s]\u001b[A\n",
      " 18%|█▊        | 222/1261 [00:42<03:17,  5.27it/s]\u001b[A\n",
      " 18%|█▊        | 223/1261 [00:42<03:17,  5.27it/s]\u001b[A\n",
      " 18%|█▊        | 224/1261 [00:42<03:16,  5.27it/s]\u001b[A\n",
      " 18%|█▊        | 225/1261 [00:42<03:16,  5.27it/s]\u001b[A\n",
      " 18%|█▊        | 226/1261 [00:42<03:16,  5.27it/s]\u001b[A\n",
      " 18%|█▊        | 227/1261 [00:43<03:16,  5.27it/s]\u001b[A\n",
      " 18%|█▊        | 228/1261 [00:43<03:15,  5.27it/s]\u001b[A\n",
      " 18%|█▊        | 229/1261 [00:43<03:15,  5.27it/s]\u001b[A\n",
      " 18%|█▊        | 230/1261 [00:43<03:15,  5.28it/s]\u001b[A\n",
      " 18%|█▊        | 231/1261 [00:43<03:15,  5.28it/s]\u001b[A\n",
      " 18%|█▊        | 232/1261 [00:43<03:14,  5.28it/s]\u001b[A\n",
      " 18%|█▊        | 233/1261 [00:44<03:14,  5.28it/s]\u001b[A\n",
      " 19%|█▊        | 234/1261 [00:44<03:14,  5.29it/s]\u001b[A\n",
      " 19%|█▊        | 235/1261 [00:44<03:13,  5.29it/s]\u001b[A\n",
      " 19%|█▊        | 236/1261 [00:44<03:13,  5.29it/s]\u001b[A\n",
      " 19%|█▉        | 237/1261 [00:44<03:13,  5.29it/s]\u001b[A\n",
      " 19%|█▉        | 238/1261 [00:44<03:13,  5.30it/s]\u001b[A\n",
      " 19%|█▉        | 239/1261 [00:45<03:12,  5.30it/s]\u001b[A\n",
      " 19%|█▉        | 240/1261 [00:45<03:12,  5.30it/s]\u001b[A\n",
      " 19%|█▉        | 241/1261 [00:45<03:12,  5.30it/s]\u001b[A\n",
      " 19%|█▉        | 242/1261 [00:45<03:12,  5.30it/s]\u001b[A\n",
      " 19%|█▉        | 243/1261 [00:45<03:12,  5.30it/s]\u001b[A\n",
      " 19%|█▉        | 244/1261 [00:46<03:11,  5.30it/s]\u001b[A\n",
      " 19%|█▉        | 245/1261 [00:46<03:11,  5.30it/s]\u001b[A\n",
      " 20%|█▉        | 246/1261 [00:46<03:11,  5.30it/s]\u001b[A\n",
      " 20%|█▉        | 247/1261 [00:46<03:11,  5.31it/s]\u001b[A\n",
      " 20%|█▉        | 248/1261 [00:46<03:10,  5.31it/s]\u001b[A\n",
      " 20%|█▉        | 249/1261 [00:46<03:10,  5.31it/s]\u001b[A\n",
      " 20%|█▉        | 250/1261 [00:47<03:10,  5.31it/s]\u001b[A\n",
      " 20%|█▉        | 251/1261 [00:47<03:10,  5.31it/s]\u001b[A\n",
      " 20%|█▉        | 252/1261 [00:47<03:10,  5.31it/s]\u001b[A\n",
      " 20%|██        | 253/1261 [00:47<03:09,  5.31it/s]\u001b[A\n",
      " 20%|██        | 254/1261 [00:47<03:09,  5.31it/s]\u001b[A\n",
      " 20%|██        | 255/1261 [00:48<03:09,  5.31it/s]\u001b[A\n",
      " 20%|██        | 256/1261 [00:48<03:09,  5.31it/s]\u001b[A\n",
      " 20%|██        | 257/1261 [00:48<03:08,  5.32it/s]\u001b[A\n",
      " 20%|██        | 258/1261 [00:48<03:08,  5.32it/s]\u001b[A\n",
      " 21%|██        | 259/1261 [00:48<03:08,  5.31it/s]\u001b[A\n",
      " 21%|██        | 260/1261 [00:48<03:08,  5.31it/s]\u001b[A\n",
      " 21%|██        | 261/1261 [00:49<03:08,  5.32it/s]\u001b[A\n",
      " 21%|██        | 262/1261 [00:49<03:07,  5.32it/s]\u001b[A\n",
      " 21%|██        | 263/1261 [00:49<03:07,  5.32it/s]\u001b[A\n",
      " 21%|██        | 264/1261 [00:49<03:07,  5.32it/s]\u001b[A\n",
      " 21%|██        | 265/1261 [00:49<03:07,  5.32it/s]\u001b[A\n",
      " 21%|██        | 266/1261 [00:49<03:06,  5.32it/s]\u001b[A\n",
      " 21%|██        | 267/1261 [00:50<03:06,  5.33it/s]\u001b[A\n",
      " 21%|██▏       | 268/1261 [00:50<03:06,  5.33it/s]\u001b[A\n",
      " 21%|██▏       | 269/1261 [00:50<03:06,  5.33it/s]\u001b[A\n",
      " 21%|██▏       | 270/1261 [00:50<03:06,  5.33it/s]\u001b[A\n",
      " 21%|██▏       | 271/1261 [00:50<03:05,  5.33it/s]\u001b[A\n",
      " 22%|██▏       | 272/1261 [00:51<03:05,  5.33it/s]\u001b[A\n",
      " 22%|██▏       | 273/1261 [00:51<03:05,  5.33it/s]\u001b[A\n",
      " 22%|██▏       | 274/1261 [00:51<03:05,  5.33it/s]\u001b[A\n",
      " 22%|██▏       | 275/1261 [00:51<03:04,  5.34it/s]\u001b[A\n",
      " 22%|██▏       | 276/1261 [00:51<03:04,  5.34it/s]\u001b[A\n",
      " 22%|██▏       | 277/1261 [00:51<03:04,  5.34it/s]\u001b[A\n",
      " 22%|██▏       | 278/1261 [00:52<03:04,  5.34it/s]\u001b[A\n",
      " 22%|██▏       | 279/1261 [00:52<03:04,  5.34it/s]\u001b[A\n",
      " 22%|██▏       | 280/1261 [00:52<03:03,  5.34it/s]\u001b[A\n",
      " 22%|██▏       | 281/1261 [00:52<03:03,  5.34it/s]\u001b[A\n",
      " 22%|██▏       | 282/1261 [00:52<03:03,  5.34it/s]\u001b[A\n",
      " 22%|██▏       | 283/1261 [00:53<03:03,  5.34it/s]\u001b[A\n",
      " 23%|██▎       | 284/1261 [00:53<03:03,  5.34it/s]\u001b[A\n",
      " 23%|██▎       | 285/1261 [00:53<03:02,  5.34it/s]\u001b[A\n",
      " 23%|██▎       | 286/1261 [00:53<03:02,  5.34it/s]\u001b[A\n",
      " 23%|██▎       | 287/1261 [00:53<03:02,  5.34it/s]\u001b[A\n",
      " 23%|██▎       | 288/1261 [00:53<03:02,  5.34it/s]\u001b[A\n",
      " 23%|██▎       | 289/1261 [00:54<03:02,  5.34it/s]\u001b[A\n",
      " 23%|██▎       | 290/1261 [00:54<03:01,  5.34it/s]\u001b[A\n",
      " 23%|██▎       | 291/1261 [00:54<03:01,  5.34it/s]\u001b[A\n",
      " 23%|██▎       | 292/1261 [00:54<03:01,  5.34it/s]\u001b[A\n",
      " 23%|██▎       | 293/1261 [00:54<03:01,  5.34it/s]\u001b[A\n",
      " 23%|██▎       | 294/1261 [00:55<03:01,  5.34it/s]\u001b[A\n",
      " 23%|██▎       | 295/1261 [00:55<03:00,  5.34it/s]\u001b[A\n",
      " 23%|██▎       | 296/1261 [00:55<03:00,  5.34it/s]\u001b[A\n",
      " 24%|██▎       | 297/1261 [00:55<03:00,  5.34it/s]\u001b[A\n",
      " 24%|██▎       | 298/1261 [00:55<03:00,  5.34it/s]\u001b[A\n",
      " 24%|██▎       | 299/1261 [00:55<03:00,  5.34it/s]\u001b[A\n",
      " 24%|██▍       | 300/1261 [00:56<02:59,  5.35it/s]\u001b[A\n",
      " 24%|██▍       | 301/1261 [00:56<02:59,  5.35it/s]\u001b[A\n",
      " 24%|██▍       | 302/1261 [00:56<02:59,  5.35it/s]\u001b[A\n",
      " 24%|██▍       | 303/1261 [00:56<02:59,  5.35it/s]\u001b[A\n",
      " 24%|██▍       | 304/1261 [00:56<02:58,  5.35it/s]\u001b[A\n",
      " 24%|██▍       | 305/1261 [00:57<02:58,  5.35it/s]\u001b[A"
     ]
    },
    {
     "name": "stdout",
     "output_type": "stream",
     "text": [
      "fit coeffs too far off [%] [-1.5281348  -0.67561934  0.02983491]\n"
     ]
    },
    {
     "name": "stderr",
     "output_type": "stream",
     "text": [
      "\n",
      " 24%|██▍       | 306/1261 [00:57<02:58,  5.34it/s]\u001b[A"
     ]
    },
    {
     "name": "stdout",
     "output_type": "stream",
     "text": [
      "fit coeffs too far off [%] [-1.04414233 -0.38881266  0.00609106]\n"
     ]
    },
    {
     "name": "stderr",
     "output_type": "stream",
     "text": [
      "\n",
      " 24%|██▍       | 307/1261 [00:57<02:58,  5.33it/s]\u001b[A"
     ]
    },
    {
     "name": "stdout",
     "output_type": "stream",
     "text": [
      "fit coeffs too far off [%] [-1.17765537 -0.53542286  0.02182673]\n"
     ]
    },
    {
     "name": "stderr",
     "output_type": "stream",
     "text": [
      "\n",
      " 24%|██▍       | 308/1261 [00:57<02:59,  5.32it/s]\u001b[A\n",
      " 25%|██▍       | 309/1261 [00:58<02:58,  5.32it/s]\u001b[A\n",
      " 25%|██▍       | 310/1261 [00:58<02:58,  5.32it/s]\u001b[A\n",
      " 25%|██▍       | 311/1261 [00:58<02:58,  5.32it/s]\u001b[A"
     ]
    },
    {
     "name": "stdout",
     "output_type": "stream",
     "text": [
      "fit coeffs too far off [%] [-0.79359416 -0.29225557  0.00340081]\n"
     ]
    },
    {
     "name": "stderr",
     "output_type": "stream",
     "text": [
      "\n",
      " 25%|██▍       | 312/1261 [00:58<02:58,  5.32it/s]\u001b[A"
     ]
    },
    {
     "name": "stdout",
     "output_type": "stream",
     "text": [
      "fit coeffs too far off [%] [-0.7992738  -0.3241872   0.00673862]\n"
     ]
    },
    {
     "name": "stderr",
     "output_type": "stream",
     "text": [
      "\n",
      " 25%|██▍       | 313/1261 [00:58<02:58,  5.31it/s]\u001b[A\n",
      " 25%|██▍       | 314/1261 [00:59<02:58,  5.30it/s]\u001b[A"
     ]
    },
    {
     "name": "stdout",
     "output_type": "stream",
     "text": [
      "fit coeffs too far off [%] [-0.97882985 -0.49549483  0.08833086]\n",
      "fit coeffs too far off [%] [-0.70055848 -0.30664136  0.00815907]\n"
     ]
    },
    {
     "name": "stderr",
     "output_type": "stream",
     "text": [
      "\n",
      " 25%|██▍       | 315/1261 [00:59<02:58,  5.29it/s]\u001b[A"
     ]
    },
    {
     "name": "stdout",
     "output_type": "stream",
     "text": [
      "fit coeffs too far off [%] [-0.8913747  -0.48344455  0.08041633]\n"
     ]
    },
    {
     "name": "stderr",
     "output_type": "stream",
     "text": [
      "\n",
      " 25%|██▌       | 316/1261 [00:59<02:58,  5.28it/s]\u001b[A"
     ]
    },
    {
     "name": "stdout",
     "output_type": "stream",
     "text": [
      "fit coeffs too far off [%] [-1.1373444 -0.4890557  0.0662349]\n"
     ]
    },
    {
     "name": "stderr",
     "output_type": "stream",
     "text": [
      "\n",
      " 25%|██▌       | 317/1261 [01:00<02:58,  5.28it/s]\u001b[A"
     ]
    },
    {
     "name": "stdout",
     "output_type": "stream",
     "text": [
      "fit coeffs too far off [%] [-0.7559196  -0.33713513  0.04626643]\n"
     ]
    },
    {
     "name": "stderr",
     "output_type": "stream",
     "text": [
      "\n",
      " 25%|██▌       | 318/1261 [01:00<02:58,  5.27it/s]\u001b[A"
     ]
    },
    {
     "name": "stdout",
     "output_type": "stream",
     "text": [
      "fit coeffs too far off [%] [-0.75874584 -0.45381323  0.0686383 ]\n",
      "fit coeffs too far off [%] [ 2.39460905  0.3112545   0.00273667]\n"
     ]
    },
    {
     "name": "stderr",
     "output_type": "stream",
     "text": [
      "\n",
      " 25%|██▌       | 319/1261 [01:00<02:59,  5.25it/s]\u001b[A"
     ]
    },
    {
     "name": "stdout",
     "output_type": "stream",
     "text": [
      "fit coeffs too far off [%] [-1.22980706 -0.49696442  0.05770762]\n",
      "fit coeffs too far off [%] [ 3.22743465  0.44520669  0.0065836 ]\n"
     ]
    },
    {
     "name": "stderr",
     "output_type": "stream",
     "text": [
      "\n",
      " 25%|██▌       | 320/1261 [01:01<02:59,  5.24it/s]\u001b[A"
     ]
    },
    {
     "name": "stdout",
     "output_type": "stream",
     "text": [
      "fit coeffs too far off [%] [-2.11402001 -0.70119817  0.06315366]\n",
      "fit coeffs too far off [%] [  3.05962483e+00   4.96896854e-01  -1.47201309e-03]\n"
     ]
    },
    {
     "name": "stderr",
     "output_type": "stream",
     "text": [
      "\n",
      " 25%|██▌       | 321/1261 [01:01<02:59,  5.22it/s]\u001b[A"
     ]
    },
    {
     "name": "stdout",
     "output_type": "stream",
     "text": [
      "fit coeffs too far off [%] [ 2.15742253  0.27586852  0.00884378]\n"
     ]
    },
    {
     "name": "stderr",
     "output_type": "stream",
     "text": [
      "\n",
      " 26%|██▌       | 322/1261 [01:01<03:00,  5.22it/s]\u001b[A"
     ]
    },
    {
     "name": "stdout",
     "output_type": "stream",
     "text": [
      "fit coeffs too far off [%] [ 0.68506437 -0.71998694  0.00951395]\n",
      "fit coeffs too far off [%] [ 1.3941261   0.25325754  0.00423241]\n"
     ]
    },
    {
     "name": "stderr",
     "output_type": "stream",
     "text": [
      "\n",
      " 26%|██▌       | 323/1261 [01:02<03:00,  5.20it/s]\u001b[A"
     ]
    },
    {
     "name": "stdout",
     "output_type": "stream",
     "text": [
      "fit coeffs too far off [%] [  1.93426976e+00   4.79373080e-01  -5.83243589e-04]\n"
     ]
    },
    {
     "name": "stderr",
     "output_type": "stream",
     "text": [
      "\n",
      " 26%|██▌       | 324/1261 [01:02<03:00,  5.19it/s]\u001b[A"
     ]
    },
    {
     "name": "stdout",
     "output_type": "stream",
     "text": [
      "fit coeffs too far off [%] [-0.233692    0.96673802 -0.02083229]\n"
     ]
    },
    {
     "name": "stderr",
     "output_type": "stream",
     "text": [
      "\n",
      " 26%|██▌       | 325/1261 [01:02<03:00,  5.18it/s]\u001b[A\n",
      " 26%|██▌       | 326/1261 [01:02<03:00,  5.18it/s]\u001b[A\n",
      " 26%|██▌       | 327/1261 [01:03<03:00,  5.18it/s]\u001b[A"
     ]
    },
    {
     "name": "stdout",
     "output_type": "stream",
     "text": [
      "fit coeffs too far off [%] [-0.19889076  0.57969861 -0.01042498]\n"
     ]
    },
    {
     "name": "stderr",
     "output_type": "stream",
     "text": [
      "\n",
      " 26%|██▌       | 328/1261 [01:03<03:00,  5.17it/s]\u001b[A"
     ]
    },
    {
     "name": "stdout",
     "output_type": "stream",
     "text": [
      "fit coeffs too far off [%] [-0.29609232  1.1806346  -0.01438578]\n"
     ]
    },
    {
     "name": "stderr",
     "output_type": "stream",
     "text": [
      "\n",
      " 26%|██▌       | 329/1261 [01:03<03:00,  5.17it/s]\u001b[A\n",
      " 26%|██▌       | 330/1261 [01:03<03:00,  5.17it/s]\u001b[A"
     ]
    },
    {
     "name": "stdout",
     "output_type": "stream",
     "text": [
      "fit coeffs too far off [%] [-1.16892275 -0.68317244  0.0172292 ]\n"
     ]
    },
    {
     "name": "stderr",
     "output_type": "stream",
     "text": [
      "\n",
      " 26%|██▌       | 331/1261 [01:04<03:00,  5.16it/s]\u001b[A"
     ]
    },
    {
     "name": "stdout",
     "output_type": "stream",
     "text": [
      "fit coeffs too far off [%] [-1.01064092 -0.02097101  0.0213916 ]\n"
     ]
    },
    {
     "name": "stderr",
     "output_type": "stream",
     "text": [
      "\n",
      " 26%|██▋       | 332/1261 [01:04<03:00,  5.15it/s]\u001b[A"
     ]
    },
    {
     "name": "stdout",
     "output_type": "stream",
     "text": [
      "fit coeffs too far off [%] [-1.54596115 -0.31439226  0.04378322]\n"
     ]
    },
    {
     "name": "stderr",
     "output_type": "stream",
     "text": [
      "\n",
      " 26%|██▋       | 333/1261 [01:04<03:00,  5.14it/s]\u001b[A"
     ]
    },
    {
     "name": "stdout",
     "output_type": "stream",
     "text": [
      "fit coeffs too far off [%] [-0.74403323 -0.20289637 -0.01434683]\n"
     ]
    },
    {
     "name": "stderr",
     "output_type": "stream",
     "text": [
      "\n",
      " 26%|██▋       | 334/1261 [01:05<03:00,  5.14it/s]\u001b[A"
     ]
    },
    {
     "name": "stdout",
     "output_type": "stream",
     "text": [
      "fit coeffs too far off [%] [ -9.95671616e-01   1.05428701e+01  -8.47347015e-03]\n",
      "fit coeffs too far off [%] [-0.86730071 -0.33430579 -0.00965231]\n"
     ]
    },
    {
     "name": "stderr",
     "output_type": "stream",
     "text": [
      "\n",
      " 27%|██▋       | 335/1261 [01:05<03:00,  5.12it/s]\u001b[A"
     ]
    },
    {
     "name": "stdout",
     "output_type": "stream",
     "text": [
      "fit coeffs too far off [%] [-0.8427133  -0.28877114 -0.01157882]\n"
     ]
    },
    {
     "name": "stderr",
     "output_type": "stream",
     "text": [
      "\n",
      " 27%|██▋       | 336/1261 [01:05<03:00,  5.12it/s]\u001b[A"
     ]
    },
    {
     "name": "stdout",
     "output_type": "stream",
     "text": [
      "fit coeffs too far off [%] [-5.41218389  1.31275238 -0.03302755]\n"
     ]
    },
    {
     "name": "stderr",
     "output_type": "stream",
     "text": [
      "\n",
      " 27%|██▋       | 337/1261 [01:05<03:00,  5.11it/s]\u001b[A"
     ]
    },
    {
     "name": "stdout",
     "output_type": "stream",
     "text": [
      "fit coeffs too far off [%] [-1.15958669 -0.81317891  0.01606445]\n"
     ]
    },
    {
     "name": "stderr",
     "output_type": "stream",
     "text": [
      "\n",
      " 27%|██▋       | 338/1261 [01:06<03:00,  5.10it/s]\u001b[A"
     ]
    },
    {
     "name": "stdout",
     "output_type": "stream",
     "text": [
      "fit coeffs too far off [%] [  2.77701720e+00  -1.36249687e-01  -7.94713540e-04]\n",
      "fit coeffs too far off [%] [-0.9411256  -0.72525665  0.01729094]\n"
     ]
    },
    {
     "name": "stderr",
     "output_type": "stream",
     "text": [
      "\n",
      " 27%|██▋       | 339/1261 [01:06<03:01,  5.09it/s]\u001b[A"
     ]
    },
    {
     "name": "stdout",
     "output_type": "stream",
     "text": [
      "fit coeffs too far off [%] [-0.71828989 -0.61923151  0.02098499]\n"
     ]
    },
    {
     "name": "stderr",
     "output_type": "stream",
     "text": [
      "\n",
      " 27%|██▋       | 340/1261 [01:06<03:01,  5.08it/s]\u001b[A"
     ]
    },
    {
     "name": "stdout",
     "output_type": "stream",
     "text": [
      "fit coeffs too far off [%] [ 1.40385366 -1.69723412  0.03043985]\n",
      "fit coeffs too far off [%] [-0.86945153 -0.55017422  0.01355313]\n"
     ]
    },
    {
     "name": "stderr",
     "output_type": "stream",
     "text": [
      "\n",
      " 27%|██▋       | 341/1261 [01:07<03:01,  5.07it/s]\u001b[A"
     ]
    },
    {
     "name": "stdout",
     "output_type": "stream",
     "text": [
      "fit coeffs too far off [%] [-1.97024267 -0.69445774  0.00429736]\n"
     ]
    },
    {
     "name": "stderr",
     "output_type": "stream",
     "text": [
      "\n",
      " 27%|██▋       | 342/1261 [01:07<03:01,  5.07it/s]\u001b[A"
     ]
    },
    {
     "name": "stdout",
     "output_type": "stream",
     "text": [
      "fit coeffs too far off [%] [-0.18995434  0.56495639  0.02580693]\n"
     ]
    },
    {
     "name": "stderr",
     "output_type": "stream",
     "text": [
      "\n",
      " 27%|██▋       | 343/1261 [01:07<03:01,  5.06it/s]\u001b[A\n",
      " 27%|██▋       | 344/1261 [01:07<03:01,  5.06it/s]\u001b[A\n",
      " 27%|██▋       | 345/1261 [01:08<03:00,  5.06it/s]\u001b[A"
     ]
    },
    {
     "name": "stdout",
     "output_type": "stream",
     "text": [
      "fit coeffs too far off [%] [-0.08819761 -1.38887343 -0.01733983]\n"
     ]
    },
    {
     "name": "stderr",
     "output_type": "stream",
     "text": [
      "\n",
      " 27%|██▋       | 346/1261 [01:08<03:01,  5.05it/s]\u001b[A"
     ]
    },
    {
     "name": "stdout",
     "output_type": "stream",
     "text": [
      "fit coeffs too far off [%] [-0.30480195 -2.77318707 -0.02598243]\n"
     ]
    },
    {
     "name": "stderr",
     "output_type": "stream",
     "text": [
      "\n",
      " 28%|██▊       | 347/1261 [01:08<03:01,  5.05it/s]\u001b[A\n",
      " 28%|██▊       | 348/1261 [01:08<03:00,  5.05it/s]\u001b[A"
     ]
    },
    {
     "name": "stdout",
     "output_type": "stream",
     "text": [
      "fit coeffs too far off [%] [-0.43767721  0.62941372 -0.01784455]\n",
      "fit coeffs too far off [%] [-0.66681605 -0.70844352  0.02122098]\n"
     ]
    },
    {
     "name": "stderr",
     "output_type": "stream",
     "text": [
      "\n",
      " 28%|██▊       | 349/1261 [01:09<03:01,  5.04it/s]\u001b[A"
     ]
    },
    {
     "name": "stdout",
     "output_type": "stream",
     "text": [
      "fit coeffs too far off [%] [-1.04636565 -0.84522743  0.01468592]\n"
     ]
    },
    {
     "name": "stderr",
     "output_type": "stream",
     "text": [
      "\n",
      " 28%|██▊       | 350/1261 [01:09<03:01,  5.03it/s]\u001b[A"
     ]
    },
    {
     "name": "stdout",
     "output_type": "stream",
     "text": [
      "fit coeffs too far off [%] [-0.92548302 -0.94676124  0.02120962]\n"
     ]
    },
    {
     "name": "stderr",
     "output_type": "stream",
     "text": [
      "\n",
      " 28%|██▊       | 351/1261 [01:09<03:01,  5.02it/s]\u001b[A"
     ]
    },
    {
     "name": "stdout",
     "output_type": "stream",
     "text": [
      "fit coeffs too far off [%] [ 1.48728026  0.3568436  -0.00778376]\n",
      "fit coeffs too far off [%] [-0.7590667  -0.77685252  0.01527558]\n"
     ]
    },
    {
     "name": "stderr",
     "output_type": "stream",
     "text": [
      "\n",
      " 28%|██▊       | 352/1261 [01:10<03:01,  5.00it/s]\u001b[A"
     ]
    },
    {
     "name": "stdout",
     "output_type": "stream",
     "text": [
      "fit coeffs too far off [%] [ 2.35270342  0.52579517 -0.00880541]\n",
      "fit coeffs too far off [%] [-0.8400237  -0.89271379  0.01432074]\n"
     ]
    },
    {
     "name": "stderr",
     "output_type": "stream",
     "text": [
      "\n",
      " 28%|██▊       | 353/1261 [01:10<03:01,  4.99it/s]\u001b[A"
     ]
    },
    {
     "name": "stdout",
     "output_type": "stream",
     "text": [
      "fit coeffs too far off [%] [-1.55929621 -1.60357959  0.02850199]\n"
     ]
    },
    {
     "name": "stderr",
     "output_type": "stream",
     "text": [
      "\n",
      " 28%|██▊       | 354/1261 [01:11<03:02,  4.98it/s]\u001b[A\n",
      " 28%|██▊       | 355/1261 [01:11<03:01,  4.98it/s]\u001b[A"
     ]
    },
    {
     "name": "stdout",
     "output_type": "stream",
     "text": [
      "fit coeffs too far off [%] [  7.83002174e+00  -2.06555832e+00   1.85975578e-03]\n"
     ]
    },
    {
     "name": "stderr",
     "output_type": "stream",
     "text": [
      "\n",
      " 28%|██▊       | 356/1261 [01:11<03:01,  4.98it/s]\u001b[A\n",
      " 28%|██▊       | 357/1261 [01:11<03:01,  4.98it/s]\u001b[A"
     ]
    },
    {
     "name": "stdout",
     "output_type": "stream",
     "text": [
      "fit coeffs too far off [%] [  4.90124981e+00  -9.64966920e+01  -1.93621958e-02]\n"
     ]
    },
    {
     "name": "stderr",
     "output_type": "stream",
     "text": [
      "\n",
      " 28%|██▊       | 358/1261 [01:12<03:01,  4.97it/s]\u001b[A\n",
      " 28%|██▊       | 359/1261 [01:12<03:01,  4.97it/s]\u001b[A"
     ]
    },
    {
     "name": "stdout",
     "output_type": "stream",
     "text": [
      "fit coeffs too far off [%] [-1.07451686 -0.64224961  0.0416574 ]\n"
     ]
    },
    {
     "name": "stderr",
     "output_type": "stream",
     "text": [
      "\n",
      " 29%|██▊       | 360/1261 [01:12<03:01,  4.96it/s]\u001b[A"
     ]
    },
    {
     "name": "stdout",
     "output_type": "stream",
     "text": [
      "fit coeffs too far off [%] [-1.18832145 -0.62897774  0.03180345]\n"
     ]
    },
    {
     "name": "stderr",
     "output_type": "stream",
     "text": [
      "\n",
      " 29%|██▊       | 361/1261 [01:12<03:01,  4.96it/s]\u001b[A"
     ]
    },
    {
     "name": "stdout",
     "output_type": "stream",
     "text": [
      "fit coeffs too far off [%] [-1.72480106 -0.90640394  0.04072823]\n",
      "fit coeffs too far off [%] [-0.55276726 -0.53332082  0.00510287]\n"
     ]
    },
    {
     "name": "stderr",
     "output_type": "stream",
     "text": [
      "\n",
      " 29%|██▊       | 362/1261 [01:13<03:01,  4.94it/s]\u001b[A"
     ]
    },
    {
     "name": "stdout",
     "output_type": "stream",
     "text": [
      "fit coeffs too far off [%] [-2.35854584 -1.28714518  0.0614934 ]\n"
     ]
    },
    {
     "name": "stderr",
     "output_type": "stream",
     "text": [
      "\n",
      " 29%|██▉       | 363/1261 [01:13<03:01,  4.94it/s]\u001b[A"
     ]
    },
    {
     "name": "stdout",
     "output_type": "stream",
     "text": [
      "fit coeffs too far off [%] [-2.79535983 -1.47931358  0.061761  ]\n"
     ]
    },
    {
     "name": "stderr",
     "output_type": "stream",
     "text": [
      "\n",
      " 29%|██▉       | 364/1261 [01:13<03:01,  4.93it/s]\u001b[A"
     ]
    },
    {
     "name": "stdout",
     "output_type": "stream",
     "text": [
      "fit coeffs too far off [%] [-3.65484899 -2.05119518  0.1144286 ]\n"
     ]
    },
    {
     "name": "stderr",
     "output_type": "stream",
     "text": [
      "\n",
      " 29%|██▉       | 365/1261 [01:14<03:01,  4.93it/s]\u001b[A\n",
      " 29%|██▉       | 366/1261 [01:14<03:01,  4.93it/s]\u001b[A"
     ]
    },
    {
     "name": "stdout",
     "output_type": "stream",
     "text": [
      "fit coeffs too far off [%] [ 0.64457121  0.62500229 -0.00805476]\n"
     ]
    },
    {
     "name": "stderr",
     "output_type": "stream",
     "text": [
      "\n",
      " 29%|██▉       | 367/1261 [01:14<03:01,  4.92it/s]\u001b[A"
     ]
    },
    {
     "name": "stdout",
     "output_type": "stream",
     "text": [
      "fit coeffs too far off [%] [ 1.79780818  1.14131591 -0.00541686]\n"
     ]
    },
    {
     "name": "stderr",
     "output_type": "stream",
     "text": [
      "\n",
      " 29%|██▉       | 368/1261 [01:14<03:01,  4.92it/s]\u001b[A\n",
      " 29%|██▉       | 369/1261 [01:15<03:01,  4.92it/s]\u001b[A\n",
      " 29%|██▉       | 370/1261 [01:15<03:01,  4.92it/s]\u001b[A\n",
      " 29%|██▉       | 371/1261 [01:15<03:00,  4.92it/s]\u001b[A\n",
      " 30%|██▉       | 372/1261 [01:15<03:00,  4.92it/s]\u001b[A"
     ]
    },
    {
     "name": "stdout",
     "output_type": "stream",
     "text": [
      "fit coeffs too far off [%] [-1.20377794 -1.11296688  0.0125599 ]\n"
     ]
    },
    {
     "name": "stderr",
     "output_type": "stream",
     "text": [
      "\n",
      " 30%|██▉       | 373/1261 [01:15<03:00,  4.91it/s]\u001b[A"
     ]
    },
    {
     "name": "stdout",
     "output_type": "stream",
     "text": [
      "fit coeffs too far off [%] [-0.95432332 -1.0884834   0.0158993 ]\n"
     ]
    },
    {
     "name": "stderr",
     "output_type": "stream",
     "text": [
      "\n",
      " 30%|██▉       | 374/1261 [01:16<03:00,  4.91it/s]\u001b[A"
     ]
    },
    {
     "name": "stdout",
     "output_type": "stream",
     "text": [
      "fit coeffs too far off [%] [-1.56516512 -1.37478637  0.00979234]\n"
     ]
    },
    {
     "name": "stderr",
     "output_type": "stream",
     "text": [
      "\n",
      " 30%|██▉       | 375/1261 [01:16<03:00,  4.90it/s]\u001b[A"
     ]
    },
    {
     "name": "stdout",
     "output_type": "stream",
     "text": [
      "fit coeffs too far off [%] [-1.46182769 -1.09830711  0.00321971]\n"
     ]
    },
    {
     "name": "stderr",
     "output_type": "stream",
     "text": [
      "\n",
      " 30%|██▉       | 376/1261 [01:16<03:00,  4.90it/s]\u001b[A"
     ]
    },
    {
     "name": "stdout",
     "output_type": "stream",
     "text": [
      "fit coeffs too far off [%] [-0.72407621 -0.41416841  0.01520535]\n",
      "fit coeffs too far off [%] [-2.78995037 -1.26519657 -0.00534998]\n"
     ]
    },
    {
     "name": "stderr",
     "output_type": "stream",
     "text": [
      "\n",
      " 30%|██▉       | 377/1261 [01:17<03:00,  4.89it/s]\u001b[A"
     ]
    },
    {
     "name": "stdout",
     "output_type": "stream",
     "text": [
      "fit coeffs too far off [%] [-0.93557584 -0.63459303  0.00800534]\n",
      "fit coeffs too far off [%] [ -4.97193524e+00  -2.29076565e+00  -2.31414960e-03]\n"
     ]
    },
    {
     "name": "stderr",
     "output_type": "stream",
     "text": [
      "\n",
      " 30%|██▉       | 378/1261 [01:17<03:00,  4.88it/s]\u001b[A"
     ]
    },
    {
     "name": "stdout",
     "output_type": "stream",
     "text": [
      "fit coeffs too far off [%] [-1.13518396 -0.7633894   0.01163749]\n",
      "fit coeffs too far off [%] [ 1.15286251  0.79729432 -0.01505889]\n"
     ]
    },
    {
     "name": "stderr",
     "output_type": "stream",
     "text": [
      "\n",
      " 30%|███       | 379/1261 [01:17<03:01,  4.87it/s]\u001b[A"
     ]
    },
    {
     "name": "stdout",
     "output_type": "stream",
     "text": [
      "fit coeffs too far off [%] [ -1.29762870e+00  -9.92748085e-01   7.58957054e-04]\n"
     ]
    },
    {
     "name": "stderr",
     "output_type": "stream",
     "text": [
      "\n",
      " 30%|███       | 380/1261 [01:18<03:01,  4.86it/s]\u001b[A"
     ]
    },
    {
     "name": "stdout",
     "output_type": "stream",
     "text": [
      "fit coeffs too far off [%] [-1.53647082 -1.30720938 -0.01257704]\n"
     ]
    },
    {
     "name": "stderr",
     "output_type": "stream",
     "text": [
      "\n",
      " 30%|███       | 381/1261 [01:18<03:01,  4.85it/s]\u001b[A"
     ]
    },
    {
     "name": "stdout",
     "output_type": "stream",
     "text": [
      "fit coeffs too far off [%] [-1.53902992 -1.39292179 -0.02632465]\n"
     ]
    },
    {
     "name": "stderr",
     "output_type": "stream",
     "text": [
      "\n",
      " 30%|███       | 382/1261 [01:18<03:01,  4.85it/s]\u001b[A"
     ]
    },
    {
     "name": "stdout",
     "output_type": "stream",
     "text": [
      "fit coeffs too far off [%] [-1.7314611  -1.54776018 -0.03226759]\n",
      "fit coeffs too far off [%] [-0.35143498 -0.56703186  0.01063762]\n"
     ]
    },
    {
     "name": "stderr",
     "output_type": "stream",
     "text": [
      "\n",
      " 30%|███       | 383/1261 [01:19<03:01,  4.84it/s]\u001b[A\n",
      " 30%|███       | 384/1261 [01:19<03:01,  4.84it/s]\u001b[A"
     ]
    },
    {
     "name": "stdout",
     "output_type": "stream",
     "text": [
      "fit coeffs too far off [%] [ 0.44268837  0.64562999 -0.00512043]\n",
      "fit coeffs too far off [%] [-1.14104067 -1.09400903  0.00550309]\n"
     ]
    },
    {
     "name": "stderr",
     "output_type": "stream",
     "text": [
      "\n",
      " 31%|███       | 385/1261 [01:19<03:01,  4.83it/s]\u001b[A"
     ]
    },
    {
     "name": "stdout",
     "output_type": "stream",
     "text": [
      "fit coeffs too far off [%] [-1.36480652 -1.31912692  0.00575692]\n"
     ]
    },
    {
     "name": "stderr",
     "output_type": "stream",
     "text": [
      "\n",
      " 31%|███       | 386/1261 [01:20<03:01,  4.82it/s]\u001b[A"
     ]
    },
    {
     "name": "stdout",
     "output_type": "stream",
     "text": [
      "fit coeffs too far off [%] [-1.5998108  -1.77178717  0.01160055]\n"
     ]
    },
    {
     "name": "stderr",
     "output_type": "stream",
     "text": [
      "\n",
      " 31%|███       | 387/1261 [01:20<03:01,  4.81it/s]\u001b[A\n",
      " 31%|███       | 388/1261 [01:20<03:01,  4.82it/s]\u001b[A"
     ]
    },
    {
     "name": "stdout",
     "output_type": "stream",
     "text": [
      "fit coeffs too far off [%] [-0.61855977 -0.52785231 -0.00659696]\n"
     ]
    },
    {
     "name": "stderr",
     "output_type": "stream",
     "text": [
      "\n",
      " 31%|███       | 389/1261 [01:20<03:01,  4.81it/s]\u001b[A"
     ]
    },
    {
     "name": "stdout",
     "output_type": "stream",
     "text": [
      "fit coeffs too far off [%] [ 0.36189358  0.76986362 -0.03278683]\n"
     ]
    },
    {
     "name": "stderr",
     "output_type": "stream",
     "text": [
      "\n",
      " 31%|███       | 390/1261 [01:21<03:01,  4.80it/s]\u001b[A"
     ]
    },
    {
     "name": "stdout",
     "output_type": "stream",
     "text": [
      "fit coeffs too far off [%] [ 0.43784479  0.94871741 -0.04532057]\n",
      "fit coeffs too far off [%] [-1.03704413 -0.56302625 -0.00140536]\n"
     ]
    },
    {
     "name": "stderr",
     "output_type": "stream",
     "text": [
      "\n",
      " 31%|███       | 391/1261 [01:21<03:01,  4.79it/s]\u001b[A"
     ]
    },
    {
     "name": "stdout",
     "output_type": "stream",
     "text": [
      "fit coeffs too far off [%] [-0.05094458  0.67233761 -0.04272875]\n"
     ]
    },
    {
     "name": "stderr",
     "output_type": "stream",
     "text": [
      "\n",
      " 31%|███       | 392/1261 [01:21<03:01,  4.79it/s]\u001b[A"
     ]
    },
    {
     "name": "stdout",
     "output_type": "stream",
     "text": [
      "fit coeffs too far off [%] [ 0.47335771  1.12944957 -0.06410484]\n",
      "fit coeffs too far off [%] [ -1.03007302e+00  -4.63031044e-01  -3.82289231e-04]\n"
     ]
    },
    {
     "name": "stderr",
     "output_type": "stream",
     "text": [
      "\n",
      " 31%|███       | 393/1261 [01:22<03:01,  4.78it/s]\u001b[A\n",
      " 31%|███       | 394/1261 [01:22<03:01,  4.78it/s]\u001b[A"
     ]
    },
    {
     "name": "stdout",
     "output_type": "stream",
     "text": [
      "fit coeffs too far off [%] [ 1.12515326  1.04471074  0.00537065]\n"
     ]
    },
    {
     "name": "stderr",
     "output_type": "stream",
     "text": [
      "\n",
      " 31%|███▏      | 395/1261 [01:22<03:01,  4.77it/s]\u001b[A\n",
      " 31%|███▏      | 396/1261 [01:22<03:01,  4.78it/s]\u001b[A"
     ]
    },
    {
     "name": "stdout",
     "output_type": "stream",
     "text": [
      "fit coeffs too far off [%] [ -5.71886169e+00  -8.67053434e+02   3.45153204e-03]\n"
     ]
    },
    {
     "name": "stderr",
     "output_type": "stream",
     "text": [
      "\n",
      " 31%|███▏      | 397/1261 [01:23<03:01,  4.77it/s]\u001b[A\n",
      " 32%|███▏      | 398/1261 [01:23<03:00,  4.77it/s]\u001b[A\n",
      " 32%|███▏      | 399/1261 [01:23<03:00,  4.78it/s]\u001b[A"
     ]
    },
    {
     "name": "stdout",
     "output_type": "stream",
     "text": [
      "fit coeffs too far off [%] [ 1.01549388  0.89728992  0.00638057]\n"
     ]
    },
    {
     "name": "stderr",
     "output_type": "stream",
     "text": [
      "\n",
      " 32%|███▏      | 400/1261 [01:23<03:00,  4.77it/s]\u001b[A"
     ]
    },
    {
     "name": "stdout",
     "output_type": "stream",
     "text": [
      "fit coeffs too far off [%] [ 2.28194274  1.64091567  0.0081376 ]\n"
     ]
    },
    {
     "name": "stderr",
     "output_type": "stream",
     "text": [
      "\n",
      " 32%|███▏      | 401/1261 [01:24<03:00,  4.77it/s]\u001b[A\n",
      " 32%|███▏      | 402/1261 [01:24<03:00,  4.77it/s]\u001b[A\n",
      " 32%|███▏      | 403/1261 [01:24<02:59,  4.77it/s]\u001b[A"
     ]
    },
    {
     "name": "stdout",
     "output_type": "stream",
     "text": [
      "fit coeffs too far off [%] [-0.63350013 -0.50364176 -0.01018687]\n"
     ]
    },
    {
     "name": "stderr",
     "output_type": "stream",
     "text": [
      "\n",
      " 32%|███▏      | 404/1261 [01:24<02:59,  4.77it/s]\u001b[A"
     ]
    },
    {
     "name": "stdout",
     "output_type": "stream",
     "text": [
      "fit coeffs too far off [%] [-0.95575066 -0.21011313 -0.00790266]\n"
     ]
    },
    {
     "name": "stderr",
     "output_type": "stream",
     "text": [
      "\n",
      " 32%|███▏      | 405/1261 [01:25<02:59,  4.76it/s]\u001b[A"
     ]
    },
    {
     "name": "stdout",
     "output_type": "stream",
     "text": [
      "fit coeffs too far off [%] [-1.00902572 -0.27580263  0.00537288]\n",
      "fit coeffs too far off [%] [-1.08348312 -0.76514717 -0.01302487]\n"
     ]
    },
    {
     "name": "stderr",
     "output_type": "stream",
     "text": [
      "\n",
      " 32%|███▏      | 406/1261 [01:25<02:59,  4.76it/s]\u001b[A"
     ]
    },
    {
     "name": "stdout",
     "output_type": "stream",
     "text": [
      "fit coeffs too far off [%] [-1.25052216 -0.27369863 -0.00623248]\n"
     ]
    },
    {
     "name": "stderr",
     "output_type": "stream",
     "text": [
      "\n",
      " 32%|███▏      | 407/1261 [01:25<02:59,  4.75it/s]\u001b[A"
     ]
    },
    {
     "name": "stdout",
     "output_type": "stream",
     "text": [
      "fit coeffs too far off [%] [-1.4658839 -0.2794983 -0.011558 ]\n"
     ]
    },
    {
     "name": "stderr",
     "output_type": "stream",
     "text": [
      "\n",
      " 32%|███▏      | 408/1261 [01:25<02:59,  4.74it/s]\u001b[A"
     ]
    },
    {
     "name": "stdout",
     "output_type": "stream",
     "text": [
      "fit coeffs too far off [%] [-1.42953609 -0.26990936 -0.01071049]\n",
      "fit coeffs too far off [%] [-1.4389313  -0.966652   -0.01425921]\n"
     ]
    },
    {
     "name": "stderr",
     "output_type": "stream",
     "text": [
      "\n",
      " 32%|███▏      | 409/1261 [01:26<02:59,  4.74it/s]\u001b[A"
     ]
    },
    {
     "name": "stdout",
     "output_type": "stream",
     "text": [
      "fit coeffs too far off [%] [-1.95708827 -0.38148436 -0.00934981]\n",
      "fit coeffs too far off [%] [-1.46142374 -1.03420005 -0.01670813]\n"
     ]
    },
    {
     "name": "stderr",
     "output_type": "stream",
     "text": [
      "\n",
      " 33%|███▎      | 410/1261 [01:26<03:00,  4.73it/s]\u001b[A"
     ]
    },
    {
     "name": "stdout",
     "output_type": "stream",
     "text": [
      "fit coeffs too far off [%] [-1.8761647  -0.24799737 -0.01042918]\n",
      "fit coeffs too far off [%] [-1.0632038  -0.86792662 -0.01992043]\n"
     ]
    },
    {
     "name": "stderr",
     "output_type": "stream",
     "text": [
      "\n",
      " 33%|███▎      | 411/1261 [01:27<03:00,  4.72it/s]\u001b[A\n",
      " 33%|███▎      | 412/1261 [01:27<02:59,  4.72it/s]\u001b[A"
     ]
    },
    {
     "name": "stdout",
     "output_type": "stream",
     "text": [
      "fit coeffs too far off [%] [  3.40026693e+00   1.08173323e+00   1.93708153e-03]\n"
     ]
    },
    {
     "name": "stderr",
     "output_type": "stream",
     "text": [
      "\n",
      " 33%|███▎      | 413/1261 [01:27<02:59,  4.72it/s]\u001b[A\n",
      " 33%|███▎      | 414/1261 [01:27<02:59,  4.72it/s]\u001b[A"
     ]
    },
    {
     "name": "stdout",
     "output_type": "stream",
     "text": [
      "fit coeffs too far off [%] [ -1.73471278e+00   7.80602667e-02  -9.96048275e-04]\n",
      "fit coeffs too far off [%] [ 1.0735605   0.79812822  0.00473038]\n"
     ]
    },
    {
     "name": "stderr",
     "output_type": "stream",
     "text": [
      "\n",
      " 33%|███▎      | 415/1261 [01:28<02:59,  4.71it/s]\u001b[A"
     ]
    },
    {
     "name": "stdout",
     "output_type": "stream",
     "text": [
      "fit coeffs too far off [%] [-5.26032387  0.13463131  0.01964936]\n"
     ]
    },
    {
     "name": "stderr",
     "output_type": "stream",
     "text": [
      "\n",
      " 33%|███▎      | 416/1261 [01:28<02:59,  4.71it/s]\u001b[A"
     ]
    },
    {
     "name": "stdout",
     "output_type": "stream",
     "text": [
      "fit coeffs too far off [%] [-4.57814485  0.32343324 -0.00824773]\n"
     ]
    },
    {
     "name": "stderr",
     "output_type": "stream",
     "text": [
      "\n",
      " 33%|███▎      | 417/1261 [01:28<02:59,  4.70it/s]\u001b[A\n",
      " 33%|███▎      | 418/1261 [01:28<02:59,  4.71it/s]\u001b[A\n",
      " 33%|███▎      | 419/1261 [01:29<02:58,  4.71it/s]\u001b[A"
     ]
    },
    {
     "name": "stdout",
     "output_type": "stream",
     "text": [
      "fit coeffs too far off [%] [-1.30740163 -0.97817051 -0.00502202]\n"
     ]
    },
    {
     "name": "stderr",
     "output_type": "stream",
     "text": [
      "\n",
      " 33%|███▎      | 420/1261 [01:29<02:58,  4.70it/s]\u001b[A"
     ]
    },
    {
     "name": "stdout",
     "output_type": "stream",
     "text": [
      "fit coeffs too far off [%] [-1.22082631 -1.01364413 -0.01059701]\n"
     ]
    },
    {
     "name": "stderr",
     "output_type": "stream",
     "text": [
      "\n",
      " 33%|███▎      | 421/1261 [01:29<02:58,  4.70it/s]\u001b[A"
     ]
    },
    {
     "name": "stdout",
     "output_type": "stream",
     "text": [
      "fit coeffs too far off [%] [-0.78653288 -0.66630966 -0.0071839 ]\n"
     ]
    },
    {
     "name": "stderr",
     "output_type": "stream",
     "text": [
      "\n",
      " 33%|███▎      | 422/1261 [01:29<02:58,  4.70it/s]\u001b[A"
     ]
    },
    {
     "name": "stdout",
     "output_type": "stream",
     "text": [
      "fit coeffs too far off [%] [-0.3587865  -0.71206019 -0.01714683]\n"
     ]
    },
    {
     "name": "stderr",
     "output_type": "stream",
     "text": [
      "\n",
      " 34%|███▎      | 423/1261 [01:30<02:58,  4.69it/s]\u001b[A\n",
      " 34%|███▎      | 424/1261 [01:30<02:58,  4.69it/s]\u001b[A"
     ]
    },
    {
     "name": "stdout",
     "output_type": "stream",
     "text": [
      "fit coeffs too far off [%] [ 0.75850262  0.59263233  0.00194743]\n"
     ]
    },
    {
     "name": "stderr",
     "output_type": "stream",
     "text": [
      "\n",
      " 34%|███▎      | 425/1261 [01:30<02:58,  4.69it/s]\u001b[A\n",
      " 34%|███▍      | 426/1261 [01:30<02:58,  4.69it/s]\u001b[A"
     ]
    },
    {
     "name": "stdout",
     "output_type": "stream",
     "text": [
      "fit coeffs too far off [%] [ 0.99767907  0.97989267  0.01322511]\n"
     ]
    },
    {
     "name": "stderr",
     "output_type": "stream",
     "text": [
      "\n",
      " 34%|███▍      | 427/1261 [01:31<02:58,  4.68it/s]\u001b[A\n",
      " 34%|███▍      | 428/1261 [01:31<02:57,  4.68it/s]\u001b[A"
     ]
    },
    {
     "name": "stdout",
     "output_type": "stream",
     "text": [
      "fit coeffs too far off [%] [  3.09415220e+00   7.47928002e-01   1.44585854e-03]\n"
     ]
    },
    {
     "name": "stderr",
     "output_type": "stream",
     "text": [
      "\n",
      " 34%|███▍      | 429/1261 [01:31<02:57,  4.68it/s]\u001b[A\n",
      " 34%|███▍      | 430/1261 [01:31<02:57,  4.68it/s]\u001b[A"
     ]
    },
    {
     "name": "stdout",
     "output_type": "stream",
     "text": [
      "fit coeffs too far off [%] [-0.72687105 -0.12786629 -0.00881862]\n",
      "fit coeffs too far off [%] [-2.05752627 -1.24733995 -0.00854216]\n"
     ]
    },
    {
     "name": "stderr",
     "output_type": "stream",
     "text": [
      "\n",
      " 34%|███▍      | 431/1261 [01:32<02:57,  4.67it/s]\u001b[A\n",
      " 34%|███▍      | 432/1261 [01:32<02:57,  4.67it/s]\u001b[A"
     ]
    },
    {
     "name": "stdout",
     "output_type": "stream",
     "text": [
      "fit coeffs too far off [%] [-1.60482114 -0.241302   -0.01470874]\n",
      "fit coeffs too far off [%] [ -4.47434512e-01  -7.46366521e-01  -3.38184092e-04]\n"
     ]
    },
    {
     "name": "stderr",
     "output_type": "stream",
     "text": [
      "\n",
      " 34%|███▍      | 433/1261 [01:32<02:57,  4.66it/s]\u001b[A"
     ]
    },
    {
     "name": "stdout",
     "output_type": "stream",
     "text": [
      "fit coeffs too far off [%] [-0.78324351  0.04230544 -0.05096987]\n"
     ]
    },
    {
     "name": "stderr",
     "output_type": "stream",
     "text": [
      "\n",
      " 34%|███▍      | 434/1261 [01:33<02:57,  4.66it/s]\u001b[A"
     ]
    },
    {
     "name": "stdout",
     "output_type": "stream",
     "text": [
      "fit coeffs too far off [%] [-2.04915646 -0.21742105 -0.02353806]\n",
      "fit coeffs too far off [%] [ -5.70541409e-01  -1.38616588e+00  -1.02171756e-03]\n"
     ]
    },
    {
     "name": "stderr",
     "output_type": "stream",
     "text": [
      "\n",
      " 34%|███▍      | 435/1261 [01:33<02:57,  4.65it/s]\u001b[A"
     ]
    },
    {
     "name": "stdout",
     "output_type": "stream",
     "text": [
      "fit coeffs too far off [%] [-3.14272941 -0.3589077  -0.0169296 ]\n"
     ]
    },
    {
     "name": "stderr",
     "output_type": "stream",
     "text": [
      "\n",
      " 35%|███▍      | 436/1261 [01:33<02:57,  4.65it/s]\u001b[A"
     ]
    },
    {
     "name": "stdout",
     "output_type": "stream",
     "text": [
      "fit coeffs too far off [%] [-4.68927128 -0.63315155  0.01184405]\n",
      "fit coeffs too far off [%] [ -1.39567012e+00   6.90703789e-01  -8.62443878e-04]\n"
     ]
    },
    {
     "name": "stderr",
     "output_type": "stream",
     "text": [
      "\n",
      " 35%|███▍      | 437/1261 [01:34<02:57,  4.64it/s]\u001b[A"
     ]
    },
    {
     "name": "stdout",
     "output_type": "stream",
     "text": [
      "fit coeffs too far off [%] [-4.76057695 -0.81397517  0.05144156]\n"
     ]
    },
    {
     "name": "stderr",
     "output_type": "stream",
     "text": [
      "\n",
      " 35%|███▍      | 438/1261 [01:34<02:57,  4.63it/s]\u001b[A"
     ]
    },
    {
     "name": "stdout",
     "output_type": "stream",
     "text": [
      "fit coeffs too far off [%] [-5.25406964 -0.77349645  0.04961121]\n",
      "fit coeffs too far off [%] [-2.12162152  0.33576817  0.00644765]\n"
     ]
    },
    {
     "name": "stderr",
     "output_type": "stream",
     "text": [
      "\n",
      " 35%|███▍      | 439/1261 [01:34<02:57,  4.62it/s]\u001b[A\n",
      " 35%|███▍      | 440/1261 [01:35<02:57,  4.63it/s]\u001b[A"
     ]
    },
    {
     "name": "stdout",
     "output_type": "stream",
     "text": [
      "fit coeffs too far off [%] [ -3.30957287e-04   4.55348439e+00   3.26862844e-02]\n",
      "fit coeffs too far off [%] [ 1.05842119  1.76409027 -0.01511777]\n"
     ]
    },
    {
     "name": "stderr",
     "output_type": "stream",
     "text": [
      "\n",
      " 35%|███▍      | 441/1261 [01:35<02:57,  4.62it/s]\u001b[A\n",
      " 35%|███▌      | 442/1261 [01:35<02:57,  4.62it/s]\u001b[A\n",
      " 35%|███▌      | 443/1261 [01:35<02:56,  4.62it/s]\u001b[A"
     ]
    },
    {
     "name": "stdout",
     "output_type": "stream",
     "text": [
      "fit coeffs too far off [%] [ 0.0134884  -1.35161397 -0.04972768]\n"
     ]
    },
    {
     "name": "stderr",
     "output_type": "stream",
     "text": [
      "\n",
      " 35%|███▌      | 444/1261 [01:36<02:56,  4.62it/s]\u001b[A"
     ]
    },
    {
     "name": "stdout",
     "output_type": "stream",
     "text": [
      "fit coeffs too far off [%] [-0.23869781 -1.7209927  -0.04396996]\n"
     ]
    },
    {
     "name": "stderr",
     "output_type": "stream",
     "text": [
      "\n",
      " 35%|███▌      | 445/1261 [01:36<02:56,  4.61it/s]\u001b[A"
     ]
    },
    {
     "name": "stdout",
     "output_type": "stream",
     "text": [
      "fit coeffs too far off [%] [-0.44275803 -0.70131532  0.01586484]\n"
     ]
    },
    {
     "name": "stderr",
     "output_type": "stream",
     "text": [
      "\n",
      " 35%|███▌      | 446/1261 [01:36<02:56,  4.61it/s]\u001b[A"
     ]
    },
    {
     "name": "stdout",
     "output_type": "stream",
     "text": [
      "fit coeffs too far off [%] [ -5.33358006e-02  -1.78460582e+01   1.41047297e-02]\n",
      "fit coeffs too far off [%] [-0.50794239 -0.67859706  0.00849513]\n"
     ]
    },
    {
     "name": "stderr",
     "output_type": "stream",
     "text": [
      "\n",
      " 35%|███▌      | 447/1261 [01:37<02:56,  4.60it/s]\u001b[A"
     ]
    },
    {
     "name": "stdout",
     "output_type": "stream",
     "text": [
      "fit coeffs too far off [%] [-0.66999587 -0.5709518  -0.00610583]\n"
     ]
    },
    {
     "name": "stderr",
     "output_type": "stream",
     "text": [
      "\n",
      " 36%|███▌      | 448/1261 [01:37<02:56,  4.60it/s]\u001b[A"
     ]
    },
    {
     "name": "stdout",
     "output_type": "stream",
     "text": [
      "fit coeffs too far off [%] [ -8.38108956e-01  -8.44921249e-01  -7.42375969e-04]\n"
     ]
    },
    {
     "name": "stderr",
     "output_type": "stream",
     "text": [
      "\n",
      " 36%|███▌      | 449/1261 [01:37<02:56,  4.59it/s]\u001b[A\n",
      " 36%|███▌      | 450/1261 [01:37<02:56,  4.59it/s]\u001b[A\n",
      " 36%|███▌      | 451/1261 [01:38<02:56,  4.60it/s]\u001b[A"
     ]
    },
    {
     "name": "stdout",
     "output_type": "stream",
     "text": [
      "fit coeffs too far off [%] [ 0.7634568   0.4269636  -0.00098973]\n"
     ]
    },
    {
     "name": "stderr",
     "output_type": "stream",
     "text": [
      "\n",
      " 36%|███▌      | 452/1261 [01:38<02:56,  4.59it/s]\u001b[A"
     ]
    },
    {
     "name": "stdout",
     "output_type": "stream",
     "text": [
      "fit coeffs too far off [%] [ 1.32511719  1.09345288 -0.00279567]\n"
     ]
    },
    {
     "name": "stderr",
     "output_type": "stream",
     "text": [
      "\n",
      " 36%|███▌      | 453/1261 [01:38<02:56,  4.59it/s]\u001b[A\n",
      " 36%|███▌      | 454/1261 [01:38<02:55,  4.59it/s]\u001b[A\n",
      " 36%|███▌      | 455/1261 [01:39<02:55,  4.59it/s]\u001b[A"
     ]
    },
    {
     "name": "stdout",
     "output_type": "stream",
     "text": [
      "fit coeffs too far off [%] [-0.78674813 -0.62939137  0.02160361]\n"
     ]
    },
    {
     "name": "stderr",
     "output_type": "stream",
     "text": [
      "\n",
      " 36%|███▌      | 456/1261 [01:39<02:55,  4.59it/s]\u001b[A"
     ]
    },
    {
     "name": "stdout",
     "output_type": "stream",
     "text": [
      "fit coeffs too far off [%] [-0.94246344 -0.77005795  0.02266849]\n",
      "fit coeffs too far off [%] [-0.72541047 -0.7141157   0.00675773]\n"
     ]
    },
    {
     "name": "stderr",
     "output_type": "stream",
     "text": [
      "\n",
      " 36%|███▌      | 457/1261 [01:39<02:55,  4.58it/s]\u001b[A"
     ]
    },
    {
     "name": "stdout",
     "output_type": "stream",
     "text": [
      "fit coeffs too far off [%] [-0.89683412 -0.55034727  0.03219759]\n",
      "fit coeffs too far off [%] [-0.77565187 -0.82010147  0.01001998]\n"
     ]
    },
    {
     "name": "stderr",
     "output_type": "stream",
     "text": [
      "\n",
      " 36%|███▋      | 458/1261 [01:40<02:55,  4.57it/s]\u001b[A"
     ]
    },
    {
     "name": "stdout",
     "output_type": "stream",
     "text": [
      "fit coeffs too far off [%] [-1.29110949 -1.20615953  0.02613913]\n",
      "fit coeffs too far off [%] [-0.74097063 -0.94722055  0.01144807]\n"
     ]
    },
    {
     "name": "stderr",
     "output_type": "stream",
     "text": [
      "\n",
      " 36%|███▋      | 459/1261 [01:40<02:55,  4.57it/s]\u001b[A"
     ]
    },
    {
     "name": "stdout",
     "output_type": "stream",
     "text": [
      "fit coeffs too far off [%] [-1.99209789 -1.63717297  0.04591851]\n"
     ]
    },
    {
     "name": "stderr",
     "output_type": "stream",
     "text": [
      "\n",
      " 36%|███▋      | 460/1261 [01:40<02:55,  4.56it/s]\u001b[A"
     ]
    },
    {
     "name": "stdout",
     "output_type": "stream",
     "text": [
      "fit coeffs too far off [%] [-2.04044564 -1.86340856  0.03467374]\n",
      "fit coeffs too far off [%] [ 1.28808235 -0.15106733  0.00497035]\n"
     ]
    },
    {
     "name": "stderr",
     "output_type": "stream",
     "text": [
      "\n",
      " 37%|███▋      | 461/1261 [01:41<02:55,  4.56it/s]\u001b[A"
     ]
    },
    {
     "name": "stdout",
     "output_type": "stream",
     "text": [
      "fit coeffs too far off [%] [-2.58264529 -2.38630112  0.01308936]\n"
     ]
    },
    {
     "name": "stderr",
     "output_type": "stream",
     "text": [
      "\n",
      " 37%|███▋      | 462/1261 [01:41<02:55,  4.55it/s]\u001b[A"
     ]
    },
    {
     "name": "stdout",
     "output_type": "stream",
     "text": [
      "fit coeffs too far off [%] [ 0.21166329  0.67422306  0.01029503]\n"
     ]
    },
    {
     "name": "stderr",
     "output_type": "stream",
     "text": [
      "\n",
      " 37%|███▋      | 463/1261 [01:41<02:55,  4.55it/s]\u001b[A\n",
      " 37%|███▋      | 464/1261 [01:42<02:55,  4.55it/s]\u001b[A"
     ]
    },
    {
     "name": "stdout",
     "output_type": "stream",
     "text": [
      "fit coeffs too far off [%] [ 1.07501403  0.20867575 -0.00629173]\n"
     ]
    },
    {
     "name": "stderr",
     "output_type": "stream",
     "text": [
      "\n",
      " 37%|███▋      | 465/1261 [01:42<02:55,  4.55it/s]\u001b[A\n",
      " 37%|███▋      | 466/1261 [01:42<02:54,  4.55it/s]\u001b[A\n",
      " 37%|███▋      | 467/1261 [01:42<02:54,  4.55it/s]\u001b[A\n",
      " 37%|███▋      | 468/1261 [01:42<02:54,  4.55it/s]\u001b[A\n",
      " 37%|███▋      | 469/1261 [01:43<02:53,  4.55it/s]\u001b[A\n",
      " 37%|███▋      | 470/1261 [01:43<02:53,  4.55it/s]\u001b[A\n",
      " 37%|███▋      | 471/1261 [01:43<02:53,  4.56it/s]\u001b[A"
     ]
    },
    {
     "name": "stdout",
     "output_type": "stream",
     "text": [
      "fit coeffs too far off [%] [ 0.55577019  0.53694021  0.00870789]\n"
     ]
    },
    {
     "name": "stderr",
     "output_type": "stream",
     "text": [
      "\n",
      " 37%|███▋      | 472/1261 [01:43<02:53,  4.55it/s]\u001b[A\n",
      " 38%|███▊      | 473/1261 [01:43<02:52,  4.56it/s]\u001b[A\n",
      " 38%|███▊      | 474/1261 [01:44<02:52,  4.56it/s]\u001b[A"
     ]
    },
    {
     "name": "stdout",
     "output_type": "stream",
     "text": [
      "fit coeffs too far off [%] [-1.00692476 -0.4844645   0.00639533]\n"
     ]
    },
    {
     "name": "stderr",
     "output_type": "stream",
     "text": [
      "\n",
      " 38%|███▊      | 475/1261 [01:44<02:52,  4.55it/s]\u001b[A"
     ]
    },
    {
     "name": "stdout",
     "output_type": "stream",
     "text": [
      "fit coeffs too far off [%] [-1.09188526 -0.28535179 -0.0215034 ]\n",
      "fit coeffs too far off [%] [-1.05268895 -0.18822318  0.01112401]\n"
     ]
    },
    {
     "name": "stderr",
     "output_type": "stream",
     "text": [
      "\n",
      " 38%|███▊      | 476/1261 [01:44<02:52,  4.55it/s]\u001b[A"
     ]
    },
    {
     "name": "stdout",
     "output_type": "stream",
     "text": [
      "fit coeffs too far off [%] [-1.02155485 -0.26929964 -0.01346482]\n",
      "fit coeffs too far off [%] [-0.94950698 -0.23901602  0.00786998]\n"
     ]
    },
    {
     "name": "stderr",
     "output_type": "stream",
     "text": [
      "\n",
      " 38%|███▊      | 477/1261 [01:45<02:52,  4.54it/s]\u001b[A"
     ]
    },
    {
     "name": "stdout",
     "output_type": "stream",
     "text": [
      "fit coeffs too far off [%] [-1.0861567  -0.1287114  -0.02992324]\n"
     ]
    },
    {
     "name": "stderr",
     "output_type": "stream",
     "text": [
      "\n",
      " 38%|███▊      | 478/1261 [01:45<02:52,  4.53it/s]\u001b[A"
     ]
    },
    {
     "name": "stdout",
     "output_type": "stream",
     "text": [
      "fit coeffs too far off [%] [-1.35346676 -0.10647443 -0.03934452]\n"
     ]
    },
    {
     "name": "stderr",
     "output_type": "stream",
     "text": [
      "\n",
      " 38%|███▊      | 479/1261 [01:45<02:52,  4.53it/s]\u001b[A"
     ]
    },
    {
     "name": "stdout",
     "output_type": "stream",
     "text": [
      "fit coeffs too far off [%] [-1.62644992 -0.08579018 -0.04170361]\n",
      "fit coeffs too far off [%] [ -3.03457870e+00  -1.02494581e+00   2.24471722e-03]\n"
     ]
    },
    {
     "name": "stderr",
     "output_type": "stream",
     "text": [
      "\n",
      " 38%|███▊      | 480/1261 [01:46<02:52,  4.53it/s]\u001b[A"
     ]
    },
    {
     "name": "stdout",
     "output_type": "stream",
     "text": [
      "fit coeffs too far off [%] [-2.16103119 -0.05675767 -0.05470059]\n",
      "fit coeffs too far off [%] [-2.0989214  -0.51819565  0.01381764]\n"
     ]
    },
    {
     "name": "stderr",
     "output_type": "stream",
     "text": [
      "\n",
      " 38%|███▊      | 481/1261 [01:46<02:52,  4.52it/s]\u001b[A"
     ]
    },
    {
     "name": "stdout",
     "output_type": "stream",
     "text": [
      "fit coeffs too far off [%] [-1.48158208 -0.3092253   0.01358931]\n"
     ]
    },
    {
     "name": "stderr",
     "output_type": "stream",
     "text": [
      "\n",
      " 38%|███▊      | 482/1261 [01:46<02:52,  4.52it/s]\u001b[A"
     ]
    },
    {
     "name": "stdout",
     "output_type": "stream",
     "text": [
      "fit coeffs too far off [%] [ 0.90931469 -0.09092792 -0.0155808 ]\n",
      "fit coeffs too far off [%] [-1.63216225 -0.15730633  0.02011545]\n"
     ]
    },
    {
     "name": "stderr",
     "output_type": "stream",
     "text": [
      "\n",
      " 38%|███▊      | 483/1261 [01:47<02:52,  4.51it/s]\u001b[A"
     ]
    },
    {
     "name": "stdout",
     "output_type": "stream",
     "text": [
      "fit coeffs too far off [%] [-1.73829233 -0.1743713   0.01933839]\n"
     ]
    },
    {
     "name": "stderr",
     "output_type": "stream",
     "text": [
      "\n",
      " 38%|███▊      | 484/1261 [01:47<02:52,  4.51it/s]\u001b[A"
     ]
    },
    {
     "name": "stdout",
     "output_type": "stream",
     "text": [
      "fit coeffs too far off [%] [-0.94451525 -0.16172086  0.0075576 ]\n"
     ]
    },
    {
     "name": "stderr",
     "output_type": "stream",
     "text": [
      "\n",
      " 38%|███▊      | 485/1261 [01:47<02:52,  4.50it/s]\u001b[A"
     ]
    },
    {
     "name": "stdout",
     "output_type": "stream",
     "text": [
      "fit coeffs too far off [%] [ 0.82415921  0.09080586  0.00925626]\n"
     ]
    },
    {
     "name": "stderr",
     "output_type": "stream",
     "text": [
      "\n",
      " 39%|███▊      | 486/1261 [01:47<02:52,  4.50it/s]\u001b[A\n",
      " 39%|███▊      | 487/1261 [01:48<02:51,  4.50it/s]\u001b[A"
     ]
    },
    {
     "name": "stdout",
     "output_type": "stream",
     "text": [
      "fit coeffs too far off [%] [-1.04194176  0.07473871  0.02936431]\n",
      "fit coeffs too far off [%] [-1.00588311 -0.35931992 -0.004287  ]\n"
     ]
    },
    {
     "name": "stderr",
     "output_type": "stream",
     "text": [
      "\n",
      " 39%|███▊      | 488/1261 [01:48<02:51,  4.50it/s]\u001b[A"
     ]
    },
    {
     "name": "stdout",
     "output_type": "stream",
     "text": [
      "fit coeffs too far off [%] [-0.88759477 -0.41032335  0.05329604]\n"
     ]
    },
    {
     "name": "stderr",
     "output_type": "stream",
     "text": [
      "\n",
      " 39%|███▉      | 489/1261 [01:48<02:51,  4.49it/s]\u001b[A"
     ]
    },
    {
     "name": "stdout",
     "output_type": "stream",
     "text": [
      "fit coeffs too far off [%] [-1.05199467 -0.48178943  0.06279948]\n",
      "fit coeffs too far off [%] [-1.75944852 -0.98910361 -0.0198411 ]\n"
     ]
    },
    {
     "name": "stderr",
     "output_type": "stream",
     "text": [
      "\n",
      " 39%|███▉      | 490/1261 [01:49<02:51,  4.49it/s]\u001b[A"
     ]
    },
    {
     "name": "stdout",
     "output_type": "stream",
     "text": [
      "fit coeffs too far off [%] [-1.29214569 -0.00226572  0.04426819]\n"
     ]
    },
    {
     "name": "stderr",
     "output_type": "stream",
     "text": [
      "\n",
      " 39%|███▉      | 491/1261 [01:49<02:51,  4.48it/s]\u001b[A\n",
      " 39%|███▉      | 492/1261 [01:49<02:51,  4.48it/s]\u001b[A"
     ]
    },
    {
     "name": "stdout",
     "output_type": "stream",
     "text": [
      "fit coeffs too far off [%] [-1.18472516 -5.0391842  -0.03192822]\n",
      "fit coeffs too far off [%] [-0.25575716 -1.22735923  0.00792634]\n"
     ]
    },
    {
     "name": "stderr",
     "output_type": "stream",
     "text": [
      "\n",
      " 39%|███▉      | 493/1261 [01:50<02:51,  4.48it/s]\u001b[A"
     ]
    },
    {
     "name": "stdout",
     "output_type": "stream",
     "text": [
      "fit coeffs too far off [%] [-0.52232945 -1.86638016  0.01075818]\n"
     ]
    },
    {
     "name": "stderr",
     "output_type": "stream",
     "text": [
      "\n",
      " 39%|███▉      | 494/1261 [01:50<02:51,  4.48it/s]\u001b[A"
     ]
    },
    {
     "name": "stdout",
     "output_type": "stream",
     "text": [
      "fit coeffs too far off [%] [ 0.15431012  0.59229229 -0.024747  ]\n"
     ]
    },
    {
     "name": "stderr",
     "output_type": "stream",
     "text": [
      "\n",
      " 39%|███▉      | 495/1261 [01:50<02:51,  4.47it/s]\u001b[A"
     ]
    },
    {
     "name": "stdout",
     "output_type": "stream",
     "text": [
      "fit coeffs too far off [%] [-0.32405831  0.82268907  0.00435388]\n"
     ]
    },
    {
     "name": "stderr",
     "output_type": "stream",
     "text": [
      "\n",
      " 39%|███▉      | 496/1261 [01:50<02:51,  4.47it/s]\u001b[A\n",
      " 39%|███▉      | 497/1261 [01:51<02:50,  4.47it/s]\u001b[A"
     ]
    },
    {
     "name": "stdout",
     "output_type": "stream",
     "text": [
      "fit coeffs too far off [%] [-5.25725794  1.67479367  0.00534118]\n"
     ]
    },
    {
     "name": "stderr",
     "output_type": "stream",
     "text": [
      "\n",
      " 39%|███▉      | 498/1261 [01:51<02:50,  4.47it/s]\u001b[A\n",
      " 40%|███▉      | 499/1261 [01:51<02:50,  4.47it/s]\u001b[A"
     ]
    },
    {
     "name": "stdout",
     "output_type": "stream",
     "text": [
      "fit coeffs too far off [%] [-0.72091997  0.28785459 -0.00954387]\n",
      "fit coeffs too far off [%] [ 8.59405237  1.47366826  0.01194179]\n"
     ]
    },
    {
     "name": "stderr",
     "output_type": "stream",
     "text": [
      "\n",
      " 40%|███▉      | 500/1261 [01:51<02:50,  4.47it/s]\u001b[A"
     ]
    },
    {
     "name": "stdout",
     "output_type": "stream",
     "text": [
      "fit coeffs too far off [%] [-2.31962641  0.97968244 -0.0408487 ]\n"
     ]
    },
    {
     "name": "stderr",
     "output_type": "stream",
     "text": [
      "\n",
      " 40%|███▉      | 501/1261 [01:52<02:50,  4.46it/s]\u001b[A"
     ]
    },
    {
     "name": "stdout",
     "output_type": "stream",
     "text": [
      "fit coeffs too far off [%] [-1.85711803  1.13968761 -0.06152938]\n",
      "fit coeffs too far off [%] [ 2.40224699  0.52090509  0.00980713]\n"
     ]
    },
    {
     "name": "stderr",
     "output_type": "stream",
     "text": [
      "\n",
      " 40%|███▉      | 502/1261 [01:52<02:50,  4.46it/s]\u001b[A"
     ]
    },
    {
     "name": "stdout",
     "output_type": "stream",
     "text": [
      "fit coeffs too far off [%] [-3.90110148  1.95808071 -0.09302336]\n"
     ]
    },
    {
     "name": "stderr",
     "output_type": "stream",
     "text": [
      "\n",
      " 40%|███▉      | 503/1261 [01:52<02:50,  4.45it/s]\u001b[A\n",
      " 40%|███▉      | 504/1261 [01:53<02:49,  4.45it/s]\u001b[A\n",
      " 40%|████      | 505/1261 [01:53<02:49,  4.46it/s]\u001b[A"
     ]
    },
    {
     "name": "stdout",
     "output_type": "stream",
     "text": [
      "fit coeffs too far off [%] [-1.98477543 -0.82834649 -0.01609425]\n"
     ]
    },
    {
     "name": "stderr",
     "output_type": "stream",
     "text": [
      "\n",
      " 40%|████      | 506/1261 [01:53<02:49,  4.45it/s]\u001b[A"
     ]
    },
    {
     "name": "stdout",
     "output_type": "stream",
     "text": [
      "fit coeffs too far off [%] [-0.70158004 -0.31908182 -0.00683347]\n"
     ]
    },
    {
     "name": "stderr",
     "output_type": "stream",
     "text": [
      "\n",
      " 40%|████      | 507/1261 [01:53<02:49,  4.45it/s]\u001b[A"
     ]
    },
    {
     "name": "stdout",
     "output_type": "stream",
     "text": [
      "fit coeffs too far off [%] [-0.95398709 -0.39894396 -0.00693149]\n"
     ]
    },
    {
     "name": "stderr",
     "output_type": "stream",
     "text": [
      "\n",
      " 40%|████      | 508/1261 [01:54<02:49,  4.45it/s]\u001b[A\n",
      " 40%|████      | 509/1261 [01:54<02:48,  4.45it/s]\u001b[A"
     ]
    },
    {
     "name": "stdout",
     "output_type": "stream",
     "text": [
      "fit coeffs too far off [%] [-0.8058623  -0.11071076 -0.01478594]\n",
      "fit coeffs too far off [%] [ 1.73628335  0.29617833  0.00393924]\n"
     ]
    },
    {
     "name": "stderr",
     "output_type": "stream",
     "text": [
      "\n",
      " 40%|████      | 510/1261 [01:54<02:48,  4.45it/s]\u001b[A\n",
      " 41%|████      | 511/1261 [01:54<02:48,  4.45it/s]\u001b[A"
     ]
    },
    {
     "name": "stdout",
     "output_type": "stream",
     "text": [
      "fit coeffs too far off [%] [ 0.80583341  0.18427264 -0.00122584]\n"
     ]
    },
    {
     "name": "stderr",
     "output_type": "stream",
     "text": [
      "\n",
      " 41%|████      | 512/1261 [01:55<02:48,  4.44it/s]\u001b[A\n",
      " 41%|████      | 513/1261 [01:55<02:48,  4.44it/s]\u001b[A"
     ]
    },
    {
     "name": "stdout",
     "output_type": "stream",
     "text": [
      "fit coeffs too far off [%] [ 1.59064982 -0.39738564 -0.01161057]\n"
     ]
    },
    {
     "name": "stderr",
     "output_type": "stream",
     "text": [
      "\n",
      " 41%|████      | 514/1261 [01:55<02:48,  4.44it/s]\u001b[A\n",
      " 41%|████      | 515/1261 [01:55<02:47,  4.44it/s]\u001b[A"
     ]
    },
    {
     "name": "stdout",
     "output_type": "stream",
     "text": [
      "fit coeffs too far off [%] [-7.25677294 -1.8294271  -0.01853705]\n"
     ]
    },
    {
     "name": "stderr",
     "output_type": "stream",
     "text": [
      "\n",
      " 41%|████      | 516/1261 [01:56<02:47,  4.44it/s]\u001b[A\n",
      " 41%|████      | 517/1261 [01:56<02:47,  4.44it/s]\u001b[A"
     ]
    },
    {
     "name": "stdout",
     "output_type": "stream",
     "text": [
      "fit coeffs too far off [%] [ 0.20538741  0.79532784  0.00212647]\n"
     ]
    },
    {
     "name": "stderr",
     "output_type": "stream",
     "text": [
      "\n",
      " 41%|████      | 518/1261 [01:56<02:47,  4.44it/s]\u001b[A"
     ]
    },
    {
     "name": "stdout",
     "output_type": "stream",
     "text": [
      "fit coeffs too far off [%] [-3.0826554  -0.52540865  0.01493978]\n"
     ]
    },
    {
     "name": "stderr",
     "output_type": "stream",
     "text": [
      "\n",
      " 41%|████      | 519/1261 [01:56<02:47,  4.44it/s]\u001b[A"
     ]
    },
    {
     "name": "stdout",
     "output_type": "stream",
     "text": [
      "fit coeffs too far off [%] [-3.57806879 -0.58504809  0.00661252]\n",
      "fit coeffs too far off [%] [-0.03581743 -8.80375276  0.00949022]\n"
     ]
    },
    {
     "name": "stderr",
     "output_type": "stream",
     "text": [
      "\n",
      " 41%|████      | 520/1261 [01:57<02:47,  4.43it/s]\u001b[A"
     ]
    },
    {
     "name": "stdout",
     "output_type": "stream",
     "text": [
      "fit coeffs too far off [%] [-3.1032372  -0.66192757  0.03399166]\n"
     ]
    },
    {
     "name": "stderr",
     "output_type": "stream",
     "text": [
      "\n",
      " 41%|████▏     | 521/1261 [01:57<02:47,  4.43it/s]\u001b[A"
     ]
    },
    {
     "name": "stdout",
     "output_type": "stream",
     "text": [
      "fit coeffs too far off [%] [-2.71388718 -0.62682653  0.04353861]\n",
      "fit coeffs too far off [%] [ -2.62456544e+00   5.34721029e-01   2.62351728e-03]\n"
     ]
    },
    {
     "name": "stderr",
     "output_type": "stream",
     "text": [
      "\n",
      " 41%|████▏     | 522/1261 [01:58<02:47,  4.42it/s]\u001b[A"
     ]
    },
    {
     "name": "stdout",
     "output_type": "stream",
     "text": [
      "fit coeffs too far off [%] [-2.08242581 -0.61874338  0.05655491]\n"
     ]
    },
    {
     "name": "stderr",
     "output_type": "stream",
     "text": [
      "\n",
      " 41%|████▏     | 523/1261 [01:58<02:46,  4.42it/s]\u001b[A"
     ]
    },
    {
     "name": "stdout",
     "output_type": "stream",
     "text": [
      "fit coeffs too far off [%] [-1.88762399 -0.65357661  0.0807378 ]\n"
     ]
    },
    {
     "name": "stderr",
     "output_type": "stream",
     "text": [
      "\n",
      " 42%|████▏     | 524/1261 [01:58<02:46,  4.42it/s]\u001b[A"
     ]
    },
    {
     "name": "stdout",
     "output_type": "stream",
     "text": [
      "fit coeffs too far off [%] [-0.86333071 -0.5550268   0.09798903]\n",
      "fit coeffs too far off [%] [-1.66416846 -0.75625384 -0.00934171]\n"
     ]
    },
    {
     "name": "stderr",
     "output_type": "stream",
     "text": [
      "\n",
      " 42%|████▏     | 525/1261 [01:58<02:46,  4.41it/s]\u001b[A"
     ]
    },
    {
     "name": "stdout",
     "output_type": "stream",
     "text": [
      "fit coeffs too far off [%] [-0.71969414 -0.37816352 -0.01032946]\n"
     ]
    },
    {
     "name": "stderr",
     "output_type": "stream",
     "text": [
      "\n",
      " 42%|████▏     | 526/1261 [01:59<02:46,  4.41it/s]\u001b[A"
     ]
    },
    {
     "name": "stdout",
     "output_type": "stream",
     "text": [
      "fit coeffs too far off [%] [ 1.24434033  0.26126207 -0.02894802]\n"
     ]
    },
    {
     "name": "stderr",
     "output_type": "stream",
     "text": [
      "\n",
      " 42%|████▏     | 527/1261 [01:59<02:46,  4.41it/s]\u001b[A"
     ]
    },
    {
     "name": "stdout",
     "output_type": "stream",
     "text": [
      "fit coeffs too far off [%] [ -5.85176198e+00  -5.02267732e-01  -1.92508575e-03]\n"
     ]
    },
    {
     "name": "stderr",
     "output_type": "stream",
     "text": [
      "\n",
      " 42%|████▏     | 528/1261 [01:59<02:46,  4.41it/s]\u001b[A"
     ]
    },
    {
     "name": "stdout",
     "output_type": "stream",
     "text": [
      "fit coeffs too far off [%] [ 13.73932029   0.52998249  -0.03461681]\n"
     ]
    },
    {
     "name": "stderr",
     "output_type": "stream",
     "text": [
      "\n",
      " 42%|████▏     | 529/1261 [02:00<02:46,  4.40it/s]\u001b[A"
     ]
    },
    {
     "name": "stdout",
     "output_type": "stream",
     "text": [
      "fit coeffs too far off [%] [ 2.01070631 -0.34243349 -0.00905741]\n"
     ]
    },
    {
     "name": "stderr",
     "output_type": "stream",
     "text": [
      "\n",
      " 42%|████▏     | 530/1261 [02:00<02:46,  4.40it/s]\u001b[A"
     ]
    },
    {
     "name": "stdout",
     "output_type": "stream",
     "text": [
      "fit coeffs too far off [%] [-3.79429225  0.05468269  0.03303042]\n"
     ]
    },
    {
     "name": "stderr",
     "output_type": "stream",
     "text": [
      "\n",
      " 42%|████▏     | 531/1261 [02:00<02:45,  4.40it/s]\u001b[A"
     ]
    },
    {
     "name": "stdout",
     "output_type": "stream",
     "text": [
      "fit coeffs too far off [%] [ 0.35168484  0.52670439 -0.02745718]\n"
     ]
    },
    {
     "name": "stderr",
     "output_type": "stream",
     "text": [
      "\n",
      " 42%|████▏     | 532/1261 [02:00<02:45,  4.40it/s]\u001b[A"
     ]
    },
    {
     "name": "stdout",
     "output_type": "stream",
     "text": [
      "fit coeffs too far off [%] [-7.74242969 -3.2193965   0.11496728]\n"
     ]
    },
    {
     "name": "stderr",
     "output_type": "stream",
     "text": [
      "\n",
      " 42%|████▏     | 533/1261 [02:01<02:45,  4.40it/s]\u001b[A\n",
      " 42%|████▏     | 534/1261 [02:01<02:45,  4.40it/s]\u001b[A"
     ]
    },
    {
     "name": "stdout",
     "output_type": "stream",
     "text": [
      "fit coeffs too far off [%] [-1.4685658  -1.15219164  0.06572255]\n"
     ]
    },
    {
     "name": "stderr",
     "output_type": "stream",
     "text": [
      "\n",
      " 42%|████▏     | 535/1261 [02:01<02:45,  4.40it/s]\u001b[A"
     ]
    },
    {
     "name": "stdout",
     "output_type": "stream",
     "text": [
      "fit coeffs too far off [%] [-1.72165705 -1.37019306  0.07459038]\n"
     ]
    },
    {
     "name": "stderr",
     "output_type": "stream",
     "text": [
      "\n",
      " 43%|████▎     | 536/1261 [02:01<02:44,  4.40it/s]\u001b[A\n",
      " 43%|████▎     | 537/1261 [02:02<02:44,  4.40it/s]\u001b[A"
     ]
    },
    {
     "name": "stdout",
     "output_type": "stream",
     "text": [
      "fit coeffs too far off [%] [-0.86198224 -1.09109007 -0.11239472]\n"
     ]
    },
    {
     "name": "stderr",
     "output_type": "stream",
     "text": [
      "\n",
      " 43%|████▎     | 538/1261 [02:02<02:44,  4.40it/s]\u001b[A"
     ]
    },
    {
     "name": "stdout",
     "output_type": "stream",
     "text": [
      "fit coeffs too far off [%] [-0.90392355 -1.17094772 -0.13370239]\n"
     ]
    },
    {
     "name": "stderr",
     "output_type": "stream",
     "text": [
      "\n",
      " 43%|████▎     | 539/1261 [02:02<02:44,  4.39it/s]\u001b[A"
     ]
    },
    {
     "name": "stdout",
     "output_type": "stream",
     "text": [
      "fit coeffs too far off [%] [-1.08116068 -1.40618753 -0.12910577]\n"
     ]
    },
    {
     "name": "stderr",
     "output_type": "stream",
     "text": [
      "\n",
      " 43%|████▎     | 540/1261 [02:02<02:44,  4.39it/s]\u001b[A"
     ]
    },
    {
     "name": "stdout",
     "output_type": "stream",
     "text": [
      "fit coeffs too far off [%] [-1.38501241 -1.71751    -0.11926943]\n"
     ]
    },
    {
     "name": "stderr",
     "output_type": "stream",
     "text": [
      "\n",
      " 43%|████▎     | 541/1261 [02:03<02:43,  4.39it/s]\u001b[A\n",
      " 43%|████▎     | 542/1261 [02:03<02:43,  4.39it/s]\u001b[A\n",
      " 43%|████▎     | 543/1261 [02:03<02:43,  4.39it/s]\u001b[A\n",
      " 43%|████▎     | 544/1261 [02:03<02:43,  4.39it/s]\u001b[A"
     ]
    },
    {
     "name": "stdout",
     "output_type": "stream",
     "text": [
      "fit coeffs too far off [%] [ 0.62904207  0.67806965  0.02204584]\n"
     ]
    },
    {
     "name": "stderr",
     "output_type": "stream",
     "text": [
      "\n",
      " 43%|████▎     | 545/1261 [02:04<02:42,  4.39it/s]\u001b[A"
     ]
    },
    {
     "name": "stdout",
     "output_type": "stream",
     "text": [
      "fit coeffs too far off [%] [ 2.83115855  2.42617157  0.08420758]\n"
     ]
    },
    {
     "name": "stderr",
     "output_type": "stream",
     "text": [
      "\n",
      " 43%|████▎     | 546/1261 [02:04<02:42,  4.39it/s]\u001b[A"
     ]
    },
    {
     "name": "stdout",
     "output_type": "stream",
     "text": [
      "fit coeffs too far off [%] [ 4.42775834  3.85689345  0.14628422]\n"
     ]
    },
    {
     "name": "stderr",
     "output_type": "stream",
     "text": [
      "\n",
      " 43%|████▎     | 547/1261 [02:04<02:42,  4.39it/s]\u001b[A"
     ]
    },
    {
     "name": "stdout",
     "output_type": "stream",
     "text": [
      "fit coeffs too far off [%] [ 2.68547729  2.50302751  0.10626639]\n"
     ]
    },
    {
     "name": "stderr",
     "output_type": "stream",
     "text": [
      "\n",
      " 43%|████▎     | 548/1261 [02:04<02:42,  4.39it/s]\u001b[A"
     ]
    },
    {
     "name": "stdout",
     "output_type": "stream",
     "text": [
      "fit coeffs too far off [%] [-0.70732494 -0.10640378 -0.02846542]\n"
     ]
    },
    {
     "name": "stderr",
     "output_type": "stream",
     "text": [
      "\n",
      " 44%|████▎     | 549/1261 [02:05<02:42,  4.39it/s]\u001b[A\n",
      " 44%|████▎     | 550/1261 [02:05<02:42,  4.39it/s]\u001b[A\n",
      " 44%|████▎     | 551/1261 [02:05<02:41,  4.39it/s]\u001b[A"
     ]
    },
    {
     "name": "stdout",
     "output_type": "stream",
     "text": [
      "fit coeffs too far off [%] [ 0.50009804  0.53138997 -0.07757015]\n"
     ]
    },
    {
     "name": "stderr",
     "output_type": "stream",
     "text": [
      "\n",
      " 44%|████▍     | 552/1261 [02:05<02:41,  4.39it/s]\u001b[A\n",
      " 44%|████▍     | 553/1261 [02:05<02:41,  4.39it/s]\u001b[A\n",
      " 44%|████▍     | 554/1261 [02:06<02:40,  4.39it/s]\u001b[A"
     ]
    },
    {
     "name": "stdout",
     "output_type": "stream",
     "text": [
      "fit coeffs too far off [%] [-1.1520296  -0.29118345  0.01733139]\n"
     ]
    },
    {
     "name": "stderr",
     "output_type": "stream",
     "text": [
      "\n",
      " 44%|████▍     | 555/1261 [02:06<02:40,  4.39it/s]\u001b[A"
     ]
    },
    {
     "name": "stdout",
     "output_type": "stream",
     "text": [
      "fit coeffs too far off [%] [-2.47057733 -0.78390745  0.00361081]\n"
     ]
    },
    {
     "name": "stderr",
     "output_type": "stream",
     "text": [
      "\n",
      " 44%|████▍     | 556/1261 [02:06<02:40,  4.39it/s]\u001b[A"
     ]
    },
    {
     "name": "stdout",
     "output_type": "stream",
     "text": [
      "Trouble ahead! 3 lanes detected!\n",
      "fit coeffs too far off [%] [-3.56392538 -1.37674588 -0.02328368]\n"
     ]
    },
    {
     "name": "stderr",
     "output_type": "stream",
     "text": [
      "\n",
      " 44%|████▍     | 557/1261 [02:07<02:40,  4.38it/s]\u001b[A"
     ]
    },
    {
     "name": "stdout",
     "output_type": "stream",
     "text": [
      "Trouble ahead! 3 lanes detected!\n",
      "fit coeffs too far off [%] [ -1.16008880e+00  -3.06361358e-01   5.76757167e-04]\n"
     ]
    },
    {
     "name": "stderr",
     "output_type": "stream",
     "text": [
      "\n",
      " 44%|████▍     | 558/1261 [02:07<02:40,  4.38it/s]\u001b[A"
     ]
    },
    {
     "name": "stdout",
     "output_type": "stream",
     "text": [
      "Trouble ahead! 3 lanes detected!\n"
     ]
    },
    {
     "name": "stderr",
     "output_type": "stream",
     "text": [
      "\n",
      " 44%|████▍     | 559/1261 [02:07<02:40,  4.38it/s]\u001b[A"
     ]
    },
    {
     "name": "stdout",
     "output_type": "stream",
     "text": [
      "fit coeffs too far off [%] [-1.32239708 -0.18914755  0.02746071]\n"
     ]
    },
    {
     "name": "stderr",
     "output_type": "stream",
     "text": [
      "\n",
      " 44%|████▍     | 560/1261 [02:08<02:40,  4.37it/s]\u001b[A"
     ]
    },
    {
     "name": "stdout",
     "output_type": "stream",
     "text": [
      "Trouble ahead! 3 lanes detected!\n",
      "fit coeffs too far off [%] [-0.72813575  0.23280209 -0.19395649]\n",
      "fit coeffs too far off [%] [-0.72142239  0.19376294  0.07310365]\n",
      "Trouble ahead! 3 lanes detected!\n",
      "Trouble ahead! 3 lanes detected!\n"
     ]
    },
    {
     "name": "stderr",
     "output_type": "stream",
     "text": [
      "\n",
      " 44%|████▍     | 561/1261 [02:08<02:40,  4.36it/s]\u001b[A"
     ]
    },
    {
     "name": "stdout",
     "output_type": "stream",
     "text": [
      "fit coeffs too far off [%] [-0.57845419  0.31337354 -0.23045736]\n",
      "fit coeffs too far off [%] [ 0.59460459  0.68449911  0.09623316]\n",
      "Trouble ahead! 3 lanes detected!\n",
      "Trouble ahead! 3 lanes detected!\n"
     ]
    },
    {
     "name": "stderr",
     "output_type": "stream",
     "text": [
      "\n",
      " 45%|████▍     | 562/1261 [02:09<02:40,  4.35it/s]\u001b[A"
     ]
    },
    {
     "name": "stdout",
     "output_type": "stream",
     "text": [
      "fit coeffs too far off [%] [ 0.01670778  0.68086001 -0.30230038]\n",
      "fit coeffs too far off [%] [ 3.57686655  1.27847997  0.12657084]\n"
     ]
    },
    {
     "name": "stderr",
     "output_type": "stream",
     "text": [
      "\n",
      " 45%|████▍     | 563/1261 [02:09<02:40,  4.35it/s]\u001b[A"
     ]
    },
    {
     "name": "stdout",
     "output_type": "stream",
     "text": [
      "fit coeffs too far off [%] [-0.32960102  0.15757273 -0.15539636]\n"
     ]
    },
    {
     "name": "stderr",
     "output_type": "stream",
     "text": [
      "\n",
      " 45%|████▍     | 564/1261 [02:09<02:40,  4.35it/s]\u001b[A"
     ]
    },
    {
     "name": "stdout",
     "output_type": "stream",
     "text": [
      "fit coeffs too far off [%] [-1.24462294 -0.76672847 -0.08242001]\n"
     ]
    },
    {
     "name": "stderr",
     "output_type": "stream",
     "text": [
      "\n",
      " 45%|████▍     | 565/1261 [02:10<02:40,  4.34it/s]\u001b[A\n",
      " 45%|████▍     | 566/1261 [02:10<02:39,  4.34it/s]\u001b[A"
     ]
    },
    {
     "name": "stdout",
     "output_type": "stream",
     "text": [
      "fit coeffs too far off [%] [-0.69333144 -0.66809786  0.13600561]\n",
      "fit coeffs too far off [%] [ 1.49030538 -3.75491126 -0.04395468]\n"
     ]
    },
    {
     "name": "stderr",
     "output_type": "stream",
     "text": [
      "\n",
      " 45%|████▍     | 567/1261 [02:10<02:39,  4.34it/s]\u001b[A"
     ]
    },
    {
     "name": "stdout",
     "output_type": "stream",
     "text": [
      "fit coeffs too far off [%] [-1.24015277 -0.95060799  0.19780318]\n"
     ]
    },
    {
     "name": "stderr",
     "output_type": "stream",
     "text": [
      "\n",
      " 45%|████▌     | 568/1261 [02:10<02:39,  4.34it/s]\u001b[A"
     ]
    },
    {
     "name": "stdout",
     "output_type": "stream",
     "text": [
      "fit coeffs too far off [%] [-0.74469307 -0.71888865  0.18711084]\n",
      "fit coeffs too far off [%] [ 0.40839261  0.55794498 -0.01638968]\n"
     ]
    },
    {
     "name": "stderr",
     "output_type": "stream",
     "text": [
      "\n",
      " 45%|████▌     | 569/1261 [02:11<02:39,  4.34it/s]\u001b[A"
     ]
    },
    {
     "name": "stdout",
     "output_type": "stream",
     "text": [
      "fit coeffs too far off [%] [-0.72313701 -0.5841241   0.1353735 ]\n"
     ]
    },
    {
     "name": "stderr",
     "output_type": "stream",
     "text": [
      "\n",
      " 45%|████▌     | 570/1261 [02:11<02:39,  4.33it/s]\u001b[A"
     ]
    },
    {
     "name": "stdout",
     "output_type": "stream",
     "text": [
      "fit coeffs too far off [%] [-0.93309305 -0.64770617  0.11851378]\n"
     ]
    },
    {
     "name": "stderr",
     "output_type": "stream",
     "text": [
      "\n",
      " 45%|████▌     | 571/1261 [02:11<02:39,  4.33it/s]\u001b[A"
     ]
    },
    {
     "name": "stdout",
     "output_type": "stream",
     "text": [
      "fit coeffs too far off [%] [-0.51564492 -0.80004974  0.05345529]\n"
     ]
    },
    {
     "name": "stderr",
     "output_type": "stream",
     "text": [
      "\n",
      " 45%|████▌     | 572/1261 [02:12<02:39,  4.33it/s]\u001b[A"
     ]
    },
    {
     "name": "stdout",
     "output_type": "stream",
     "text": [
      "fit coeffs too far off [%] [  7.83620314e+01  -4.47751377e-01   2.64168315e-02]\n",
      "fit coeffs too far off [%] [-0.62239771 -0.90169116  0.0510685 ]\n"
     ]
    },
    {
     "name": "stderr",
     "output_type": "stream",
     "text": [
      "\n",
      " 45%|████▌     | 573/1261 [02:12<02:39,  4.33it/s]\u001b[A\n",
      " 46%|████▌     | 574/1261 [02:12<02:38,  4.33it/s]\u001b[A"
     ]
    },
    {
     "name": "stdout",
     "output_type": "stream",
     "text": [
      "fit coeffs too far off [%] [ 3.01584833  0.11674268  0.00830723]\n",
      "fit coeffs too far off [%] [-0.23738631 -0.72290422 -0.00163655]\n"
     ]
    },
    {
     "name": "stderr",
     "output_type": "stream",
     "text": [
      "\n",
      " 46%|████▌     | 575/1261 [02:13<02:38,  4.32it/s]\u001b[A\n",
      " 46%|████▌     | 576/1261 [02:13<02:38,  4.32it/s]\u001b[A"
     ]
    },
    {
     "name": "stdout",
     "output_type": "stream",
     "text": [
      "fit coeffs too far off [%] [ 2.59253236 -0.89860133  0.04186336]\n"
     ]
    },
    {
     "name": "stderr",
     "output_type": "stream",
     "text": [
      "\n",
      " 46%|████▌     | 577/1261 [02:13<02:38,  4.32it/s]\u001b[A"
     ]
    },
    {
     "name": "stdout",
     "output_type": "stream",
     "text": [
      "fit coeffs too far off [%] [-0.75275088 -1.88398053 -0.01155596]\n"
     ]
    },
    {
     "name": "stderr",
     "output_type": "stream",
     "text": [
      "\n",
      " 46%|████▌     | 578/1261 [02:13<02:38,  4.32it/s]\u001b[A"
     ]
    },
    {
     "name": "stdout",
     "output_type": "stream",
     "text": [
      "fit coeffs too far off [%] [ 0.27752333  5.02421682 -0.02723878]\n"
     ]
    },
    {
     "name": "stderr",
     "output_type": "stream",
     "text": [
      "\n",
      " 46%|████▌     | 579/1261 [02:13<02:37,  4.32it/s]\u001b[A"
     ]
    },
    {
     "name": "stdout",
     "output_type": "stream",
     "text": [
      "fit coeffs too far off [%] [-0.9000437  -1.10616063 -0.03469009]\n"
     ]
    },
    {
     "name": "stderr",
     "output_type": "stream",
     "text": [
      "\n",
      " 46%|████▌     | 580/1261 [02:14<02:37,  4.32it/s]\u001b[A\n",
      " 46%|████▌     | 581/1261 [02:14<02:37,  4.32it/s]\u001b[A"
     ]
    },
    {
     "name": "stdout",
     "output_type": "stream",
     "text": [
      "fit coeffs too far off [%] [ 0.57026511  0.6688304  -0.01593304]\n"
     ]
    },
    {
     "name": "stderr",
     "output_type": "stream",
     "text": [
      "\n",
      " 46%|████▌     | 582/1261 [02:14<02:37,  4.32it/s]\u001b[A"
     ]
    },
    {
     "name": "stdout",
     "output_type": "stream",
     "text": [
      "Trouble ahead! 3 lanes detected!\n",
      "fit coeffs too far off [%] [-0.75562325 -0.93991266 -0.06507105]\n"
     ]
    },
    {
     "name": "stderr",
     "output_type": "stream",
     "text": [
      "\n",
      " 46%|████▌     | 583/1261 [02:15<02:37,  4.32it/s]\u001b[A"
     ]
    },
    {
     "name": "stdout",
     "output_type": "stream",
     "text": [
      "fit coeffs too far off [%] [-1.95958129 -2.37065628 -0.17367361]\n",
      "fit coeffs too far off [%] [-1.4380802  -1.59164689  0.03853459]\n"
     ]
    },
    {
     "name": "stderr",
     "output_type": "stream",
     "text": [
      "\n",
      " 46%|████▋     | 584/1261 [02:15<02:36,  4.31it/s]\u001b[A"
     ]
    },
    {
     "name": "stdout",
     "output_type": "stream",
     "text": [
      "fit coeffs too far off [%] [-3.21456421 -3.74436088 -0.22145659]\n",
      "fit coeffs too far off [%] [-1.61273142 -1.64367846  0.03603732]\n",
      "Trouble ahead! 3 lanes detected!\n",
      "Trouble ahead! 3 lanes detected!\n"
     ]
    },
    {
     "name": "stderr",
     "output_type": "stream",
     "text": [
      "\n",
      " 46%|████▋     | 585/1261 [02:15<02:37,  4.31it/s]\u001b[A\n",
      " 46%|████▋     | 586/1261 [02:16<02:36,  4.31it/s]\u001b[A"
     ]
    },
    {
     "name": "stdout",
     "output_type": "stream",
     "text": [
      "fit coeffs too far off [%] [-1.17220629 -1.0475662   0.19290455]\n"
     ]
    },
    {
     "name": "stderr",
     "output_type": "stream",
     "text": [
      "\n",
      " 47%|████▋     | 587/1261 [02:16<02:36,  4.31it/s]\u001b[A\n",
      " 47%|████▋     | 588/1261 [02:16<02:36,  4.31it/s]\u001b[A"
     ]
    },
    {
     "name": "stdout",
     "output_type": "stream",
     "text": [
      "fit coeffs too far off [%] [-7.69354247 -1.72243073  0.072147  ]\n"
     ]
    },
    {
     "name": "stderr",
     "output_type": "stream",
     "text": [
      "\n",
      " 47%|████▋     | 589/1261 [02:16<02:36,  4.30it/s]\u001b[A"
     ]
    },
    {
     "name": "stdout",
     "output_type": "stream",
     "text": [
      "fit coeffs too far off [%] [ 1.11609804  0.97937451  0.02134846]\n"
     ]
    },
    {
     "name": "stderr",
     "output_type": "stream",
     "text": [
      "\n",
      " 47%|████▋     | 590/1261 [02:17<02:35,  4.30it/s]\u001b[A"
     ]
    },
    {
     "name": "stdout",
     "output_type": "stream",
     "text": [
      "fit coeffs too far off [%] [-2.67974113  2.17849075 -0.08433791]\n"
     ]
    },
    {
     "name": "stderr",
     "output_type": "stream",
     "text": [
      "\n",
      " 47%|████▋     | 591/1261 [02:17<02:35,  4.30it/s]\u001b[A\n",
      " 47%|████▋     | 592/1261 [02:17<02:35,  4.30it/s]\u001b[A\n",
      " 47%|████▋     | 593/1261 [02:17<02:35,  4.30it/s]\u001b[A\n",
      " 47%|████▋     | 594/1261 [02:17<02:34,  4.31it/s]\u001b[A\n",
      " 47%|████▋     | 595/1261 [02:18<02:34,  4.31it/s]\u001b[A"
     ]
    },
    {
     "name": "stdout",
     "output_type": "stream",
     "text": [
      "fit coeffs too far off [%] [-3.50234834 -2.43251663  0.60131382]\n",
      "fit coeffs too far off [%] [-0.90630417 -0.37461316 -0.00182371]\n"
     ]
    },
    {
     "name": "stderr",
     "output_type": "stream",
     "text": [
      "\n",
      " 47%|████▋     | 596/1261 [02:18<02:34,  4.30it/s]\u001b[A"
     ]
    },
    {
     "name": "stdout",
     "output_type": "stream",
     "text": [
      "fit coeffs too far off [%] [-3.58010342 -2.48718771  0.65588133]\n"
     ]
    },
    {
     "name": "stderr",
     "output_type": "stream",
     "text": [
      "\n",
      " 47%|████▋     | 597/1261 [02:18<02:34,  4.30it/s]\u001b[A"
     ]
    },
    {
     "name": "stdout",
     "output_type": "stream",
     "text": [
      "fit coeffs too far off [%] [-2.58012776 -1.7855829   0.49716726]\n"
     ]
    },
    {
     "name": "stderr",
     "output_type": "stream",
     "text": [
      "\n",
      " 47%|████▋     | 598/1261 [02:19<02:34,  4.30it/s]\u001b[A"
     ]
    },
    {
     "name": "stdout",
     "output_type": "stream",
     "text": [
      "fit coeffs too far off [%] [-1.79048872 -1.21201531  0.31980255]\n"
     ]
    },
    {
     "name": "stderr",
     "output_type": "stream",
     "text": [
      "\n",
      " 48%|████▊     | 599/1261 [02:19<02:33,  4.30it/s]\u001b[A\n",
      " 48%|████▊     | 600/1261 [02:19<02:33,  4.30it/s]\u001b[A"
     ]
    },
    {
     "name": "stdout",
     "output_type": "stream",
     "text": [
      "fit coeffs too far off [%] [  3.39051701  64.40212577   0.19552194]\n"
     ]
    },
    {
     "name": "stderr",
     "output_type": "stream",
     "text": [
      "\n",
      " 48%|████▊     | 601/1261 [02:19<02:33,  4.30it/s]\u001b[A"
     ]
    },
    {
     "name": "stdout",
     "output_type": "stream",
     "text": [
      "fit coeffs too far off [%] [-1.60235242 -0.27280534  0.01594674]\n"
     ]
    },
    {
     "name": "stderr",
     "output_type": "stream",
     "text": [
      "\n",
      " 48%|████▊     | 602/1261 [02:20<02:33,  4.30it/s]\u001b[A"
     ]
    },
    {
     "name": "stdout",
     "output_type": "stream",
     "text": [
      "fit coeffs too far off [%] [-0.6757937   0.68280023 -0.0280908 ]\n",
      "fit coeffs too far off [%] [-2.0117253  -0.3908137   0.01773002]\n"
     ]
    },
    {
     "name": "stderr",
     "output_type": "stream",
     "text": [
      "\n",
      " 48%|████▊     | 603/1261 [02:20<02:33,  4.29it/s]\u001b[A"
     ]
    },
    {
     "name": "stdout",
     "output_type": "stream",
     "text": [
      "fit coeffs too far off [%] [-1.79827242 -0.30206951  0.0195183 ]\n"
     ]
    },
    {
     "name": "stderr",
     "output_type": "stream",
     "text": [
      "\n",
      " 48%|████▊     | 604/1261 [02:20<02:33,  4.29it/s]\u001b[A"
     ]
    },
    {
     "name": "stdout",
     "output_type": "stream",
     "text": [
      "fit coeffs too far off [%] [  1.05250331e+02  -9.89392728e-01   3.58598151e-02]\n"
     ]
    },
    {
     "name": "stderr",
     "output_type": "stream",
     "text": [
      "\n",
      " 48%|████▊     | 605/1261 [02:20<02:32,  4.29it/s]\u001b[A"
     ]
    },
    {
     "name": "stdout",
     "output_type": "stream",
     "text": [
      "fit coeffs too far off [%] [ 3.23645546  0.85642944  0.01941749]\n"
     ]
    },
    {
     "name": "stderr",
     "output_type": "stream",
     "text": [
      "\n",
      " 48%|████▊     | 606/1261 [02:21<02:32,  4.29it/s]\u001b[A"
     ]
    },
    {
     "name": "stdout",
     "output_type": "stream",
     "text": [
      "fit coeffs too far off [%] [ 0.51214061  0.87842471  0.09447825]\n",
      "fit coeffs too far off [%] [ 4.35777932  1.11640276  0.01085294]\n"
     ]
    },
    {
     "name": "stderr",
     "output_type": "stream",
     "text": [
      "\n",
      " 48%|████▊     | 607/1261 [02:21<02:32,  4.29it/s]\u001b[A"
     ]
    },
    {
     "name": "stdout",
     "output_type": "stream",
     "text": [
      "fit coeffs too far off [%] [ 5.07577487  1.30623162  0.00633507]\n"
     ]
    },
    {
     "name": "stderr",
     "output_type": "stream",
     "text": [
      "\n",
      " 48%|████▊     | 608/1261 [02:21<02:32,  4.28it/s]\u001b[A"
     ]
    },
    {
     "name": "stdout",
     "output_type": "stream",
     "text": [
      "fit coeffs too far off [%] [ 4.21636025  1.18601301  0.00798808]\n"
     ]
    },
    {
     "name": "stderr",
     "output_type": "stream",
     "text": [
      "\n",
      " 48%|████▊     | 609/1261 [02:22<02:32,  4.28it/s]\u001b[A"
     ]
    },
    {
     "name": "stdout",
     "output_type": "stream",
     "text": [
      "fit coeffs too far off [%] [  3.15499179e+00   9.18119462e-01  -1.86093386e-03]\n"
     ]
    },
    {
     "name": "stderr",
     "output_type": "stream",
     "text": [
      "\n",
      " 48%|████▊     | 610/1261 [02:22<02:32,  4.28it/s]\u001b[A\n",
      " 48%|████▊     | 611/1261 [02:22<02:31,  4.28it/s]\u001b[A\n",
      " 49%|████▊     | 612/1261 [02:22<02:31,  4.28it/s]\u001b[A\n",
      " 49%|████▊     | 613/1261 [02:23<02:31,  4.29it/s]\u001b[A\n",
      " 49%|████▊     | 614/1261 [02:23<02:30,  4.29it/s]\u001b[A\n",
      " 49%|████▉     | 615/1261 [02:23<02:30,  4.29it/s]\u001b[A\n",
      " 49%|████▉     | 616/1261 [02:23<02:30,  4.29it/s]\u001b[A\n",
      " 49%|████▉     | 617/1261 [02:23<02:30,  4.29it/s]\u001b[A"
     ]
    },
    {
     "name": "stdout",
     "output_type": "stream",
     "text": [
      "fit coeffs too far off [%] [-0.93515171 -0.31294085 -0.00811905]\n"
     ]
    },
    {
     "name": "stderr",
     "output_type": "stream",
     "text": [
      "\n",
      " 49%|████▉     | 618/1261 [02:24<02:29,  4.29it/s]\u001b[A"
     ]
    },
    {
     "name": "stdout",
     "output_type": "stream",
     "text": [
      "fit coeffs too far off [%] [-0.73147922 -0.25559414 -0.00433579]\n"
     ]
    },
    {
     "name": "stderr",
     "output_type": "stream",
     "text": [
      "\n",
      " 49%|████▉     | 619/1261 [02:24<02:29,  4.29it/s]\u001b[A"
     ]
    },
    {
     "name": "stdout",
     "output_type": "stream",
     "text": [
      "fit coeffs too far off [%] [-0.08689044  0.2030268   0.15370281]\n"
     ]
    },
    {
     "name": "stderr",
     "output_type": "stream",
     "text": [
      "\n",
      " 49%|████▉     | 620/1261 [02:24<02:29,  4.29it/s]\u001b[A\n",
      " 49%|████▉     | 621/1261 [02:24<02:29,  4.29it/s]\u001b[A\n",
      " 49%|████▉     | 622/1261 [02:25<02:28,  4.29it/s]\u001b[A\n",
      " 49%|████▉     | 623/1261 [02:25<02:28,  4.29it/s]\u001b[A\n",
      " 49%|████▉     | 624/1261 [02:25<02:28,  4.29it/s]\u001b[A\n",
      " 50%|████▉     | 625/1261 [02:25<02:28,  4.29it/s]\u001b[A"
     ]
    },
    {
     "name": "stdout",
     "output_type": "stream",
     "text": [
      "fit coeffs too far off [%] [ 0.20556124  0.31719751  0.17160236]\n"
     ]
    },
    {
     "name": "stderr",
     "output_type": "stream",
     "text": [
      "\n",
      " 50%|████▉     | 626/1261 [02:25<02:27,  4.29it/s]\u001b[A"
     ]
    },
    {
     "name": "stdout",
     "output_type": "stream",
     "text": [
      "fit coeffs too far off [%] [ 0.25939956  0.33856309  0.18005662]\n"
     ]
    },
    {
     "name": "stderr",
     "output_type": "stream",
     "text": [
      "\n",
      " 50%|████▉     | 627/1261 [02:26<02:27,  4.29it/s]\u001b[A"
     ]
    },
    {
     "name": "stdout",
     "output_type": "stream",
     "text": [
      "fit coeffs too far off [%] [ 0.19332876  0.28529649  0.16620907]\n"
     ]
    },
    {
     "name": "stderr",
     "output_type": "stream",
     "text": [
      "\n",
      " 50%|████▉     | 628/1261 [02:26<02:27,  4.29it/s]\u001b[A"
     ]
    },
    {
     "name": "stdout",
     "output_type": "stream",
     "text": [
      "fit coeffs too far off [%] [ 0.16442325  0.34225214  0.21825964]\n"
     ]
    },
    {
     "name": "stderr",
     "output_type": "stream",
     "text": [
      "\n",
      " 50%|████▉     | 629/1261 [02:26<02:27,  4.29it/s]\u001b[A"
     ]
    },
    {
     "name": "stdout",
     "output_type": "stream",
     "text": [
      "fit coeffs too far off [%] [-0.02916361  0.20715672  0.18277218]\n"
     ]
    },
    {
     "name": "stderr",
     "output_type": "stream",
     "text": [
      "\n",
      " 50%|████▉     | 630/1261 [02:26<02:27,  4.29it/s]\u001b[A\n",
      " 50%|█████     | 631/1261 [02:26<02:26,  4.29it/s]\u001b[A\n",
      " 50%|█████     | 632/1261 [02:27<02:26,  4.29it/s]\u001b[A\n",
      " 50%|█████     | 633/1261 [02:27<02:26,  4.30it/s]\u001b[A\n",
      " 50%|█████     | 634/1261 [02:27<02:25,  4.30it/s]\u001b[A\n",
      " 50%|█████     | 635/1261 [02:27<02:25,  4.30it/s]\u001b[A\n",
      " 50%|█████     | 636/1261 [02:27<02:25,  4.30it/s]\u001b[A\n",
      " 51%|█████     | 637/1261 [02:28<02:25,  4.30it/s]\u001b[A"
     ]
    },
    {
     "name": "stdout",
     "output_type": "stream",
     "text": [
      "fit coeffs too far off [%] [ 0.00582729  0.2668331   0.1744306 ]\n"
     ]
    },
    {
     "name": "stderr",
     "output_type": "stream",
     "text": [
      "\n",
      " 51%|█████     | 638/1261 [02:28<02:24,  4.30it/s]\u001b[A"
     ]
    },
    {
     "name": "stdout",
     "output_type": "stream",
     "text": [
      "fit coeffs too far off [%] [ 0.03296294  0.28554084  0.18670163]\n"
     ]
    },
    {
     "name": "stderr",
     "output_type": "stream",
     "text": [
      "\n",
      " 51%|█████     | 639/1261 [02:28<02:24,  4.30it/s]\u001b[A\n",
      " 51%|█████     | 640/1261 [02:28<02:24,  4.30it/s]\u001b[A\n",
      " 51%|█████     | 641/1261 [02:29<02:24,  4.30it/s]\u001b[A\n",
      " 51%|█████     | 642/1261 [02:29<02:24,  4.30it/s]\u001b[A\n",
      " 51%|█████     | 643/1261 [02:29<02:23,  4.30it/s]\u001b[A\n",
      " 51%|█████     | 644/1261 [02:29<02:23,  4.30it/s]\u001b[A\n",
      " 51%|█████     | 645/1261 [02:29<02:23,  4.30it/s]\u001b[A\n",
      " 51%|█████     | 646/1261 [02:30<02:22,  4.30it/s]\u001b[A\n",
      " 51%|█████▏    | 647/1261 [02:30<02:22,  4.30it/s]\u001b[A\n",
      " 51%|█████▏    | 648/1261 [02:30<02:22,  4.31it/s]\u001b[A\n",
      " 51%|█████▏    | 649/1261 [02:30<02:22,  4.31it/s]\u001b[A\n",
      " 52%|█████▏    | 650/1261 [02:30<02:21,  4.31it/s]\u001b[A\n",
      " 52%|█████▏    | 651/1261 [02:31<02:21,  4.31it/s]\u001b[A\n",
      " 52%|█████▏    | 652/1261 [02:31<02:21,  4.31it/s]\u001b[A\n",
      " 52%|█████▏    | 653/1261 [02:31<02:20,  4.31it/s]\u001b[A\n",
      " 52%|█████▏    | 654/1261 [02:31<02:20,  4.31it/s]\u001b[A\n",
      " 52%|█████▏    | 655/1261 [02:31<02:20,  4.31it/s]\u001b[A\n",
      " 52%|█████▏    | 656/1261 [02:32<02:20,  4.31it/s]\u001b[A\n",
      " 52%|█████▏    | 657/1261 [02:32<02:19,  4.32it/s]\u001b[A\n",
      " 52%|█████▏    | 658/1261 [02:32<02:19,  4.32it/s]\u001b[A\n",
      " 52%|█████▏    | 659/1261 [02:32<02:19,  4.32it/s]\u001b[A\n",
      " 52%|█████▏    | 660/1261 [02:32<02:19,  4.32it/s]\u001b[A\n",
      " 52%|█████▏    | 661/1261 [02:32<02:18,  4.32it/s]\u001b[A\n",
      " 52%|█████▏    | 662/1261 [02:33<02:18,  4.32it/s]\u001b[A\n",
      " 53%|█████▎    | 663/1261 [02:33<02:18,  4.32it/s]\u001b[A\n",
      " 53%|█████▎    | 664/1261 [02:33<02:18,  4.32it/s]\u001b[A\n",
      " 53%|█████▎    | 665/1261 [02:33<02:17,  4.33it/s]\u001b[A\n",
      " 53%|█████▎    | 666/1261 [02:33<02:17,  4.33it/s]\u001b[A\n",
      " 53%|█████▎    | 667/1261 [02:34<02:17,  4.33it/s]\u001b[A\n",
      " 53%|█████▎    | 668/1261 [02:34<02:16,  4.33it/s]\u001b[A\n",
      " 53%|█████▎    | 669/1261 [02:34<02:16,  4.33it/s]\u001b[A\n",
      " 53%|█████▎    | 670/1261 [02:34<02:16,  4.33it/s]\u001b[A\n",
      " 53%|█████▎    | 671/1261 [02:34<02:16,  4.33it/s]\u001b[A\n",
      " 53%|█████▎    | 672/1261 [02:35<02:15,  4.33it/s]\u001b[A\n",
      " 53%|█████▎    | 673/1261 [02:35<02:15,  4.34it/s]\u001b[A\n",
      " 53%|█████▎    | 674/1261 [02:35<02:15,  4.34it/s]\u001b[A\n",
      " 54%|█████▎    | 675/1261 [02:35<02:15,  4.34it/s]\u001b[A\n",
      " 54%|█████▎    | 676/1261 [02:35<02:14,  4.34it/s]\u001b[A\n",
      " 54%|█████▎    | 677/1261 [02:35<02:14,  4.34it/s]\u001b[A\n",
      " 54%|█████▍    | 678/1261 [02:36<02:14,  4.34it/s]\u001b[A\n",
      " 54%|█████▍    | 679/1261 [02:36<02:13,  4.34it/s]\u001b[A\n",
      " 54%|█████▍    | 680/1261 [02:36<02:13,  4.35it/s]\u001b[A\n",
      " 54%|█████▍    | 681/1261 [02:36<02:13,  4.35it/s]\u001b[A\n",
      " 54%|█████▍    | 682/1261 [02:36<02:13,  4.35it/s]\u001b[A\n",
      " 54%|█████▍    | 683/1261 [02:36<02:12,  4.35it/s]\u001b[A\n",
      " 54%|█████▍    | 684/1261 [02:37<02:12,  4.35it/s]\u001b[A\n",
      " 54%|█████▍    | 685/1261 [02:37<02:12,  4.36it/s]\u001b[A\n",
      " 54%|█████▍    | 686/1261 [02:37<02:11,  4.36it/s]\u001b[A\n",
      " 54%|█████▍    | 687/1261 [02:37<02:11,  4.36it/s]\u001b[A\n",
      " 55%|█████▍    | 688/1261 [02:37<02:11,  4.36it/s]\u001b[A\n",
      " 55%|█████▍    | 689/1261 [02:37<02:11,  4.36it/s]\u001b[A\n",
      " 55%|█████▍    | 690/1261 [02:38<02:10,  4.36it/s]\u001b[A\n",
      " 55%|█████▍    | 691/1261 [02:38<02:10,  4.36it/s]\u001b[A\n",
      " 55%|█████▍    | 692/1261 [02:38<02:10,  4.37it/s]\u001b[A\n",
      " 55%|█████▍    | 693/1261 [02:38<02:10,  4.37it/s]\u001b[A\n",
      " 55%|█████▌    | 694/1261 [02:38<02:09,  4.37it/s]\u001b[A\n",
      " 55%|█████▌    | 695/1261 [02:38<02:09,  4.37it/s]\u001b[A\n",
      " 55%|█████▌    | 696/1261 [02:39<02:09,  4.37it/s]\u001b[A\n",
      " 55%|█████▌    | 697/1261 [02:39<02:08,  4.38it/s]\u001b[A\n",
      " 55%|█████▌    | 698/1261 [02:39<02:08,  4.38it/s]\u001b[A\n",
      " 55%|█████▌    | 699/1261 [02:39<02:08,  4.38it/s]\u001b[A\n",
      " 56%|█████▌    | 700/1261 [02:39<02:08,  4.38it/s]\u001b[A\n",
      " 56%|█████▌    | 701/1261 [02:40<02:07,  4.38it/s]\u001b[A\n",
      " 56%|█████▌    | 702/1261 [02:40<02:07,  4.38it/s]\u001b[A\n",
      " 56%|█████▌    | 703/1261 [02:40<02:07,  4.38it/s]\u001b[A\n",
      " 56%|█████▌    | 704/1261 [02:40<02:07,  4.38it/s]\u001b[A\n",
      " 56%|█████▌    | 705/1261 [02:40<02:06,  4.39it/s]\u001b[A\n",
      " 56%|█████▌    | 706/1261 [02:40<02:06,  4.39it/s]\u001b[A\n",
      " 56%|█████▌    | 707/1261 [02:41<02:06,  4.39it/s]\u001b[A\n",
      " 56%|█████▌    | 708/1261 [02:41<02:05,  4.39it/s]\u001b[A\n",
      " 56%|█████▌    | 709/1261 [02:41<02:05,  4.39it/s]\u001b[A\n",
      " 56%|█████▋    | 710/1261 [02:41<02:05,  4.39it/s]\u001b[A\n",
      " 56%|█████▋    | 711/1261 [02:41<02:05,  4.39it/s]\u001b[A\n",
      " 56%|█████▋    | 712/1261 [02:42<02:04,  4.39it/s]\u001b[A\n",
      " 57%|█████▋    | 713/1261 [02:42<02:04,  4.40it/s]\u001b[A\n",
      " 57%|█████▋    | 714/1261 [02:42<02:04,  4.40it/s]\u001b[A\n",
      " 57%|█████▋    | 715/1261 [02:42<02:04,  4.40it/s]\u001b[A\n",
      " 57%|█████▋    | 716/1261 [02:42<02:03,  4.40it/s]\u001b[A\n",
      " 57%|█████▋    | 717/1261 [02:42<02:03,  4.40it/s]\u001b[A\n",
      " 57%|█████▋    | 718/1261 [02:43<02:03,  4.40it/s]\u001b[A\n",
      " 57%|█████▋    | 719/1261 [02:43<02:03,  4.40it/s]\u001b[A\n",
      " 57%|█████▋    | 720/1261 [02:43<02:02,  4.40it/s]\u001b[A\n",
      " 57%|█████▋    | 721/1261 [02:43<02:02,  4.40it/s]\u001b[A\n",
      " 57%|█████▋    | 722/1261 [02:43<02:02,  4.41it/s]\u001b[A\n",
      " 57%|█████▋    | 723/1261 [02:44<02:02,  4.41it/s]\u001b[A\n",
      " 57%|█████▋    | 724/1261 [02:44<02:01,  4.41it/s]\u001b[A\n",
      " 57%|█████▋    | 725/1261 [02:44<02:01,  4.41it/s]\u001b[A\n",
      " 58%|█████▊    | 726/1261 [02:44<02:01,  4.41it/s]\u001b[A\n",
      " 58%|█████▊    | 727/1261 [02:44<02:01,  4.41it/s]\u001b[A\n",
      " 58%|█████▊    | 728/1261 [02:45<02:00,  4.41it/s]\u001b[A\n",
      " 58%|█████▊    | 729/1261 [02:45<02:00,  4.41it/s]\u001b[A\n",
      " 58%|█████▊    | 730/1261 [02:45<02:00,  4.41it/s]\u001b[A\n",
      " 58%|█████▊    | 731/1261 [02:45<02:00,  4.41it/s]\u001b[A\n",
      " 58%|█████▊    | 732/1261 [02:45<01:59,  4.42it/s]\u001b[A\n",
      " 58%|█████▊    | 733/1261 [02:45<01:59,  4.42it/s]\u001b[A\n",
      " 58%|█████▊    | 734/1261 [02:46<01:59,  4.42it/s]\u001b[A\n",
      " 58%|█████▊    | 735/1261 [02:46<01:59,  4.42it/s]\u001b[A\n",
      " 58%|█████▊    | 736/1261 [02:46<01:58,  4.42it/s]\u001b[A\n",
      " 58%|█████▊    | 737/1261 [02:46<01:58,  4.42it/s]\u001b[A\n",
      " 59%|█████▊    | 738/1261 [02:46<01:58,  4.42it/s]\u001b[A\n",
      " 59%|█████▊    | 739/1261 [02:47<01:58,  4.42it/s]\u001b[A\n",
      " 59%|█████▊    | 740/1261 [02:47<01:57,  4.42it/s]\u001b[A\n",
      " 59%|█████▉    | 741/1261 [02:47<01:57,  4.43it/s]\u001b[A\n",
      " 59%|█████▉    | 742/1261 [02:47<01:57,  4.43it/s]\u001b[A\n",
      " 59%|█████▉    | 743/1261 [02:47<01:57,  4.43it/s]\u001b[A\n",
      " 59%|█████▉    | 744/1261 [02:48<01:56,  4.43it/s]\u001b[A\n",
      " 59%|█████▉    | 745/1261 [02:48<01:56,  4.43it/s]\u001b[A\n",
      " 59%|█████▉    | 746/1261 [02:48<01:56,  4.43it/s]\u001b[A\n",
      " 59%|█████▉    | 747/1261 [02:48<01:55,  4.43it/s]\u001b[A\n",
      " 59%|█████▉    | 748/1261 [02:48<01:55,  4.43it/s]\u001b[A\n",
      " 59%|█████▉    | 749/1261 [02:48<01:55,  4.43it/s]\u001b[A\n",
      " 59%|█████▉    | 750/1261 [02:49<01:55,  4.43it/s]\u001b[A\n",
      " 60%|█████▉    | 751/1261 [02:49<01:54,  4.44it/s]\u001b[A\n",
      " 60%|█████▉    | 752/1261 [02:49<01:54,  4.44it/s]\u001b[A\n",
      " 60%|█████▉    | 753/1261 [02:49<01:54,  4.44it/s]\u001b[A\n",
      " 60%|█████▉    | 754/1261 [02:49<01:54,  4.44it/s]\u001b[A\n",
      " 60%|█████▉    | 755/1261 [02:50<01:53,  4.44it/s]\u001b[A\n",
      " 60%|█████▉    | 756/1261 [02:50<01:53,  4.44it/s]\u001b[A\n",
      " 60%|██████    | 757/1261 [02:50<01:53,  4.44it/s]\u001b[A\n",
      " 60%|██████    | 758/1261 [02:50<01:53,  4.44it/s]\u001b[A\n",
      " 60%|██████    | 759/1261 [02:50<01:52,  4.44it/s]\u001b[A\n",
      " 60%|██████    | 760/1261 [02:50<01:52,  4.45it/s]\u001b[A\n",
      " 60%|██████    | 761/1261 [02:51<01:52,  4.45it/s]\u001b[A\n",
      " 60%|██████    | 762/1261 [02:51<01:52,  4.45it/s]\u001b[A\n",
      " 61%|██████    | 763/1261 [02:51<01:51,  4.45it/s]\u001b[A\n",
      " 61%|██████    | 764/1261 [02:51<01:51,  4.45it/s]\u001b[A\n",
      " 61%|██████    | 765/1261 [02:51<01:51,  4.45it/s]\u001b[A\n",
      " 61%|██████    | 766/1261 [02:52<01:51,  4.45it/s]\u001b[A\n",
      " 61%|██████    | 767/1261 [02:52<01:50,  4.45it/s]\u001b[A\n",
      " 61%|██████    | 768/1261 [02:52<01:50,  4.45it/s]\u001b[A\n",
      " 61%|██████    | 769/1261 [02:52<01:50,  4.45it/s]\u001b[A\n",
      " 61%|██████    | 770/1261 [02:52<01:50,  4.46it/s]\u001b[A\n",
      " 61%|██████    | 771/1261 [02:52<01:49,  4.46it/s]\u001b[A\n",
      " 61%|██████    | 772/1261 [02:53<01:49,  4.46it/s]\u001b[A\n",
      " 61%|██████▏   | 773/1261 [02:53<01:49,  4.46it/s]\u001b[A\n",
      " 61%|██████▏   | 774/1261 [02:53<01:49,  4.46it/s]\u001b[A\n",
      " 61%|██████▏   | 775/1261 [02:53<01:48,  4.46it/s]\u001b[A\n",
      " 62%|██████▏   | 776/1261 [02:53<01:48,  4.46it/s]\u001b[A\n",
      " 62%|██████▏   | 777/1261 [02:54<01:48,  4.46it/s]\u001b[A\n",
      " 62%|██████▏   | 778/1261 [02:54<01:48,  4.46it/s]\u001b[A\n",
      " 62%|██████▏   | 779/1261 [02:54<01:47,  4.47it/s]\u001b[A\n",
      " 62%|██████▏   | 780/1261 [02:54<01:47,  4.47it/s]\u001b[A\n",
      " 62%|██████▏   | 781/1261 [02:54<01:47,  4.47it/s]\u001b[A\n",
      " 62%|██████▏   | 782/1261 [02:54<01:47,  4.47it/s]\u001b[A\n",
      " 62%|██████▏   | 783/1261 [02:55<01:46,  4.47it/s]\u001b[A\n",
      " 62%|██████▏   | 784/1261 [02:55<01:46,  4.47it/s]\u001b[A\n",
      " 62%|██████▏   | 785/1261 [02:55<01:46,  4.47it/s]\u001b[A\n",
      " 62%|██████▏   | 786/1261 [02:55<01:46,  4.47it/s]\u001b[A\n",
      " 62%|██████▏   | 787/1261 [02:55<01:45,  4.48it/s]\u001b[A\n",
      " 62%|██████▏   | 788/1261 [02:56<01:45,  4.48it/s]\u001b[A\n",
      " 63%|██████▎   | 789/1261 [02:56<01:45,  4.48it/s]\u001b[A\n"
     ]
    },
    {
     "name": "stderr",
     "output_type": "stream",
     "text": [
      " 63%|██████▎   | 790/1261 [02:56<01:45,  4.48it/s]\u001b[A\n",
      " 63%|██████▎   | 791/1261 [02:56<01:44,  4.48it/s]\u001b[A\n",
      " 63%|██████▎   | 792/1261 [02:56<01:44,  4.48it/s]\u001b[A\n",
      " 63%|██████▎   | 793/1261 [02:56<01:44,  4.48it/s]\u001b[A\n",
      " 63%|██████▎   | 794/1261 [02:57<01:44,  4.48it/s]\u001b[A\n",
      " 63%|██████▎   | 795/1261 [02:57<01:43,  4.48it/s]\u001b[A\n",
      " 63%|██████▎   | 796/1261 [02:57<01:43,  4.49it/s]\u001b[A\n",
      " 63%|██████▎   | 797/1261 [02:57<01:43,  4.49it/s]\u001b[A\n",
      " 63%|██████▎   | 798/1261 [02:57<01:43,  4.49it/s]\u001b[A\n",
      " 63%|██████▎   | 799/1261 [02:58<01:42,  4.49it/s]\u001b[A\n",
      " 63%|██████▎   | 800/1261 [02:58<01:42,  4.49it/s]\u001b[A\n",
      " 64%|██████▎   | 801/1261 [02:58<01:42,  4.49it/s]\u001b[A\n",
      " 64%|██████▎   | 802/1261 [02:58<01:42,  4.49it/s]\u001b[A\n",
      " 64%|██████▎   | 803/1261 [02:58<01:41,  4.49it/s]\u001b[A\n",
      " 64%|██████▍   | 804/1261 [02:59<01:41,  4.49it/s]\u001b[A"
     ]
    },
    {
     "name": "stdout",
     "output_type": "stream",
     "text": [
      "fit coeffs too far off [%] [-0.74087455 -0.35743001 -0.0245876 ]\n"
     ]
    },
    {
     "name": "stderr",
     "output_type": "stream",
     "text": [
      "\n",
      " 64%|██████▍   | 805/1261 [02:59<01:41,  4.49it/s]\u001b[A\n",
      " 64%|██████▍   | 806/1261 [02:59<01:41,  4.49it/s]\u001b[A\n",
      " 64%|██████▍   | 807/1261 [02:59<01:41,  4.49it/s]\u001b[A\n",
      " 64%|██████▍   | 808/1261 [02:59<01:40,  4.49it/s]\u001b[A\n",
      " 64%|██████▍   | 809/1261 [03:00<01:40,  4.49it/s]\u001b[A\n",
      " 64%|██████▍   | 810/1261 [03:00<01:40,  4.49it/s]\u001b[A\n",
      " 64%|██████▍   | 811/1261 [03:00<01:40,  4.50it/s]\u001b[A\n",
      " 64%|██████▍   | 812/1261 [03:00<01:39,  4.50it/s]\u001b[A"
     ]
    },
    {
     "name": "stdout",
     "output_type": "stream",
     "text": [
      "fit coeffs too far off [%] [ 0.98601192  0.38067342  0.01664528]\n"
     ]
    },
    {
     "name": "stderr",
     "output_type": "stream",
     "text": [
      "\n",
      " 64%|██████▍   | 813/1261 [03:00<01:39,  4.49it/s]\u001b[A\n",
      " 65%|██████▍   | 814/1261 [03:01<01:39,  4.50it/s]\u001b[A\n",
      " 65%|██████▍   | 815/1261 [03:01<01:39,  4.50it/s]\u001b[A"
     ]
    },
    {
     "name": "stdout",
     "output_type": "stream",
     "text": [
      "fit coeffs too far off [%] [ 0.97250644  0.50331273  0.01840735]\n"
     ]
    },
    {
     "name": "stderr",
     "output_type": "stream",
     "text": [
      "\n",
      " 65%|██████▍   | 816/1261 [03:01<01:39,  4.49it/s]\u001b[A\n",
      " 65%|██████▍   | 817/1261 [03:01<01:38,  4.50it/s]\u001b[A\n",
      " 65%|██████▍   | 818/1261 [03:01<01:38,  4.50it/s]\u001b[A\n",
      " 65%|██████▍   | 819/1261 [03:02<01:38,  4.50it/s]\u001b[A\n",
      " 65%|██████▌   | 820/1261 [03:02<01:38,  4.50it/s]\u001b[A\n",
      " 65%|██████▌   | 821/1261 [03:02<01:37,  4.50it/s]\u001b[A\n",
      " 65%|██████▌   | 822/1261 [03:02<01:37,  4.50it/s]\u001b[A\n",
      " 65%|██████▌   | 823/1261 [03:02<01:37,  4.50it/s]\u001b[A\n",
      " 65%|██████▌   | 824/1261 [03:03<01:37,  4.50it/s]\u001b[A\n",
      " 65%|██████▌   | 825/1261 [03:03<01:36,  4.50it/s]\u001b[A\n",
      " 66%|██████▌   | 826/1261 [03:03<01:36,  4.50it/s]\u001b[A\n",
      " 66%|██████▌   | 827/1261 [03:03<01:36,  4.50it/s]\u001b[A\n",
      " 66%|██████▌   | 828/1261 [03:03<01:36,  4.51it/s]\u001b[A\n",
      " 66%|██████▌   | 829/1261 [03:03<01:35,  4.51it/s]\u001b[A\n",
      " 66%|██████▌   | 830/1261 [03:04<01:35,  4.51it/s]\u001b[A\n",
      " 66%|██████▌   | 831/1261 [03:04<01:35,  4.51it/s]\u001b[A\n",
      " 66%|██████▌   | 832/1261 [03:04<01:35,  4.51it/s]\u001b[A\n",
      " 66%|██████▌   | 833/1261 [03:04<01:34,  4.51it/s]\u001b[A\n",
      " 66%|██████▌   | 834/1261 [03:04<01:34,  4.51it/s]\u001b[A\n",
      " 66%|██████▌   | 835/1261 [03:04<01:34,  4.51it/s]\u001b[A\n",
      " 66%|██████▋   | 836/1261 [03:05<01:34,  4.52it/s]\u001b[A\n",
      " 66%|██████▋   | 837/1261 [03:05<01:33,  4.52it/s]\u001b[A\n",
      " 66%|██████▋   | 838/1261 [03:05<01:33,  4.52it/s]\u001b[A\n",
      " 67%|██████▋   | 839/1261 [03:05<01:33,  4.52it/s]\u001b[A\n",
      " 67%|██████▋   | 840/1261 [03:05<01:33,  4.52it/s]\u001b[A\n",
      " 67%|██████▋   | 841/1261 [03:06<01:32,  4.52it/s]\u001b[A\n",
      " 67%|██████▋   | 842/1261 [03:06<01:32,  4.52it/s]\u001b[A\n",
      " 67%|██████▋   | 843/1261 [03:06<01:32,  4.52it/s]\u001b[A\n",
      " 67%|██████▋   | 844/1261 [03:06<01:32,  4.52it/s]\u001b[A\n",
      " 67%|██████▋   | 845/1261 [03:06<01:31,  4.52it/s]\u001b[A\n",
      " 67%|██████▋   | 846/1261 [03:07<01:31,  4.52it/s]\u001b[A\n",
      " 67%|██████▋   | 847/1261 [03:07<01:31,  4.52it/s]\u001b[A\n",
      " 67%|██████▋   | 848/1261 [03:07<01:31,  4.53it/s]\u001b[A\n",
      " 67%|██████▋   | 849/1261 [03:07<01:31,  4.53it/s]\u001b[A\n",
      " 67%|██████▋   | 850/1261 [03:07<01:30,  4.53it/s]\u001b[A\n",
      " 67%|██████▋   | 851/1261 [03:07<01:30,  4.53it/s]\u001b[A\n",
      " 68%|██████▊   | 852/1261 [03:08<01:30,  4.53it/s]\u001b[A\n",
      " 68%|██████▊   | 853/1261 [03:08<01:30,  4.53it/s]\u001b[A\n",
      " 68%|██████▊   | 854/1261 [03:08<01:29,  4.53it/s]\u001b[A\n",
      " 68%|██████▊   | 855/1261 [03:08<01:29,  4.53it/s]\u001b[A\n",
      " 68%|██████▊   | 856/1261 [03:08<01:29,  4.53it/s]\u001b[A\n",
      " 68%|██████▊   | 857/1261 [03:08<01:29,  4.54it/s]\u001b[A\n",
      " 68%|██████▊   | 858/1261 [03:09<01:28,  4.54it/s]\u001b[A\n",
      " 68%|██████▊   | 859/1261 [03:09<01:28,  4.54it/s]\u001b[A\n",
      " 68%|██████▊   | 860/1261 [03:09<01:28,  4.54it/s]\u001b[A\n",
      " 68%|██████▊   | 861/1261 [03:09<01:28,  4.54it/s]\u001b[A\n",
      " 68%|██████▊   | 862/1261 [03:09<01:27,  4.54it/s]\u001b[A\n",
      " 68%|██████▊   | 863/1261 [03:10<01:27,  4.54it/s]\u001b[A\n",
      " 69%|██████▊   | 864/1261 [03:10<01:27,  4.54it/s]\u001b[A\n",
      " 69%|██████▊   | 865/1261 [03:10<01:27,  4.54it/s]\u001b[A\n",
      " 69%|██████▊   | 866/1261 [03:10<01:26,  4.54it/s]\u001b[A\n",
      " 69%|██████▉   | 867/1261 [03:10<01:26,  4.54it/s]\u001b[A\n",
      " 69%|██████▉   | 868/1261 [03:10<01:26,  4.55it/s]\u001b[A\n",
      " 69%|██████▉   | 869/1261 [03:11<01:26,  4.55it/s]\u001b[A\n",
      " 69%|██████▉   | 870/1261 [03:11<01:25,  4.55it/s]\u001b[A\n",
      " 69%|██████▉   | 871/1261 [03:11<01:25,  4.55it/s]\u001b[A\n",
      " 69%|██████▉   | 872/1261 [03:11<01:25,  4.55it/s]\u001b[A\n",
      " 69%|██████▉   | 873/1261 [03:11<01:25,  4.55it/s]\u001b[A\n",
      " 69%|██████▉   | 874/1261 [03:12<01:25,  4.55it/s]\u001b[A\n",
      " 69%|██████▉   | 875/1261 [03:12<01:24,  4.55it/s]\u001b[A\n",
      " 69%|██████▉   | 876/1261 [03:12<01:24,  4.55it/s]\u001b[A\n",
      " 70%|██████▉   | 877/1261 [03:12<01:24,  4.55it/s]\u001b[A\n",
      " 70%|██████▉   | 878/1261 [03:12<01:24,  4.55it/s]\u001b[A\n",
      " 70%|██████▉   | 879/1261 [03:12<01:23,  4.56it/s]\u001b[A\n",
      " 70%|██████▉   | 880/1261 [03:13<01:23,  4.56it/s]\u001b[A\n",
      " 70%|██████▉   | 881/1261 [03:13<01:23,  4.56it/s]\u001b[A\n",
      " 70%|██████▉   | 882/1261 [03:13<01:23,  4.56it/s]\u001b[A\n",
      " 70%|███████   | 883/1261 [03:13<01:22,  4.56it/s]\u001b[A\n",
      " 70%|███████   | 884/1261 [03:13<01:22,  4.56it/s]\u001b[A\n",
      " 70%|███████   | 885/1261 [03:14<01:22,  4.56it/s]\u001b[A\n",
      " 70%|███████   | 886/1261 [03:14<01:22,  4.56it/s]\u001b[A\n",
      " 70%|███████   | 887/1261 [03:14<01:21,  4.56it/s]\u001b[A\n",
      " 70%|███████   | 888/1261 [03:14<01:21,  4.56it/s]\u001b[A\n",
      " 70%|███████   | 889/1261 [03:14<01:21,  4.57it/s]\u001b[A\n",
      " 71%|███████   | 890/1261 [03:14<01:21,  4.57it/s]\u001b[A\n",
      " 71%|███████   | 891/1261 [03:15<01:20,  4.57it/s]\u001b[A\n",
      " 71%|███████   | 892/1261 [03:15<01:20,  4.57it/s]\u001b[A\n",
      " 71%|███████   | 893/1261 [03:15<01:20,  4.57it/s]\u001b[A\n",
      " 71%|███████   | 894/1261 [03:15<01:20,  4.57it/s]\u001b[A\n",
      " 71%|███████   | 895/1261 [03:15<01:20,  4.57it/s]\u001b[A\n",
      " 71%|███████   | 896/1261 [03:15<01:19,  4.57it/s]\u001b[A\n",
      " 71%|███████   | 897/1261 [03:16<01:19,  4.57it/s]\u001b[A"
     ]
    },
    {
     "name": "stdout",
     "output_type": "stream",
     "text": [
      "fit coeffs too far off [%] [-0.90420628 -0.4075691  -0.01939244]\n"
     ]
    },
    {
     "name": "stderr",
     "output_type": "stream",
     "text": [
      "\n",
      " 71%|███████   | 898/1261 [03:16<01:19,  4.57it/s]\u001b[A"
     ]
    },
    {
     "name": "stdout",
     "output_type": "stream",
     "text": [
      "fit coeffs too far off [%] [-1.01190313 -0.46057439 -0.02239494]\n"
     ]
    },
    {
     "name": "stderr",
     "output_type": "stream",
     "text": [
      "\n",
      " 71%|███████▏  | 899/1261 [03:16<01:19,  4.57it/s]\u001b[A\n",
      " 71%|███████▏  | 900/1261 [03:16<01:18,  4.57it/s]\u001b[A\n",
      " 71%|███████▏  | 901/1261 [03:17<01:18,  4.57it/s]\u001b[A\n",
      " 72%|███████▏  | 902/1261 [03:17<01:18,  4.57it/s]\u001b[A\n",
      " 72%|███████▏  | 903/1261 [03:17<01:18,  4.57it/s]\u001b[A\n",
      " 72%|███████▏  | 904/1261 [03:17<01:18,  4.58it/s]\u001b[A\n",
      " 72%|███████▏  | 905/1261 [03:17<01:17,  4.58it/s]\u001b[A\n",
      " 72%|███████▏  | 906/1261 [03:17<01:17,  4.58it/s]\u001b[A\n",
      " 72%|███████▏  | 907/1261 [03:18<01:17,  4.58it/s]\u001b[A\n",
      " 72%|███████▏  | 908/1261 [03:18<01:17,  4.58it/s]\u001b[A\n",
      " 72%|███████▏  | 909/1261 [03:18<01:16,  4.58it/s]\u001b[A\n",
      " 72%|███████▏  | 910/1261 [03:18<01:16,  4.58it/s]\u001b[A\n",
      " 72%|███████▏  | 911/1261 [03:18<01:16,  4.58it/s]\u001b[A\n",
      " 72%|███████▏  | 912/1261 [03:19<01:16,  4.58it/s]\u001b[A\n",
      " 72%|███████▏  | 913/1261 [03:19<01:15,  4.58it/s]\u001b[A\n",
      " 72%|███████▏  | 914/1261 [03:19<01:15,  4.58it/s]\u001b[A\n",
      " 73%|███████▎  | 915/1261 [03:19<01:15,  4.58it/s]\u001b[A\n",
      " 73%|███████▎  | 916/1261 [03:19<01:15,  4.58it/s]\u001b[A\n",
      " 73%|███████▎  | 917/1261 [03:20<01:15,  4.58it/s]\u001b[A\n",
      " 73%|███████▎  | 918/1261 [03:20<01:14,  4.59it/s]\u001b[A\n",
      " 73%|███████▎  | 919/1261 [03:20<01:14,  4.59it/s]\u001b[A\n",
      " 73%|███████▎  | 920/1261 [03:20<01:14,  4.59it/s]\u001b[A\n",
      " 73%|███████▎  | 921/1261 [03:20<01:14,  4.59it/s]\u001b[A\n",
      " 73%|███████▎  | 922/1261 [03:20<01:13,  4.59it/s]\u001b[A\n",
      " 73%|███████▎  | 923/1261 [03:21<01:13,  4.59it/s]\u001b[A\n",
      " 73%|███████▎  | 924/1261 [03:21<01:13,  4.59it/s]\u001b[A\n",
      " 73%|███████▎  | 925/1261 [03:21<01:13,  4.59it/s]\u001b[A\n",
      " 73%|███████▎  | 926/1261 [03:21<01:12,  4.59it/s]\u001b[A\n",
      " 74%|███████▎  | 927/1261 [03:21<01:12,  4.60it/s]\u001b[A\n",
      " 74%|███████▎  | 928/1261 [03:21<01:12,  4.60it/s]\u001b[A\n",
      " 74%|███████▎  | 929/1261 [03:22<01:12,  4.60it/s]\u001b[A\n",
      " 74%|███████▍  | 930/1261 [03:22<01:11,  4.60it/s]\u001b[A\n",
      " 74%|███████▍  | 931/1261 [03:22<01:11,  4.60it/s]\u001b[A\n",
      " 74%|███████▍  | 932/1261 [03:22<01:11,  4.60it/s]\u001b[A\n",
      " 74%|███████▍  | 933/1261 [03:22<01:11,  4.60it/s]\u001b[A\n",
      " 74%|███████▍  | 934/1261 [03:22<01:11,  4.60it/s]\u001b[A\n",
      " 74%|███████▍  | 935/1261 [03:23<01:10,  4.60it/s]\u001b[A\n",
      " 74%|███████▍  | 936/1261 [03:23<01:10,  4.60it/s]\u001b[A\n",
      " 74%|███████▍  | 937/1261 [03:23<01:10,  4.60it/s]\u001b[A\n",
      " 74%|███████▍  | 938/1261 [03:23<01:10,  4.61it/s]\u001b[A\n",
      " 74%|███████▍  | 939/1261 [03:23<01:09,  4.61it/s]\u001b[A\n",
      " 75%|███████▍  | 940/1261 [03:24<01:09,  4.61it/s]\u001b[A\n",
      " 75%|███████▍  | 941/1261 [03:24<01:09,  4.61it/s]\u001b[A\n",
      " 75%|███████▍  | 942/1261 [03:24<01:09,  4.61it/s]\u001b[A\n",
      " 75%|███████▍  | 943/1261 [03:24<01:08,  4.61it/s]\u001b[A\n",
      " 75%|███████▍  | 944/1261 [03:24<01:08,  4.61it/s]\u001b[A\n",
      " 75%|███████▍  | 945/1261 [03:24<01:08,  4.61it/s]\u001b[A\n",
      " 75%|███████▌  | 946/1261 [03:25<01:08,  4.61it/s]\u001b[A\n",
      " 75%|███████▌  | 947/1261 [03:25<01:08,  4.61it/s]\u001b[A\n",
      " 75%|███████▌  | 948/1261 [03:25<01:07,  4.61it/s]\u001b[A\n",
      " 75%|███████▌  | 949/1261 [03:25<01:07,  4.61it/s]\u001b[A\n",
      " 75%|███████▌  | 950/1261 [03:25<01:07,  4.61it/s]\u001b[A\n",
      " 75%|███████▌  | 951/1261 [03:26<01:07,  4.61it/s]\u001b[A\n",
      " 75%|███████▌  | 952/1261 [03:26<01:06,  4.62it/s]\u001b[A\n",
      " 76%|███████▌  | 953/1261 [03:26<01:06,  4.62it/s]\u001b[A\n",
      " 76%|███████▌  | 954/1261 [03:26<01:06,  4.62it/s]\u001b[A\n",
      " 76%|███████▌  | 955/1261 [03:26<01:06,  4.62it/s]\u001b[A\n",
      " 76%|███████▌  | 956/1261 [03:26<01:06,  4.62it/s]\u001b[A\n",
      " 76%|███████▌  | 957/1261 [03:27<01:05,  4.62it/s]\u001b[A\n",
      " 76%|███████▌  | 958/1261 [03:27<01:05,  4.62it/s]\u001b[A\n",
      " 76%|███████▌  | 959/1261 [03:27<01:05,  4.62it/s]\u001b[A\n",
      " 76%|███████▌  | 960/1261 [03:27<01:05,  4.62it/s]\u001b[A\n",
      " 76%|███████▌  | 961/1261 [03:27<01:04,  4.63it/s]\u001b[A\n",
      " 76%|███████▋  | 962/1261 [03:27<01:04,  4.63it/s]\u001b[A\n",
      " 76%|███████▋  | 963/1261 [03:28<01:04,  4.63it/s]\u001b[A\n",
      " 76%|███████▋  | 964/1261 [03:28<01:04,  4.63it/s]\u001b[A\n",
      " 77%|███████▋  | 965/1261 [03:28<01:03,  4.63it/s]\u001b[A"
     ]
    },
    {
     "name": "stdout",
     "output_type": "stream",
     "text": [
      "fit coeffs too far off [%] [ 0.79362084  0.13268011  0.003311  ]\n"
     ]
    },
    {
     "name": "stderr",
     "output_type": "stream",
     "text": [
      "\n",
      " 77%|███████▋  | 966/1261 [03:28<01:03,  4.63it/s]\u001b[A"
     ]
    },
    {
     "name": "stdout",
     "output_type": "stream",
     "text": [
      "fit coeffs too far off [%] [ 1.06728535  0.18931207  0.00271931]\n"
     ]
    },
    {
     "name": "stderr",
     "output_type": "stream",
     "text": [
      "\n",
      " 77%|███████▋  | 967/1261 [03:28<01:03,  4.63it/s]\u001b[A\n",
      " 77%|███████▋  | 968/1261 [03:29<01:03,  4.63it/s]\u001b[A\n",
      " 77%|███████▋  | 969/1261 [03:29<01:03,  4.63it/s]\u001b[A\n",
      " 77%|███████▋  | 970/1261 [03:29<01:02,  4.63it/s]\u001b[A\n",
      " 77%|███████▋  | 971/1261 [03:29<01:02,  4.63it/s]\u001b[A\n",
      " 77%|███████▋  | 972/1261 [03:29<01:02,  4.63it/s]\u001b[A\n",
      " 77%|███████▋  | 973/1261 [03:30<01:02,  4.63it/s]\u001b[A\n",
      " 77%|███████▋  | 974/1261 [03:30<01:01,  4.63it/s]\u001b[A\n",
      " 77%|███████▋  | 975/1261 [03:30<01:01,  4.63it/s]\u001b[A\n",
      " 77%|███████▋  | 976/1261 [03:30<01:01,  4.63it/s]\u001b[A\n",
      " 77%|███████▋  | 977/1261 [03:30<01:01,  4.64it/s]\u001b[A\n",
      " 78%|███████▊  | 978/1261 [03:30<01:01,  4.64it/s]\u001b[A"
     ]
    },
    {
     "name": "stdout",
     "output_type": "stream",
     "text": [
      "fit coeffs too far off [%] [ 1.2122473   0.26864988  0.01566968]\n"
     ]
    },
    {
     "name": "stderr",
     "output_type": "stream",
     "text": [
      "\n",
      " 78%|███████▊  | 979/1261 [03:31<01:00,  4.63it/s]\u001b[A"
     ]
    },
    {
     "name": "stdout",
     "output_type": "stream",
     "text": [
      "Trouble ahead! 3 lanes detected!\n",
      "fit coeffs too far off [%] [ 1.18445417  0.22637762  0.00912236]\n",
      "fit coeffs too far off [%] [-1.27573053 -0.47541679 -0.0333814 ]\n",
      "Trouble ahead! 3 lanes detected!\n",
      "Trouble ahead! 3 lanes detected!\n"
     ]
    },
    {
     "name": "stderr",
     "output_type": "stream",
     "text": [
      "\n",
      " 78%|███████▊  | 980/1261 [03:31<01:00,  4.63it/s]\u001b[A"
     ]
    },
    {
     "name": "stdout",
     "output_type": "stream",
     "text": [
      "fit coeffs too far off [%] [ 0.91331291  0.16493385  0.00428602]\n",
      "fit coeffs too far off [%] [-0.71646129 -0.3088876  -0.02570959]\n",
      "Trouble ahead! 3 lanes detected!\n",
      "Trouble ahead! 3 lanes detected!\n"
     ]
    },
    {
     "name": "stderr",
     "output_type": "stream",
     "text": [
      "\n",
      " 78%|███████▊  | 981/1261 [03:32<01:00,  4.62it/s]\u001b[A"
     ]
    },
    {
     "name": "stdout",
     "output_type": "stream",
     "text": [
      "fit coeffs too far off [%] [-5.88666713 -2.00796949 -0.10600597]\n"
     ]
    },
    {
     "name": "stderr",
     "output_type": "stream",
     "text": [
      "\n",
      " 78%|███████▊  | 982/1261 [03:32<01:00,  4.62it/s]\u001b[A"
     ]
    },
    {
     "name": "stdout",
     "output_type": "stream",
     "text": [
      "Trouble ahead! 3 lanes detected!\n",
      "fit coeffs too far off [%] [-4.70306657 -1.72593881 -0.09327993]\n"
     ]
    },
    {
     "name": "stderr",
     "output_type": "stream",
     "text": [
      "\n",
      " 78%|███████▊  | 983/1261 [03:32<01:00,  4.62it/s]\u001b[A"
     ]
    },
    {
     "name": "stdout",
     "output_type": "stream",
     "text": [
      "Trouble ahead! 3 lanes detected!\n",
      "fit coeffs too far off [%] [-4.31293288 -1.71853784 -0.09921585]\n"
     ]
    },
    {
     "name": "stderr",
     "output_type": "stream",
     "text": [
      "\n",
      " 78%|███████▊  | 984/1261 [03:33<01:00,  4.61it/s]\u001b[A"
     ]
    },
    {
     "name": "stdout",
     "output_type": "stream",
     "text": [
      "Trouble ahead! 3 lanes detected!\n",
      "fit coeffs too far off [%] [-3.69511272 -1.39013852 -0.07626548]\n"
     ]
    },
    {
     "name": "stderr",
     "output_type": "stream",
     "text": [
      "\n",
      " 78%|███████▊  | 985/1261 [03:33<00:59,  4.61it/s]\u001b[A"
     ]
    },
    {
     "name": "stdout",
     "output_type": "stream",
     "text": [
      "Trouble ahead! 3 lanes detected!\n"
     ]
    },
    {
     "name": "stderr",
     "output_type": "stream",
     "text": [
      "\n",
      " 78%|███████▊  | 986/1261 [03:33<00:59,  4.61it/s]\u001b[A\n",
      " 78%|███████▊  | 987/1261 [03:33<00:59,  4.61it/s]\u001b[A\n",
      " 78%|███████▊  | 988/1261 [03:34<00:59,  4.61it/s]\u001b[A"
     ]
    },
    {
     "name": "stdout",
     "output_type": "stream",
     "text": [
      "fit coeffs too far off [%] [ 1.02093837  0.52128844  0.01252443]\n"
     ]
    },
    {
     "name": "stderr",
     "output_type": "stream",
     "text": [
      "\n",
      " 78%|███████▊  | 989/1261 [03:34<00:58,  4.61it/s]\u001b[A"
     ]
    },
    {
     "name": "stdout",
     "output_type": "stream",
     "text": [
      "fit coeffs too far off [%] [ 0.99030051  0.35043368  0.00321117]\n"
     ]
    },
    {
     "name": "stderr",
     "output_type": "stream",
     "text": [
      "\n",
      " 79%|███████▊  | 990/1261 [03:34<00:58,  4.61it/s]\u001b[A\n",
      " 79%|███████▊  | 991/1261 [03:34<00:58,  4.61it/s]\u001b[A\n",
      " 79%|███████▊  | 992/1261 [03:35<00:58,  4.61it/s]\u001b[A\n",
      " 79%|███████▊  | 993/1261 [03:35<00:58,  4.61it/s]\u001b[A\n",
      " 79%|███████▉  | 994/1261 [03:35<00:57,  4.61it/s]\u001b[A\n",
      " 79%|███████▉  | 995/1261 [03:35<00:57,  4.61it/s]\u001b[A\n",
      " 79%|███████▉  | 996/1261 [03:35<00:57,  4.61it/s]\u001b[A\n",
      " 79%|███████▉  | 997/1261 [03:36<00:57,  4.61it/s]\u001b[A\n",
      " 79%|███████▉  | 998/1261 [03:36<00:56,  4.62it/s]\u001b[A\n",
      " 79%|███████▉  | 999/1261 [03:36<00:56,  4.62it/s]\u001b[A"
     ]
    },
    {
     "name": "stdout",
     "output_type": "stream",
     "text": [
      "fit coeffs too far off [%] [-0.77067281 -0.39528789 -0.01844545]\n"
     ]
    },
    {
     "name": "stderr",
     "output_type": "stream",
     "text": [
      "\n",
      " 79%|███████▉  | 1000/1261 [03:36<00:56,  4.61it/s]\u001b[A\n",
      " 79%|███████▉  | 1001/1261 [03:36<00:56,  4.61it/s]\u001b[A"
     ]
    },
    {
     "name": "stdout",
     "output_type": "stream",
     "text": [
      "fit coeffs too far off [%] [-0.5577305  -0.53060748 -0.08939333]\n",
      "fit coeffs too far off [%] [-1.17580284 -0.39390881 -0.00339235]\n"
     ]
    },
    {
     "name": "stderr",
     "output_type": "stream",
     "text": [
      "\n",
      " 79%|███████▉  | 1002/1261 [03:37<00:56,  4.61it/s]\u001b[A"
     ]
    },
    {
     "name": "stdout",
     "output_type": "stream",
     "text": [
      "fit coeffs too far off [%] [-0.52842727 -0.61541876 -0.1419659 ]\n"
     ]
    },
    {
     "name": "stderr",
     "output_type": "stream",
     "text": [
      "\n",
      " 80%|███████▉  | 1003/1261 [03:37<00:55,  4.61it/s]\u001b[A"
     ]
    },
    {
     "name": "stdout",
     "output_type": "stream",
     "text": [
      "fit coeffs too far off [%] [-0.92234834 -1.09384659 -0.21905348]\n",
      "fit coeffs too far off [%] [-0.7668838  -0.19041022  0.02384855]\n"
     ]
    },
    {
     "name": "stderr",
     "output_type": "stream",
     "text": [
      "\n",
      " 80%|███████▉  | 1004/1261 [03:37<00:55,  4.61it/s]\u001b[A"
     ]
    },
    {
     "name": "stdout",
     "output_type": "stream",
     "text": [
      "fit coeffs too far off [%] [-0.88381605 -1.26245966 -0.27761959]\n"
     ]
    },
    {
     "name": "stderr",
     "output_type": "stream",
     "text": [
      "\n",
      " 80%|███████▉  | 1005/1261 [03:38<00:55,  4.60it/s]\u001b[A"
     ]
    },
    {
     "name": "stdout",
     "output_type": "stream",
     "text": [
      "fit coeffs too far off [%] [-0.61947491 -0.95911991 -0.23421658]\n"
     ]
    },
    {
     "name": "stderr",
     "output_type": "stream",
     "text": [
      "\n",
      " 80%|███████▉  | 1006/1261 [03:38<00:55,  4.60it/s]\u001b[A"
     ]
    },
    {
     "name": "stdout",
     "output_type": "stream",
     "text": [
      "fit coeffs too far off [%] [ 0.79917986  0.23767134  0.00570939]\n"
     ]
    },
    {
     "name": "stderr",
     "output_type": "stream",
     "text": [
      "\n",
      " 80%|███████▉  | 1007/1261 [03:38<00:55,  4.60it/s]\u001b[A"
     ]
    },
    {
     "name": "stdout",
     "output_type": "stream",
     "text": [
      "fit coeffs too far off [%] [-1.23090361 -1.04683085 -0.10008723]\n"
     ]
    },
    {
     "name": "stderr",
     "output_type": "stream",
     "text": [
      "\n",
      " 80%|███████▉  | 1008/1261 [03:39<00:54,  4.60it/s]\u001b[A\n",
      " 80%|████████  | 1009/1261 [03:39<00:54,  4.60it/s]\u001b[A"
     ]
    },
    {
     "name": "stdout",
     "output_type": "stream",
     "text": [
      "fit coeffs too far off [%] [ 0.98597287  0.31364003  0.00131355]\n"
     ]
    },
    {
     "name": "stderr",
     "output_type": "stream",
     "text": [
      "\n",
      " 80%|████████  | 1010/1261 [03:39<00:54,  4.60it/s]\u001b[A"
     ]
    },
    {
     "name": "stdout",
     "output_type": "stream",
     "text": [
      "fit coeffs too far off [%] [ 1.27623356  0.46509746  0.01217856]\n"
     ]
    },
    {
     "name": "stderr",
     "output_type": "stream",
     "text": [
      "\n",
      " 80%|████████  | 1011/1261 [03:39<00:54,  4.60it/s]\u001b[A\n",
      " 80%|████████  | 1012/1261 [03:40<00:54,  4.60it/s]\u001b[A"
     ]
    },
    {
     "name": "stdout",
     "output_type": "stream",
     "text": [
      "fit coeffs too far off [%] [-0.43148214 -0.65350871 -0.14536614]\n"
     ]
    },
    {
     "name": "stderr",
     "output_type": "stream",
     "text": [
      "\n",
      " 80%|████████  | 1013/1261 [03:40<00:53,  4.60it/s]\u001b[A"
     ]
    },
    {
     "name": "stdout",
     "output_type": "stream",
     "text": [
      "fit coeffs too far off [%] [-0.73737105 -0.88577931 -0.17508163]\n"
     ]
    },
    {
     "name": "stderr",
     "output_type": "stream",
     "text": [
      "\n",
      " 80%|████████  | 1014/1261 [03:40<00:53,  4.59it/s]\u001b[A"
     ]
    },
    {
     "name": "stdout",
     "output_type": "stream",
     "text": [
      "fit coeffs too far off [%] [-0.84527617 -0.99857722 -0.19452544]\n"
     ]
    },
    {
     "name": "stderr",
     "output_type": "stream",
     "text": [
      "\n",
      " 80%|████████  | 1015/1261 [03:40<00:53,  4.59it/s]\u001b[A"
     ]
    },
    {
     "name": "stdout",
     "output_type": "stream",
     "text": [
      "fit coeffs too far off [%] [-0.80542276 -1.02374747 -0.20754747]\n"
     ]
    },
    {
     "name": "stderr",
     "output_type": "stream",
     "text": [
      "\n",
      " 81%|████████  | 1016/1261 [03:41<00:53,  4.59it/s]\u001b[A"
     ]
    },
    {
     "name": "stdout",
     "output_type": "stream",
     "text": [
      "fit coeffs too far off [%] [-0.33320466 -0.66287347 -0.16706209]\n"
     ]
    },
    {
     "name": "stderr",
     "output_type": "stream",
     "text": [
      "\n",
      " 81%|████████  | 1017/1261 [03:41<00:53,  4.59it/s]\u001b[A\n",
      " 81%|████████  | 1018/1261 [03:41<00:52,  4.59it/s]\u001b[A"
     ]
    },
    {
     "name": "stdout",
     "output_type": "stream",
     "text": [
      "fit coeffs too far off [%] [-0.55752947 -0.60127321 -0.08050301]\n"
     ]
    },
    {
     "name": "stderr",
     "output_type": "stream",
     "text": [
      "\n",
      " 81%|████████  | 1019/1261 [03:42<00:52,  4.59it/s]\u001b[A\n",
      " 81%|████████  | 1020/1261 [03:42<00:52,  4.59it/s]\u001b[A\n",
      " 81%|████████  | 1021/1261 [03:42<00:52,  4.59it/s]\u001b[A\n",
      " 81%|████████  | 1022/1261 [03:42<00:52,  4.59it/s]\u001b[A\n",
      " 81%|████████  | 1023/1261 [03:42<00:51,  4.59it/s]\u001b[A\n",
      " 81%|████████  | 1024/1261 [03:42<00:51,  4.59it/s]\u001b[A\n",
      " 81%|████████▏ | 1025/1261 [03:43<00:51,  4.59it/s]\u001b[A\n",
      " 81%|████████▏ | 1026/1261 [03:43<00:51,  4.59it/s]\u001b[A"
     ]
    },
    {
     "name": "stdout",
     "output_type": "stream",
     "text": [
      "fit coeffs too far off [%] [ 1.15779924  1.41710226  0.0939911 ]\n"
     ]
    },
    {
     "name": "stderr",
     "output_type": "stream",
     "text": [
      "\n",
      " 81%|████████▏ | 1027/1261 [03:43<00:50,  4.59it/s]\u001b[A"
     ]
    },
    {
     "name": "stdout",
     "output_type": "stream",
     "text": [
      "fit coeffs too far off [%] [ 1.35880044  1.92412605  0.17230137]\n"
     ]
    },
    {
     "name": "stderr",
     "output_type": "stream",
     "text": [
      "\n",
      " 82%|████████▏ | 1028/1261 [03:44<00:50,  4.59it/s]\u001b[A"
     ]
    },
    {
     "name": "stdout",
     "output_type": "stream",
     "text": [
      "fit coeffs too far off [%] [ 1.07528287  1.76775582  0.19803493]\n",
      "fit coeffs too far off [%] [ 0.71461761  0.07687768 -0.02122119]\n"
     ]
    },
    {
     "name": "stderr",
     "output_type": "stream",
     "text": [
      "\n",
      " 82%|████████▏ | 1029/1261 [03:44<00:50,  4.59it/s]\u001b[A"
     ]
    },
    {
     "name": "stdout",
     "output_type": "stream",
     "text": [
      "fit coeffs too far off [%] [ 1.37871457  2.38339525  0.27365677]\n",
      "fit coeffs too far off [%] [ 1.17183172  0.19178836 -0.02044229]\n"
     ]
    },
    {
     "name": "stderr",
     "output_type": "stream",
     "text": [
      "\n",
      " 82%|████████▏ | 1030/1261 [03:44<00:50,  4.58it/s]\u001b[A"
     ]
    },
    {
     "name": "stdout",
     "output_type": "stream",
     "text": [
      "fit coeffs too far off [%] [ 0.91300023  1.93778295  0.22923165]\n",
      "fit coeffs too far off [%] [ 1.12715685  0.18556192 -0.0169327 ]\n"
     ]
    },
    {
     "name": "stderr",
     "output_type": "stream",
     "text": [
      "\n",
      " 82%|████████▏ | 1031/1261 [03:45<00:50,  4.58it/s]\u001b[A"
     ]
    },
    {
     "name": "stdout",
     "output_type": "stream",
     "text": [
      "fit coeffs too far off [%] [ 0.73564897  2.10201199  0.28244086]\n",
      "fit coeffs too far off [%] [ 1.09694931  0.19126542 -0.01955781]\n"
     ]
    },
    {
     "name": "stderr",
     "output_type": "stream",
     "text": [
      "\n",
      " 82%|████████▏ | 1032/1261 [03:45<00:50,  4.58it/s]\u001b[A"
     ]
    },
    {
     "name": "stdout",
     "output_type": "stream",
     "text": [
      "fit coeffs too far off [%] [ 0.24360036  1.59943116  0.26310969]\n",
      "fit coeffs too far off [%] [ 0.91066089  0.18383438 -0.01554512]\n"
     ]
    },
    {
     "name": "stderr",
     "output_type": "stream",
     "text": [
      "\n",
      " 82%|████████▏ | 1033/1261 [03:45<00:49,  4.57it/s]\u001b[A"
     ]
    },
    {
     "name": "stdout",
     "output_type": "stream",
     "text": [
      "fit coeffs too far off [%] [ 0.7525699   0.23426968  0.00124561]\n"
     ]
    },
    {
     "name": "stderr",
     "output_type": "stream",
     "text": [
      "\n",
      " 82%|████████▏ | 1034/1261 [03:46<00:49,  4.57it/s]\u001b[A"
     ]
    },
    {
     "name": "stdout",
     "output_type": "stream",
     "text": [
      "fit coeffs too far off [%] [ 0.77719059  0.28350221  0.00503532]\n"
     ]
    },
    {
     "name": "stderr",
     "output_type": "stream",
     "text": [
      "\n",
      " 82%|████████▏ | 1035/1261 [03:46<00:49,  4.57it/s]\u001b[A\n",
      " 82%|████████▏ | 1036/1261 [03:46<00:49,  4.57it/s]\u001b[A\n",
      " 82%|████████▏ | 1037/1261 [03:46<00:48,  4.57it/s]\u001b[A\n",
      " 82%|████████▏ | 1038/1261 [03:47<00:48,  4.57it/s]\u001b[A\n",
      " 82%|████████▏ | 1039/1261 [03:47<00:48,  4.57it/s]\u001b[A\n",
      " 82%|████████▏ | 1040/1261 [03:47<00:48,  4.57it/s]\u001b[A\n",
      " 83%|████████▎ | 1041/1261 [03:47<00:48,  4.57it/s]\u001b[A\n",
      " 83%|████████▎ | 1042/1261 [03:47<00:47,  4.57it/s]\u001b[A\n",
      " 83%|████████▎ | 1043/1261 [03:48<00:47,  4.57it/s]\u001b[A\n",
      " 83%|████████▎ | 1044/1261 [03:48<00:47,  4.57it/s]\u001b[A\n",
      " 83%|████████▎ | 1045/1261 [03:48<00:47,  4.58it/s]\u001b[A\n",
      " 83%|████████▎ | 1046/1261 [03:48<00:46,  4.58it/s]\u001b[A\n",
      " 83%|████████▎ | 1047/1261 [03:48<00:46,  4.58it/s]\u001b[A\n",
      " 83%|████████▎ | 1048/1261 [03:48<00:46,  4.58it/s]\u001b[A\n",
      " 83%|████████▎ | 1049/1261 [03:49<00:46,  4.58it/s]\u001b[A"
     ]
    },
    {
     "name": "stdout",
     "output_type": "stream",
     "text": [
      "fit coeffs too far off [%] [-1.02241375 -0.20928122  0.00913146]\n"
     ]
    },
    {
     "name": "stderr",
     "output_type": "stream",
     "text": [
      "\n",
      " 83%|████████▎ | 1050/1261 [03:49<00:46,  4.58it/s]\u001b[A\n",
      " 83%|████████▎ | 1051/1261 [03:49<00:45,  4.58it/s]\u001b[A\n",
      " 83%|████████▎ | 1052/1261 [03:49<00:45,  4.58it/s]\u001b[A\n",
      " 84%|████████▎ | 1053/1261 [03:50<00:45,  4.58it/s]\u001b[A\n",
      " 84%|████████▎ | 1054/1261 [03:50<00:45,  4.58it/s]\u001b[A\n",
      " 84%|████████▎ | 1055/1261 [03:50<00:44,  4.58it/s]\u001b[A\n",
      " 84%|████████▎ | 1056/1261 [03:50<00:44,  4.58it/s]\u001b[A\n",
      " 84%|████████▍ | 1057/1261 [03:50<00:44,  4.58it/s]\u001b[A"
     ]
    },
    {
     "name": "stdout",
     "output_type": "stream",
     "text": [
      "fit coeffs too far off [%] [-0.05417397  0.24160672  0.15729347]\n"
     ]
    },
    {
     "name": "stderr",
     "output_type": "stream",
     "text": [
      "\n",
      " 84%|████████▍ | 1058/1261 [03:51<00:44,  4.58it/s]\u001b[A\n",
      " 84%|████████▍ | 1059/1261 [03:51<00:44,  4.58it/s]\u001b[A"
     ]
    },
    {
     "name": "stdout",
     "output_type": "stream",
     "text": [
      "fit coeffs too far off [%] [ 0.20411857  0.30472778  0.16633591]\n",
      "fit coeffs too far off [%] [ 0.96274731  0.16841486 -0.01410719]\n"
     ]
    },
    {
     "name": "stderr",
     "output_type": "stream",
     "text": [
      "\n",
      " 84%|████████▍ | 1060/1261 [03:51<00:43,  4.58it/s]\u001b[A"
     ]
    },
    {
     "name": "stdout",
     "output_type": "stream",
     "text": [
      "fit coeffs too far off [%] [ 0.33657786  0.33682745  0.17892521]\n",
      "fit coeffs too far off [%] [ 1.96698699  0.40047554 -0.00965994]\n"
     ]
    },
    {
     "name": "stderr",
     "output_type": "stream",
     "text": [
      "\n",
      " 84%|████████▍ | 1061/1261 [03:52<00:43,  4.57it/s]\u001b[A"
     ]
    },
    {
     "name": "stdout",
     "output_type": "stream",
     "text": [
      "fit coeffs too far off [%] [ 0.34794734  0.3370647   0.18812471]\n",
      "fit coeffs too far off [%] [ 1.01353573  0.16510323 -0.02302113]\n"
     ]
    },
    {
     "name": "stderr",
     "output_type": "stream",
     "text": [
      "\n",
      " 84%|████████▍ | 1062/1261 [03:52<00:43,  4.57it/s]\u001b[A"
     ]
    },
    {
     "name": "stdout",
     "output_type": "stream",
     "text": [
      "fit coeffs too far off [%] [ 0.98020801  0.19854385 -0.0171065 ]\n"
     ]
    },
    {
     "name": "stderr",
     "output_type": "stream",
     "text": [
      "\n",
      " 84%|████████▍ | 1063/1261 [03:52<00:43,  4.57it/s]\u001b[A\n",
      " 84%|████████▍ | 1064/1261 [03:52<00:43,  4.57it/s]\u001b[A\n",
      " 84%|████████▍ | 1065/1261 [03:53<00:42,  4.57it/s]\u001b[A\n",
      " 85%|████████▍ | 1066/1261 [03:53<00:42,  4.57it/s]\u001b[A\n",
      " 85%|████████▍ | 1067/1261 [03:53<00:42,  4.57it/s]\u001b[A\n",
      " 85%|████████▍ | 1068/1261 [03:53<00:42,  4.57it/s]\u001b[A\n",
      " 85%|████████▍ | 1069/1261 [03:53<00:42,  4.57it/s]\u001b[A\n",
      " 85%|████████▍ | 1070/1261 [03:54<00:41,  4.57it/s]\u001b[A\n",
      " 85%|████████▍ | 1071/1261 [03:54<00:41,  4.57it/s]\u001b[A\n",
      " 85%|████████▌ | 1072/1261 [03:54<00:41,  4.57it/s]\u001b[A\n",
      " 85%|████████▌ | 1073/1261 [03:54<00:41,  4.57it/s]\u001b[A\n",
      " 85%|████████▌ | 1074/1261 [03:54<00:40,  4.57it/s]\u001b[A\n",
      " 85%|████████▌ | 1075/1261 [03:54<00:40,  4.57it/s]\u001b[A\n",
      " 85%|████████▌ | 1076/1261 [03:55<00:40,  4.58it/s]\u001b[A\n",
      " 85%|████████▌ | 1077/1261 [03:55<00:40,  4.58it/s]\u001b[A\n",
      " 85%|████████▌ | 1078/1261 [03:55<00:39,  4.58it/s]\u001b[A\n",
      " 86%|████████▌ | 1079/1261 [03:55<00:39,  4.58it/s]\u001b[A\n",
      " 86%|████████▌ | 1080/1261 [03:55<00:39,  4.58it/s]\u001b[A\n",
      " 86%|████████▌ | 1081/1261 [03:56<00:39,  4.58it/s]\u001b[A\n",
      " 86%|████████▌ | 1082/1261 [03:56<00:39,  4.58it/s]\u001b[A\n",
      " 86%|████████▌ | 1083/1261 [03:56<00:38,  4.58it/s]\u001b[A\n",
      " 86%|████████▌ | 1084/1261 [03:56<00:38,  4.58it/s]\u001b[A\n",
      " 86%|████████▌ | 1085/1261 [03:56<00:38,  4.58it/s]\u001b[A\n",
      " 86%|████████▌ | 1086/1261 [03:57<00:38,  4.58it/s]\u001b[A\n",
      " 86%|████████▌ | 1087/1261 [03:57<00:37,  4.58it/s]\u001b[A\n",
      " 86%|████████▋ | 1088/1261 [03:57<00:37,  4.58it/s]\u001b[A\n",
      " 86%|████████▋ | 1089/1261 [03:57<00:37,  4.58it/s]\u001b[A\n",
      " 86%|████████▋ | 1090/1261 [03:57<00:37,  4.58it/s]\u001b[A\n",
      " 87%|████████▋ | 1091/1261 [03:57<00:37,  4.58it/s]\u001b[A\n",
      " 87%|████████▋ | 1092/1261 [03:58<00:36,  4.58it/s]\u001b[A\n",
      " 87%|████████▋ | 1093/1261 [03:58<00:36,  4.58it/s]\u001b[A\n",
      " 87%|████████▋ | 1094/1261 [03:58<00:36,  4.59it/s]\u001b[A\n",
      " 87%|████████▋ | 1095/1261 [03:58<00:36,  4.59it/s]\u001b[A\n",
      " 87%|████████▋ | 1096/1261 [03:59<00:35,  4.59it/s]\u001b[A\n",
      " 87%|████████▋ | 1097/1261 [03:59<00:35,  4.59it/s]\u001b[A\n",
      " 87%|████████▋ | 1098/1261 [03:59<00:35,  4.59it/s]\u001b[A\n",
      " 87%|████████▋ | 1099/1261 [03:59<00:35,  4.59it/s]\u001b[A\n",
      " 87%|████████▋ | 1100/1261 [03:59<00:35,  4.59it/s]\u001b[A\n",
      " 87%|████████▋ | 1101/1261 [03:59<00:34,  4.59it/s]\u001b[A\n",
      " 87%|████████▋ | 1102/1261 [04:00<00:34,  4.59it/s]\u001b[A\n",
      " 87%|████████▋ | 1103/1261 [04:00<00:34,  4.59it/s]\u001b[A\n",
      " 88%|████████▊ | 1104/1261 [04:00<00:34,  4.59it/s]\u001b[A\n",
      " 88%|████████▊ | 1105/1261 [04:00<00:33,  4.59it/s]\u001b[A"
     ]
    },
    {
     "name": "stdout",
     "output_type": "stream",
     "text": [
      "fit coeffs too far off [%] [ 0.95313964  0.10463006 -0.0133193 ]\n"
     ]
    },
    {
     "name": "stderr",
     "output_type": "stream",
     "text": [
      "\n",
      " 88%|████████▊ | 1106/1261 [04:01<00:33,  4.59it/s]\u001b[A"
     ]
    },
    {
     "name": "stdout",
     "output_type": "stream",
     "text": [
      "fit coeffs too far off [%] [ 1.67470204  0.47713255  0.03032958]\n",
      "fit coeffs too far off [%] [  1.17215344e+00   1.39216954e-01  -7.62929676e-05]\n"
     ]
    },
    {
     "name": "stderr",
     "output_type": "stream",
     "text": [
      "\n",
      " 88%|████████▊ | 1107/1261 [04:01<00:33,  4.59it/s]\u001b[A"
     ]
    },
    {
     "name": "stdout",
     "output_type": "stream",
     "text": [
      "fit coeffs too far off [%] [ 1.52724837  0.30318881 -0.00438629]\n",
      "fit coeffs too far off [%] [ 1.38437233  0.20321431  0.01028099]\n"
     ]
    },
    {
     "name": "stderr",
     "output_type": "stream",
     "text": [
      "\n",
      " 88%|████████▊ | 1108/1261 [04:01<00:33,  4.58it/s]\u001b[A"
     ]
    },
    {
     "name": "stdout",
     "output_type": "stream",
     "text": [
      "fit coeffs too far off [%] [ 1.66102988  0.52017994  0.02848708]\n",
      "fit coeffs too far off [%] [ 2.30055249  0.32533844  0.00478072]\n"
     ]
    },
    {
     "name": "stderr",
     "output_type": "stream",
     "text": [
      "\n",
      " 88%|████████▊ | 1109/1261 [04:02<00:33,  4.58it/s]\u001b[A"
     ]
    },
    {
     "name": "stdout",
     "output_type": "stream",
     "text": [
      "fit coeffs too far off [%] [ 1.45366646  0.46198401  0.01864547]\n",
      "fit coeffs too far off [%] [ 1.73992646  0.26544121  0.00499348]\n"
     ]
    },
    {
     "name": "stderr",
     "output_type": "stream",
     "text": [
      "\n",
      " 88%|████████▊ | 1110/1261 [04:02<00:32,  4.58it/s]\u001b[A"
     ]
    },
    {
     "name": "stdout",
     "output_type": "stream",
     "text": [
      "fit coeffs too far off [%] [ 1.36744021  0.50379016  0.02321396]\n",
      "fit coeffs too far off [%] [  2.04557112e+00   2.87166125e-01   1.70869396e-03]\n"
     ]
    },
    {
     "name": "stderr",
     "output_type": "stream",
     "text": [
      "\n",
      " 88%|████████▊ | 1111/1261 [04:02<00:32,  4.57it/s]\u001b[A"
     ]
    },
    {
     "name": "stdout",
     "output_type": "stream",
     "text": [
      "fit coeffs too far off [%] [ 0.76159851  0.447714    0.04279951]\n",
      "fit coeffs too far off [%] [ 2.4051153   0.36755871 -0.00521909]\n"
     ]
    },
    {
     "name": "stderr",
     "output_type": "stream",
     "text": [
      "\n",
      " 88%|████████▊ | 1112/1261 [04:03<00:32,  4.57it/s]\u001b[A"
     ]
    },
    {
     "name": "stdout",
     "output_type": "stream",
     "text": [
      "fit coeffs too far off [%] [ 2.76579416  0.53700601  0.00614545]\n"
     ]
    },
    {
     "name": "stderr",
     "output_type": "stream",
     "text": [
      "\n",
      " 88%|████████▊ | 1113/1261 [04:03<00:32,  4.57it/s]\u001b[A\n",
      " 88%|████████▊ | 1114/1261 [04:03<00:32,  4.57it/s]\u001b[A\n",
      " 88%|████████▊ | 1115/1261 [04:04<00:31,  4.57it/s]\u001b[A\n",
      " 89%|████████▊ | 1116/1261 [04:04<00:31,  4.57it/s]\u001b[A\n",
      " 89%|████████▊ | 1117/1261 [04:04<00:31,  4.57it/s]\u001b[A\n",
      " 89%|████████▊ | 1118/1261 [04:04<00:31,  4.57it/s]\u001b[A\n",
      " 89%|████████▊ | 1119/1261 [04:04<00:31,  4.57it/s]\u001b[A\n",
      " 89%|████████▉ | 1120/1261 [04:04<00:30,  4.57it/s]\u001b[A\n",
      " 89%|████████▉ | 1121/1261 [04:05<00:30,  4.57it/s]\u001b[A\n",
      " 89%|████████▉ | 1122/1261 [04:05<00:30,  4.57it/s]\u001b[A\n",
      " 89%|████████▉ | 1123/1261 [04:05<00:30,  4.57it/s]\u001b[A\n",
      " 89%|████████▉ | 1124/1261 [04:05<00:29,  4.57it/s]\u001b[A\n",
      " 89%|████████▉ | 1125/1261 [04:05<00:29,  4.57it/s]\u001b[A\n",
      " 89%|████████▉ | 1126/1261 [04:06<00:29,  4.57it/s]\u001b[A\n",
      " 89%|████████▉ | 1127/1261 [04:06<00:29,  4.57it/s]\u001b[A\n",
      " 89%|████████▉ | 1128/1261 [04:06<00:29,  4.57it/s]\u001b[A\n",
      " 90%|████████▉ | 1129/1261 [04:06<00:28,  4.58it/s]\u001b[A"
     ]
    },
    {
     "name": "stdout",
     "output_type": "stream",
     "text": [
      "fit coeffs too far off [%] [ 0.64244169  0.65636786  0.05771698]\n"
     ]
    },
    {
     "name": "stderr",
     "output_type": "stream",
     "text": [
      "\n",
      " 90%|████████▉ | 1130/1261 [04:07<00:28,  4.57it/s]\u001b[A"
     ]
    },
    {
     "name": "stdout",
     "output_type": "stream",
     "text": [
      "fit coeffs too far off [%] [ 0.53278837  0.66408739  0.07260837]\n"
     ]
    },
    {
     "name": "stderr",
     "output_type": "stream",
     "text": [
      "\n",
      " 90%|████████▉ | 1131/1261 [04:07<00:28,  4.57it/s]\u001b[A"
     ]
    },
    {
     "name": "stdout",
     "output_type": "stream",
     "text": [
      "fit coeffs too far off [%] [ 0.47200598  0.64288712  0.07415816]\n"
     ]
    },
    {
     "name": "stderr",
     "output_type": "stream",
     "text": [
      "\n",
      " 90%|████████▉ | 1132/1261 [04:07<00:28,  4.57it/s]\u001b[A"
     ]
    },
    {
     "name": "stdout",
     "output_type": "stream",
     "text": [
      "fit coeffs too far off [%] [ 0.29733443  0.68139519  0.10941035]\n"
     ]
    },
    {
     "name": "stderr",
     "output_type": "stream",
     "text": [
      "\n",
      " 90%|████████▉ | 1133/1261 [04:07<00:28,  4.57it/s]\u001b[A\n",
      " 90%|████████▉ | 1134/1261 [04:08<00:27,  4.57it/s]\u001b[A\n",
      " 90%|█████████ | 1135/1261 [04:08<00:27,  4.57it/s]\u001b[A\n",
      " 90%|█████████ | 1136/1261 [04:08<00:27,  4.57it/s]\u001b[A\n",
      " 90%|█████████ | 1137/1261 [04:08<00:27,  4.57it/s]\u001b[A\n",
      " 90%|█████████ | 1138/1261 [04:08<00:26,  4.57it/s]\u001b[A\n",
      " 90%|█████████ | 1139/1261 [04:09<00:26,  4.57it/s]\u001b[A\n",
      " 90%|█████████ | 1140/1261 [04:09<00:26,  4.58it/s]\u001b[A\n",
      " 90%|█████████ | 1141/1261 [04:09<00:26,  4.58it/s]\u001b[A\n",
      " 91%|█████████ | 1142/1261 [04:09<00:26,  4.58it/s]\u001b[A\n",
      " 91%|█████████ | 1143/1261 [04:09<00:25,  4.58it/s]\u001b[A\n",
      " 91%|█████████ | 1144/1261 [04:09<00:25,  4.58it/s]\u001b[A\n",
      " 91%|█████████ | 1145/1261 [04:10<00:25,  4.58it/s]\u001b[A\n",
      " 91%|█████████ | 1146/1261 [04:10<00:25,  4.58it/s]\u001b[A\n",
      " 91%|█████████ | 1147/1261 [04:10<00:24,  4.58it/s]\u001b[A\n",
      " 91%|█████████ | 1148/1261 [04:10<00:24,  4.58it/s]\u001b[A\n",
      " 91%|█████████ | 1149/1261 [04:10<00:24,  4.58it/s]\u001b[A\n",
      " 91%|█████████ | 1150/1261 [04:10<00:24,  4.58it/s]\u001b[A\n",
      " 91%|█████████▏| 1151/1261 [04:11<00:24,  4.58it/s]\u001b[A\n",
      " 91%|█████████▏| 1152/1261 [04:11<00:23,  4.58it/s]\u001b[A\n",
      " 91%|█████████▏| 1153/1261 [04:11<00:23,  4.58it/s]\u001b[A\n",
      " 92%|█████████▏| 1154/1261 [04:11<00:23,  4.58it/s]\u001b[A\n",
      " 92%|█████████▏| 1155/1261 [04:11<00:23,  4.58it/s]\u001b[A\n",
      " 92%|█████████▏| 1156/1261 [04:12<00:22,  4.58it/s]\u001b[A\n",
      " 92%|█████████▏| 1157/1261 [04:12<00:22,  4.58it/s]\u001b[A\n",
      " 92%|█████████▏| 1158/1261 [04:12<00:22,  4.58it/s]\u001b[A\n",
      " 92%|█████████▏| 1159/1261 [04:12<00:22,  4.58it/s]\u001b[A\n",
      " 92%|█████████▏| 1160/1261 [04:12<00:22,  4.59it/s]\u001b[A\n",
      " 92%|█████████▏| 1161/1261 [04:13<00:21,  4.59it/s]\u001b[A"
     ]
    },
    {
     "name": "stdout",
     "output_type": "stream",
     "text": [
      "fit coeffs too far off [%] [ 0.8526745   0.7832905   0.08119675]\n"
     ]
    },
    {
     "name": "stderr",
     "output_type": "stream",
     "text": [
      "\n",
      " 92%|█████████▏| 1162/1261 [04:13<00:21,  4.58it/s]\u001b[A"
     ]
    },
    {
     "name": "stdout",
     "output_type": "stream",
     "text": [
      "fit coeffs too far off [%] [ 0.86146102  0.70155038  0.06278404]\n"
     ]
    },
    {
     "name": "stderr",
     "output_type": "stream",
     "text": [
      "\n",
      " 92%|█████████▏| 1163/1261 [04:13<00:21,  4.58it/s]\u001b[A"
     ]
    },
    {
     "name": "stdout",
     "output_type": "stream",
     "text": [
      "fit coeffs too far off [%] [ 1.19541753  1.05825552  0.10770508]\n"
     ]
    },
    {
     "name": "stderr",
     "output_type": "stream",
     "text": [
      "\n",
      " 92%|█████████▏| 1164/1261 [04:14<00:21,  4.58it/s]\u001b[A"
     ]
    },
    {
     "name": "stdout",
     "output_type": "stream",
     "text": [
      "fit coeffs too far off [%] [ 0.98288594  1.01763274  0.11884281]\n"
     ]
    },
    {
     "name": "stderr",
     "output_type": "stream",
     "text": [
      "\n",
      " 92%|█████████▏| 1165/1261 [04:14<00:20,  4.58it/s]\u001b[A"
     ]
    },
    {
     "name": "stdout",
     "output_type": "stream",
     "text": [
      "fit coeffs too far off [%] [ 0.77817062  0.7354452   0.0753622 ]\n"
     ]
    },
    {
     "name": "stderr",
     "output_type": "stream",
     "text": [
      "\n",
      " 92%|█████████▏| 1166/1261 [04:14<00:20,  4.58it/s]\u001b[A"
     ]
    },
    {
     "name": "stdout",
     "output_type": "stream",
     "text": [
      "fit coeffs too far off [%] [ 1.28282186  1.00078896  0.08879063]\n"
     ]
    },
    {
     "name": "stderr",
     "output_type": "stream",
     "text": [
      "\n",
      " 93%|█████████▎| 1167/1261 [04:14<00:20,  4.58it/s]\u001b[A"
     ]
    },
    {
     "name": "stdout",
     "output_type": "stream",
     "text": [
      "fit coeffs too far off [%] [ 0.59430308  0.57856629  0.06682829]\n"
     ]
    },
    {
     "name": "stderr",
     "output_type": "stream",
     "text": [
      "\n",
      " 93%|█████████▎| 1168/1261 [04:15<00:20,  4.58it/s]\u001b[A\n",
      " 93%|█████████▎| 1169/1261 [04:15<00:20,  4.58it/s]\u001b[A\n",
      " 93%|█████████▎| 1170/1261 [04:15<00:19,  4.58it/s]\u001b[A\n",
      " 93%|█████████▎| 1171/1261 [04:15<00:19,  4.58it/s]\u001b[A\n",
      " 93%|█████████▎| 1172/1261 [04:15<00:19,  4.58it/s]\u001b[A\n",
      " 93%|█████████▎| 1173/1261 [04:16<00:19,  4.58it/s]\u001b[A\n",
      " 93%|█████████▎| 1174/1261 [04:16<00:18,  4.58it/s]\u001b[A\n",
      " 93%|█████████▎| 1175/1261 [04:16<00:18,  4.58it/s]\u001b[A\n",
      " 93%|█████████▎| 1176/1261 [04:16<00:18,  4.58it/s]\u001b[A\n",
      " 93%|█████████▎| 1177/1261 [04:16<00:18,  4.58it/s]\u001b[A\n",
      " 93%|█████████▎| 1178/1261 [04:17<00:18,  4.58it/s]\u001b[A\n",
      " 93%|█████████▎| 1179/1261 [04:17<00:17,  4.58it/s]\u001b[A\n",
      " 94%|█████████▎| 1180/1261 [04:17<00:17,  4.58it/s]\u001b[A\n",
      " 94%|█████████▎| 1181/1261 [04:17<00:17,  4.58it/s]\u001b[A\n",
      " 94%|█████████▎| 1182/1261 [04:17<00:17,  4.58it/s]\u001b[A\n",
      " 94%|█████████▍| 1183/1261 [04:18<00:17,  4.58it/s]\u001b[A\n",
      " 94%|█████████▍| 1184/1261 [04:18<00:16,  4.58it/s]\u001b[A\n",
      " 94%|█████████▍| 1185/1261 [04:18<00:16,  4.58it/s]\u001b[A"
     ]
    },
    {
     "name": "stdout",
     "output_type": "stream",
     "text": [
      "fit coeffs too far off [%] [ 0.8228408   0.25719762  0.03734676]\n"
     ]
    },
    {
     "name": "stderr",
     "output_type": "stream",
     "text": [
      "\n",
      " 94%|█████████▍| 1186/1261 [04:18<00:16,  4.58it/s]\u001b[A"
     ]
    },
    {
     "name": "stdout",
     "output_type": "stream",
     "text": [
      "fit coeffs too far off [%] [ 0.87164766  0.20694816  0.02005368]\n"
     ]
    },
    {
     "name": "stderr",
     "output_type": "stream",
     "text": [
      "\n",
      " 94%|█████████▍| 1187/1261 [04:18<00:16,  4.58it/s]\u001b[A"
     ]
    },
    {
     "name": "stdout",
     "output_type": "stream",
     "text": [
      "fit coeffs too far off [%] [ 0.87550668  0.20942046  0.0217217 ]\n"
     ]
    },
    {
     "name": "stderr",
     "output_type": "stream",
     "text": [
      "\n",
      " 94%|█████████▍| 1188/1261 [04:19<00:15,  4.58it/s]\u001b[A"
     ]
    },
    {
     "name": "stdout",
     "output_type": "stream",
     "text": [
      "fit coeffs too far off [%] [ 1.0604246   0.2939376   0.03017601]\n"
     ]
    },
    {
     "name": "stderr",
     "output_type": "stream",
     "text": [
      "\n",
      " 94%|█████████▍| 1189/1261 [04:19<00:15,  4.58it/s]\u001b[A"
     ]
    },
    {
     "name": "stdout",
     "output_type": "stream",
     "text": [
      "fit coeffs too far off [%] [ 1.04239592  0.22501107  0.00763097]\n"
     ]
    },
    {
     "name": "stderr",
     "output_type": "stream",
     "text": [
      "\n",
      " 94%|█████████▍| 1190/1261 [04:19<00:15,  4.58it/s]\u001b[A"
     ]
    },
    {
     "name": "stdout",
     "output_type": "stream",
     "text": [
      "fit coeffs too far off [%] [ 1.08314872  0.32777914  0.02831849]\n"
     ]
    },
    {
     "name": "stderr",
     "output_type": "stream",
     "text": [
      "\n",
      " 94%|█████████▍| 1191/1261 [04:20<00:15,  4.58it/s]\u001b[A"
     ]
    },
    {
     "name": "stdout",
     "output_type": "stream",
     "text": [
      "fit coeffs too far off [%] [ 1.11319283  0.34314252  0.02570456]\n"
     ]
    },
    {
     "name": "stderr",
     "output_type": "stream",
     "text": [
      "\n",
      " 95%|█████████▍| 1192/1261 [04:20<00:15,  4.58it/s]\u001b[A\n",
      " 95%|█████████▍| 1193/1261 [04:20<00:14,  4.58it/s]\u001b[A\n",
      " 95%|█████████▍| 1194/1261 [04:20<00:14,  4.58it/s]\u001b[A\n",
      " 95%|█████████▍| 1195/1261 [04:20<00:14,  4.58it/s]\u001b[A\n",
      " 95%|█████████▍| 1196/1261 [04:21<00:14,  4.58it/s]\u001b[A\n",
      " 95%|█████████▍| 1197/1261 [04:21<00:13,  4.58it/s]\u001b[A\n",
      " 95%|█████████▌| 1198/1261 [04:21<00:13,  4.58it/s]\u001b[A\n",
      " 95%|█████████▌| 1199/1261 [04:21<00:13,  4.58it/s]\u001b[A\n",
      " 95%|█████████▌| 1200/1261 [04:21<00:13,  4.58it/s]\u001b[A\n",
      " 95%|█████████▌| 1201/1261 [04:22<00:13,  4.58it/s]\u001b[A\n",
      " 95%|█████████▌| 1202/1261 [04:22<00:12,  4.58it/s]\u001b[A\n",
      " 95%|█████████▌| 1203/1261 [04:22<00:12,  4.58it/s]\u001b[A\n",
      " 95%|█████████▌| 1204/1261 [04:22<00:12,  4.58it/s]\u001b[A\n",
      " 96%|█████████▌| 1205/1261 [04:22<00:12,  4.58it/s]\u001b[A\n",
      " 96%|█████████▌| 1206/1261 [04:23<00:12,  4.58it/s]\u001b[A\n",
      " 96%|█████████▌| 1207/1261 [04:23<00:11,  4.58it/s]\u001b[A\n",
      " 96%|█████████▌| 1208/1261 [04:23<00:11,  4.58it/s]\u001b[A\n",
      " 96%|█████████▌| 1209/1261 [04:23<00:11,  4.58it/s]\u001b[A\n",
      " 96%|█████████▌| 1210/1261 [04:24<00:11,  4.58it/s]\u001b[A\n",
      " 96%|█████████▌| 1211/1261 [04:24<00:10,  4.58it/s]\u001b[A\n",
      " 96%|█████████▌| 1212/1261 [04:24<00:10,  4.59it/s]\u001b[A\n",
      " 96%|█████████▌| 1213/1261 [04:24<00:10,  4.59it/s]\u001b[A\n",
      " 96%|█████████▋| 1214/1261 [04:24<00:10,  4.59it/s]\u001b[A\n",
      " 96%|█████████▋| 1215/1261 [04:24<00:10,  4.59it/s]\u001b[A\n",
      " 96%|█████████▋| 1216/1261 [04:25<00:09,  4.59it/s]\u001b[A\n",
      " 97%|█████████▋| 1217/1261 [04:25<00:09,  4.59it/s]\u001b[A\n",
      " 97%|█████████▋| 1218/1261 [04:25<00:09,  4.59it/s]\u001b[A\n",
      " 97%|█████████▋| 1219/1261 [04:25<00:09,  4.59it/s]\u001b[A\n",
      " 97%|█████████▋| 1220/1261 [04:25<00:08,  4.59it/s]\u001b[A\n",
      " 97%|█████████▋| 1221/1261 [04:26<00:08,  4.59it/s]\u001b[A\n",
      " 97%|█████████▋| 1222/1261 [04:26<00:08,  4.59it/s]\u001b[A\n",
      " 97%|█████████▋| 1223/1261 [04:26<00:08,  4.59it/s]\u001b[A\n",
      " 97%|█████████▋| 1224/1261 [04:26<00:08,  4.59it/s]\u001b[A\n",
      " 97%|█████████▋| 1225/1261 [04:26<00:07,  4.59it/s]\u001b[A\n",
      " 97%|█████████▋| 1226/1261 [04:27<00:07,  4.59it/s]\u001b[A\n",
      " 97%|█████████▋| 1227/1261 [04:27<00:07,  4.59it/s]\u001b[A\n",
      " 97%|█████████▋| 1228/1261 [04:27<00:07,  4.59it/s]\u001b[A\n",
      " 97%|█████████▋| 1229/1261 [04:27<00:06,  4.59it/s]\u001b[A\n",
      " 98%|█████████▊| 1230/1261 [04:27<00:06,  4.59it/s]\u001b[A\n",
      " 98%|█████████▊| 1231/1261 [04:27<00:06,  4.59it/s]\u001b[A\n",
      " 98%|█████████▊| 1232/1261 [04:28<00:06,  4.59it/s]\u001b[A\n",
      " 98%|█████████▊| 1233/1261 [04:28<00:06,  4.59it/s]\u001b[A\n",
      " 98%|█████████▊| 1234/1261 [04:28<00:05,  4.59it/s]\u001b[A\n",
      " 98%|█████████▊| 1235/1261 [04:28<00:05,  4.59it/s]\u001b[A\n",
      " 98%|█████████▊| 1236/1261 [04:29<00:05,  4.59it/s]\u001b[A\n",
      " 98%|█████████▊| 1237/1261 [04:29<00:05,  4.59it/s]\u001b[A\n",
      " 98%|█████████▊| 1238/1261 [04:29<00:05,  4.60it/s]\u001b[A\n",
      " 98%|█████████▊| 1239/1261 [04:29<00:04,  4.60it/s]\u001b[A\n",
      " 98%|█████████▊| 1240/1261 [04:29<00:04,  4.59it/s]\u001b[A"
     ]
    },
    {
     "name": "stdout",
     "output_type": "stream",
     "text": [
      "fit coeffs too far off [%] [-0.74846763 -0.36487346 -0.03238399]\n"
     ]
    },
    {
     "name": "stderr",
     "output_type": "stream",
     "text": [
      "\n",
      " 98%|█████████▊| 1241/1261 [04:30<00:04,  4.59it/s]\u001b[A\n",
      " 98%|█████████▊| 1242/1261 [04:30<00:04,  4.59it/s]\u001b[A"
     ]
    },
    {
     "name": "stdout",
     "output_type": "stream",
     "text": [
      "fit coeffs too far off [%] [-0.70479298 -0.35813529 -0.02680509]\n"
     ]
    },
    {
     "name": "stderr",
     "output_type": "stream",
     "text": [
      "\n",
      " 99%|█████████▊| 1243/1261 [04:30<00:03,  4.59it/s]\u001b[A\n",
      " 99%|█████████▊| 1244/1261 [04:30<00:03,  4.59it/s]\u001b[A\n",
      " 99%|█████████▊| 1245/1261 [04:31<00:03,  4.59it/s]\u001b[A\n",
      " 99%|█████████▉| 1246/1261 [04:31<00:03,  4.59it/s]\u001b[A\n",
      " 99%|█████████▉| 1247/1261 [04:31<00:03,  4.59it/s]\u001b[A\n",
      " 99%|█████████▉| 1248/1261 [04:31<00:02,  4.59it/s]\u001b[A"
     ]
    },
    {
     "name": "stdout",
     "output_type": "stream",
     "text": [
      "fit coeffs too far off [%] [-1.22983569 -0.50626223 -0.03380501]\n"
     ]
    },
    {
     "name": "stderr",
     "output_type": "stream",
     "text": [
      "\n",
      " 99%|█████████▉| 1249/1261 [04:31<00:02,  4.59it/s]\u001b[A"
     ]
    },
    {
     "name": "stdout",
     "output_type": "stream",
     "text": [
      "fit coeffs too far off [%] [-1.13790644 -0.54854572 -0.04036338]\n"
     ]
    },
    {
     "name": "stderr",
     "output_type": "stream",
     "text": [
      "\n",
      " 99%|█████████▉| 1250/1261 [04:32<00:02,  4.59it/s]\u001b[A"
     ]
    },
    {
     "name": "stdout",
     "output_type": "stream",
     "text": [
      "fit coeffs too far off [%] [-0.70504057 -0.45773014 -0.04310987]\n"
     ]
    },
    {
     "name": "stderr",
     "output_type": "stream",
     "text": [
      "\n",
      " 99%|█████████▉| 1251/1261 [04:32<00:02,  4.59it/s]\u001b[A"
     ]
    },
    {
     "name": "stdout",
     "output_type": "stream",
     "text": [
      "fit coeffs too far off [%] [-0.8350466  -0.4038549  -0.02974971]\n"
     ]
    },
    {
     "name": "stderr",
     "output_type": "stream",
     "text": [
      "\n",
      " 99%|█████████▉| 1252/1261 [04:32<00:01,  4.59it/s]\u001b[A\n",
      " 99%|█████████▉| 1253/1261 [04:32<00:01,  4.59it/s]\u001b[A"
     ]
    },
    {
     "name": "stdout",
     "output_type": "stream",
     "text": [
      "fit coeffs too far off [%] [ 3.05020552  0.15712578 -0.0197822 ]\n"
     ]
    },
    {
     "name": "stderr",
     "output_type": "stream",
     "text": [
      "\n",
      " 99%|█████████▉| 1254/1261 [04:33<00:01,  4.59it/s]\u001b[A"
     ]
    },
    {
     "name": "stdout",
     "output_type": "stream",
     "text": [
      "fit coeffs too far off [%] [-0.05581625 -0.60034513 -0.05831744]\n",
      "fit coeffs too far off [%] [ 1.07824289 -0.01318555 -0.0148478 ]\n"
     ]
    },
    {
     "name": "stderr",
     "output_type": "stream",
     "text": [
      "\n",
      "100%|█████████▉| 1255/1261 [04:33<00:01,  4.59it/s]\u001b[A"
     ]
    },
    {
     "name": "stdout",
     "output_type": "stream",
     "text": [
      "fit coeffs too far off [%] [-0.27985066 -0.65757325 -0.0527105 ]\n",
      "fit coeffs too far off [%] [-0.84789459 -0.41341013 -0.0268887 ]\n"
     ]
    },
    {
     "name": "stderr",
     "output_type": "stream",
     "text": [
      "\n",
      "100%|█████████▉| 1256/1261 [04:33<00:01,  4.58it/s]\u001b[A"
     ]
    },
    {
     "name": "stdout",
     "output_type": "stream",
     "text": [
      "fit coeffs too far off [%] [-0.13629083 -0.74943717 -0.0658359 ]\n"
     ]
    },
    {
     "name": "stderr",
     "output_type": "stream",
     "text": [
      "\n",
      "100%|█████████▉| 1257/1261 [04:34<00:00,  4.58it/s]\u001b[A"
     ]
    },
    {
     "name": "stdout",
     "output_type": "stream",
     "text": [
      "fit coeffs too far off [%] [-0.32682305 -0.94576834 -0.07455485]\n",
      "fit coeffs too far off [%] [ 0.8592405   0.02197109 -0.01405856]\n"
     ]
    },
    {
     "name": "stderr",
     "output_type": "stream",
     "text": [
      "\n",
      "100%|█████████▉| 1258/1261 [04:34<00:00,  4.58it/s]\u001b[A"
     ]
    },
    {
     "name": "stdout",
     "output_type": "stream",
     "text": [
      "fit coeffs too far off [%] [-0.71758424 -1.17985662 -0.06949378]\n",
      "fit coeffs too far off [%] [  1.30615563e+00   4.32881275e-01   4.35796553e-04]\n"
     ]
    },
    {
     "name": "stderr",
     "output_type": "stream",
     "text": [
      "\n",
      "100%|█████████▉| 1259/1261 [04:34<00:00,  4.58it/s]\u001b[A"
     ]
    },
    {
     "name": "stdout",
     "output_type": "stream",
     "text": [
      "fit coeffs too far off [%] [-0.92415407 -1.7138794  -0.09431426]\n"
     ]
    },
    {
     "name": "stderr",
     "output_type": "stream",
     "text": [
      "\n",
      "100%|█████████▉| 1260/1261 [04:35<00:00,  4.58it/s]\u001b[A\n",
      "\u001b[A"
     ]
    },
    {
     "name": "stdout",
     "output_type": "stream",
     "text": [
      "fit coeffs too far off [%] [-1.44289114 -2.43349113 -0.11115221]\n",
      "fit coeffs too far off [%] [-1.29702453 -0.72720011 -0.0209715 ]\n",
      "[MoviePy] Done.\n",
      "[MoviePy] >>>> Video ready: ./processed_project_video.mp4 \n",
      "\n",
      "CPU times: user 27min 53s, sys: 7min 41s, total: 35min 35s\n",
      "Wall time: 4min 35s\n"
     ]
    }
   ],
   "source": [
    "left = Line(7)\n",
    "right = Line(7)\n",
    "\n",
    "out_dir='./'\n",
    "output = out_dir+'processed_project_video.mp4'\n",
    "clip = VideoFileClip(\"project_video.mp4\")\n",
    "out_clip = clip.fl_image(process_image) \n",
    "%time out_clip.write_videofile(output, audio=False)"
   ]
  },
  {
   "cell_type": "code",
   "execution_count": null,
   "metadata": {},
   "outputs": [],
   "source": []
  }
 ],
 "metadata": {
  "anaconda-cloud": {},
  "kernelspec": {
   "display_name": "Python 3",
   "language": "python",
   "name": "python3"
  },
  "language_info": {
   "codemirror_mode": {
    "name": "ipython",
    "version": 3
   },
   "file_extension": ".py",
   "mimetype": "text/x-python",
   "name": "python",
   "nbconvert_exporter": "python",
   "pygments_lexer": "ipython3",
   "version": "3.5.5"
  }
 },
 "nbformat": 4,
 "nbformat_minor": 1
}
